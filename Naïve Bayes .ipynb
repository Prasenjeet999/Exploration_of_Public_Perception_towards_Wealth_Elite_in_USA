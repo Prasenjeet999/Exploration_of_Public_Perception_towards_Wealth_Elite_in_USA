{
 "cells": [
  {
   "cell_type": "markdown",
   "id": "030f2965",
   "metadata": {},
   "source": [
    "Importing Libraries"
   ]
  },
  {
   "cell_type": "code",
   "execution_count": 6,
   "id": "bc3bdc45",
   "metadata": {},
   "outputs": [],
   "source": [
    "import pandas as pd\n",
    "import numpy as np\n",
    "import re\n",
    "import string\n",
    "from nltk.corpus import stopwords\n",
    "from nltk.stem import WordNetLemmatizer\n",
    "from sklearn.model_selection import train_test_split\n",
    "from sklearn.feature_extraction.text import TfidfVectorizer\n",
    "from sklearn.naive_bayes import MultinomialNB\n",
    "from sklearn.metrics import confusion_matrix, accuracy_score\n",
    "import matplotlib.pyplot as plt\n",
    "import seaborn as sns"
   ]
  },
  {
   "cell_type": "markdown",
   "id": "f647e22b",
   "metadata": {},
   "source": [
    "Loading Data and Preprocessing"
   ]
  },
  {
   "cell_type": "code",
   "execution_count": 7,
   "id": "d6b1070b",
   "metadata": {},
   "outputs": [],
   "source": [
    "# Load the data\n",
    "data = pd.read_csv('Comment_Data.csv')\n",
    "\n",
    "# Text preprocessing function\n",
    "def preprocess_text(text):\n",
    "    # Check if the input is a string, otherwise return an empty string\n",
    "    if not isinstance(text, str):\n",
    "        return ''\n",
    "    # Lowercase the text\n",
    "    text = text.lower()\n",
    "    \n",
    "    # Remove special characters and digits\n",
    "    text = re.sub(r'[^a-z]+', ' ', text)\n",
    "    \n",
    "    # Tokenize the words\n",
    "    words = text.split()\n",
    "    \n",
    "    # Remove stopwords\n",
    "    stop_words = set(stopwords.words('english'))\n",
    "    words = [word for word in words if word not in stop_words]\n",
    "    \n",
    "    # Lemmatize the words\n",
    "    lemmatizer = WordNetLemmatizer()\n",
    "    words = [lemmatizer.lemmatize(word) for word in words]\n",
    "    \n",
    "    # Join the words back into a single string\n",
    "    text = ' '.join(words)\n",
    "    \n",
    "    return text\n",
    "\n",
    "# Preprocess the data\n",
    "data['comment'] = data['comment'].apply(preprocess_text)"
   ]
  },
  {
   "cell_type": "markdown",
   "id": "84327635",
   "metadata": {},
   "source": [
    "Splitting the data in Training and Testing Data"
   ]
  },
  {
   "cell_type": "code",
   "execution_count": 8,
   "id": "2babe2ed",
   "metadata": {},
   "outputs": [],
   "source": [
    "# Split the data into Training and Testing sets\n",
    "X = data['comment']\n",
    "y = data['label']\n",
    "X_train, X_test, y_train, y_test = train_test_split(X, y, test_size=0.2, random_state=42)\n"
   ]
  },
  {
   "cell_type": "code",
   "execution_count": 9,
   "id": "14b400d8",
   "metadata": {
    "scrolled": true
   },
   "outputs": [
    {
     "name": "stdout",
     "output_type": "stream",
     "text": [
      "232    waste management seems like right oracle omaha...\n",
      "59     twitter engineer told verge elon musk appear u...\n",
      "6      twitter working expensive blue subscription ti...\n",
      "185    washington post sale spokespeople newspaper ow...\n",
      "173    ltima aventura empresarial embarcado bill gate...\n",
      "                             ...                        \n",
      "188    amazon founder need part business order finall...\n",
      "71     esther crawford introduced elon musk twitter c...\n",
      "106    company sell flying motorbike listed nasdaq me...\n",
      "270               buffett said idiot buying stock sooner\n",
      "102    first interview since relationship billionaire...\n",
      "Name: comment, Length: 240, dtype: object 203    insider zahra tayeb asked chatgpt personality ...\n",
      "266                     investing tip investor long term\n",
      "152    could evolution rise technology ever changing ...\n",
      "9      elon musk lying last october told bloomberg pe...\n",
      "233         warren buffett stock problem financial trend\n",
      "226    brett harrison said saturday bankman fried res...\n",
      "196    think jeff bezos amazon world third richest gi...\n",
      "109    thirteen percent former employee consulting fi...\n",
      "5      twitter elon musk announced making twitter acc...\n",
      "175    none medium personality lauren nchez publicall...\n",
      "237    warren buffett know looking stock amazon delivers\n",
      "57     elon musk testified second shareholder trial b...\n",
      "218    insider hallam bullock rounded market story in...\n",
      "45     tesla strongly belief global warming controver...\n",
      "182    jeff bezos amazon reportedly planning launch i...\n",
      "221    retail investor shifting away yolo trading str...\n",
      "289    financial world mired fear good time consider ...\n",
      "211    buffett ongoing share sale weighed stock price...\n",
      "148    york shedding light nation wealthiest avoided ...\n",
      "165    prime video voile nouveau programme original p...\n",
      "78     elon musk said tesla master plan focus fully s...\n",
      "113    really jeff bezos luthor paper resume fit bill...\n",
      "249    speculate oracle omaha become le enamored company\n",
      "250                       sometimes bigger always better\n",
      "104    nchez former journalist collaborates philanthr...\n",
      "42     elon musk tweeted friday legacy twitter blue c...\n",
      "281    buffett stock stand clear buy year another hol...\n",
      "295          stock tanked analyst lofty expectation year\n",
      "157    mois mar serum charg pour plateforme streaming...\n",
      "238                warren buffett pay attention investor\n",
      "17     rumor tesla facing justice department investig...\n",
      "164    prime video joue marvel cinematic universe uni...\n",
      "33     tesla founder hope rise revenue advertising do...\n",
      "24     twitter blue arrived android like cost month s...\n",
      "215    berkshire hathaway share gained last year thou...\n",
      "119    berkshire hathaway share gained last year thou...\n",
      "7      steadily increasing price past couple year tes...\n",
      "90     elon musk quick refute report looking raise fu...\n",
      "46     despite recent criticism musk time seemed comp...\n",
      "73     tencent chief exploration officer said elon mu...\n",
      "93     jack sweeney relied data site called exchange ...\n",
      "76     elon musk testified civil trial joking share p...\n",
      "286    buffett longtime business partner charlie mung...\n",
      "60     since elon musk took twitter late october laid...\n",
      "77     jeffries analyst philippe houchois warned inte...\n",
      "63     elon musk said last month invited declined con...\n",
      "234    stock market hammered last year warren buffett...\n",
      "229    name floated potential head social medium plat...\n",
      "111    washington post tuesday began laying staffer p...\n",
      "231    value etf serious profit time value investing ...\n",
      "180    barack obama presidential library released beh...\n",
      "144    departing humble company soared stunning succe...\n",
      "239    warren buffett cathie wood investor retail tra...\n",
      "75     elon musk turned drama gave investor rosy pict...\n",
      "297    whether investing decade experience following ...\n",
      "278    warren buffett company berkshire hathaway grea...\n",
      "97     since musk took twitter spreading conspiracy t...\n",
      "92     elon musk predicted week tesla valuable compan...\n",
      "192    lauren sanchez planning follow footstep billio...\n",
      "25     elon musk spacex willing supply ukraine starli...\n",
      "Name: comment, dtype: object 232    buffett\n",
      "59        musk\n",
      "6         musk\n",
      "185      bezos\n",
      "173      bezos\n",
      "        ...   \n",
      "188      bezos\n",
      "71        musk\n",
      "106      bezos\n",
      "270    buffett\n",
      "102      bezos\n",
      "Name: label, Length: 240, dtype: object 203    buffett\n",
      "266    buffett\n",
      "152      bezos\n",
      "9         musk\n",
      "233    buffett\n",
      "226    buffett\n",
      "196      bezos\n",
      "109      bezos\n",
      "5         musk\n",
      "175      bezos\n",
      "237    buffett\n",
      "57        musk\n",
      "218    buffett\n",
      "45        musk\n",
      "182      bezos\n",
      "221    buffett\n",
      "289    buffett\n",
      "211    buffett\n",
      "148      bezos\n",
      "165      bezos\n",
      "78        musk\n",
      "113      bezos\n",
      "249    buffett\n",
      "250    buffett\n",
      "104      bezos\n",
      "42        musk\n",
      "281    buffett\n",
      "295    buffett\n",
      "157      bezos\n",
      "238    buffett\n",
      "17        musk\n",
      "164      bezos\n",
      "33        musk\n",
      "24        musk\n",
      "215    buffett\n",
      "119      bezos\n",
      "7         musk\n",
      "90        musk\n",
      "46        musk\n",
      "73        musk\n",
      "93        musk\n",
      "76        musk\n",
      "286    buffett\n",
      "60        musk\n",
      "77        musk\n",
      "63        musk\n",
      "234    buffett\n",
      "229    buffett\n",
      "111      bezos\n",
      "231    buffett\n",
      "180      bezos\n",
      "144      bezos\n",
      "239    buffett\n",
      "75        musk\n",
      "297    buffett\n",
      "278    buffett\n",
      "97        musk\n",
      "92        musk\n",
      "192      bezos\n",
      "25        musk\n",
      "Name: label, dtype: object\n"
     ]
    }
   ],
   "source": [
    "print(X_train, X_test, y_train, y_test)"
   ]
  },
  {
   "cell_type": "code",
   "execution_count": 10,
   "id": "b5b3b15e",
   "metadata": {},
   "outputs": [],
   "source": [
    "# Convert text data to numerical features\n",
    "vectorizer = TfidfVectorizer()\n",
    "X_train_vectorized = vectorizer.fit_transform(X_train)\n",
    "X_test_vectorized = vectorizer.transform(X_test)\n"
   ]
  },
  {
   "cell_type": "code",
   "execution_count": 13,
   "id": "dada6a59",
   "metadata": {
    "scrolled": true
   },
   "outputs": [
    {
     "name": "stdout",
     "output_type": "stream",
     "text": [
      "     abandoned  ability  able  abonn  abonnement  abruptly  abused  access  \\\n",
      "0          0.0      0.0   0.0    0.0         0.0       0.0     0.0     0.0   \n",
      "1          0.0      0.0   0.0    0.0         0.0       0.0     0.0     0.0   \n",
      "2          0.0      0.0   0.0    0.0         0.0       0.0     0.0     0.0   \n",
      "3          0.0      0.0   0.0    0.0         0.0       0.0     0.0     0.0   \n",
      "4          0.0      0.0   0.0    0.0         0.0       0.0     0.0     0.0   \n",
      "..         ...      ...   ...    ...         ...       ...     ...     ...   \n",
      "235        0.0      0.0   0.0    0.0         0.0       0.0     0.0     0.0   \n",
      "236        0.0      0.0   0.0    0.0         0.0       0.0     0.0     0.0   \n",
      "237        0.0      0.0   0.0    0.0         0.0       0.0     0.0     0.0   \n",
      "238        0.0      0.0   0.0    0.0         0.0       0.0     0.0     0.0   \n",
      "239        0.0      0.0   0.0    0.0         0.0       0.0     0.0     0.0   \n",
      "\n",
      "     accordi  according  ...  wreckage  wrote  yami  year  yearly      york  \\\n",
      "0        0.0        0.0  ...       0.0    0.0   0.0   0.0     0.0  0.000000   \n",
      "1        0.0        0.0  ...       0.0    0.0   0.0   0.0     0.0  0.000000   \n",
      "2        0.0        0.0  ...       0.0    0.0   0.0   0.0     0.0  0.000000   \n",
      "3        0.0        0.0  ...       0.0    0.0   0.0   0.0     0.0  0.187406   \n",
      "4        0.0        0.0  ...       0.0    0.0   0.0   0.0     0.0  0.000000   \n",
      "..       ...        ...  ...       ...    ...   ...   ...     ...       ...   \n",
      "235      0.0        0.0  ...       0.0    0.0   0.0   0.0     0.0  0.000000   \n",
      "236      0.0        0.0  ...       0.0    0.0   0.0   0.0     0.0  0.000000   \n",
      "237      0.0        0.0  ...       0.0    0.0   0.0   0.0     0.0  0.000000   \n",
      "238      0.0        0.0  ...       0.0    0.0   0.0   0.0     0.0  0.000000   \n",
      "239      0.0        0.0  ...       0.0    0.0   0.0   0.0     0.0  0.000000   \n",
      "\n",
      "     yous  zero  zhou  zuckerberg  \n",
      "0     0.0   0.0   0.0         0.0  \n",
      "1     0.0   0.0   0.0         0.0  \n",
      "2     0.0   0.0   0.0         0.0  \n",
      "3     0.0   0.0   0.0         0.0  \n",
      "4     0.0   0.0   0.0         0.0  \n",
      "..    ...   ...   ...         ...  \n",
      "235   0.0   0.0   0.0         0.0  \n",
      "236   0.0   0.0   0.0         0.0  \n",
      "237   0.0   0.0   0.0         0.0  \n",
      "238   0.0   0.0   0.0         0.0  \n",
      "239   0.0   0.0   0.0         0.0  \n",
      "\n",
      "[240 rows x 1705 columns]\n"
     ]
    },
    {
     "name": "stderr",
     "output_type": "stream",
     "text": [
      "C:\\Users\\jeetp\\anaconda3\\lib\\site-packages\\sklearn\\utils\\deprecation.py:87: FutureWarning: Function get_feature_names is deprecated; get_feature_names is deprecated in 1.0 and will be removed in 1.2. Please use get_feature_names_out instead.\n",
      "  warnings.warn(msg, category=FutureWarning)\n"
     ]
    }
   ],
   "source": [
    "X_train_df = pd.DataFrame(X_train_vectorized.toarray(), columns=vectorizer.get_feature_names())\n",
    "\n",
    "print(X_train_df)"
   ]
  },
  {
   "cell_type": "code",
   "execution_count": null,
   "id": "7aadabd8",
   "metadata": {},
   "outputs": [],
   "source": [
    "# Train the Naïve Bayes model\n",
    "nb_classifier = MultinomialNB()\n",
    "nb_classifier.fit(X_train_vectorized, y_train)\n",
    "\n",
    "# Test the model on the Testing Set\n",
    "y_pred = nb_classifier.predict(X_test_vectorized)\n",
    "\n",
    "# Evaluate the model\n",
    "conf_matrix = confusion_matrix(y_test, y_pred)\n",
    "accuracy = accuracy_score(y_test, y_pred)\n",
    "\n",
    "print(\"Confusion Matrix:\\n\", conf_matrix)\n",
    "print(\"Accuracy:\", accuracy)\n",
    "\n",
    "# Visualize the confusion matrix\n",
    "plt.figure(figsize=(8, 6))\n",
    "sns.heatmap(conf_matrix, annot=True, fmt='d', cmap='Blues', xticklabels=['musk', 'bezos', 'buffett'], yticklabels=['musk', 'bezos', 'buffett'])\n",
    "plt.xlabel('Predicted')\n",
    "plt.ylabel('True')\n",
    "plt.show()"
   ]
  },
  {
   "cell_type": "markdown",
   "id": "f2941c32",
   "metadata": {},
   "source": [
    "Percentage wise Confusion Matrix"
   ]
  },
  {
   "cell_type": "code",
   "execution_count": 5,
   "id": "9b7ee510",
   "metadata": {},
   "outputs": [
    {
     "data": {
      "image/png": "[encoded data removed]",
      "text/plain": [
       "<Figure size 576x432 with 2 Axes>"
      ]
     },
     "metadata": {
      "needs_background": "light"
     },
     "output_type": "display_data"
    }
   ],
   "source": [
    "# Calculate the percentage confusion matrix\n",
    "conf_matrix_percentage = conf_matrix / conf_matrix.sum(axis=1)[:, np.newaxis]\n",
    "conf_matrix_percentage = np.round(conf_matrix_percentage * 100, 2)\n",
    "\n",
    "# Visualize the percentage confusion matrix\n",
    "plt.figure(figsize=(8, 6))\n",
    "sns.heatmap(conf_matrix_percentage, annot=True, fmt='.2f', cmap='viridis', xticklabels=['musk', 'bezos', 'buffett'], yticklabels=['musk', 'bezos', 'buffett'])\n",
    "plt.xlabel('Predicted')\n",
    "plt.ylabel('True')\n",
    "plt.title('Confusion Matrix (Percentage)')\n",
    "plt.show()\n"
   ]
  },
  {
   "cell_type": "code",
   "execution_count": null,
   "id": "a2001fe7",
   "metadata": {},
   "outputs": [],
   "source": []
  }
 ],
 "metadata": {
  "kernelspec": {
   "display_name": "Python 3 (ipykernel)",
   "language": "python",
   "name": "python3"
  },
  "language_info": {
   "codemirror_mode": {
    "name": "ipython",
    "version": 3
   },
   "file_extension": ".py",
   "mimetype": "text/x-python",
   "name": "python",
   "nbconvert_exporter": "python",
   "pygments_lexer": "ipython3",
   "version": "3.9.12"
  }
 },
 "nbformat": 4,
 "nbformat_minor": 5
}
