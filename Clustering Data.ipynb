{
 "cells": [
  {
   "cell_type": "markdown",
   "id": "3abc60ff",
   "metadata": {},
   "source": [
    "## Importing Libraries"
   ]
  },
  {
   "cell_type": "code",
   "execution_count": 21,
   "id": "b746e92c",
   "metadata": {},
   "outputs": [],
   "source": [
    "#Importing the Libraries\n",
    "import pandas as pd\n",
    "import numpy as np\n",
    "import seaborn as sns\n",
    "import matplotlib.pyplot as plt\n",
    "\n",
    "import pandas as pd\n",
    "import numpy as np\n",
    "import seaborn as sns\n",
    "import matplotlib.pyplot as plt\n",
    "from sklearn.feature_extraction.text import CountVectorizer\n",
    "import nltk \n",
    "import string\n",
    "import re\n",
    "%matplotlib inline\n",
    "pd.set_option('display.max_colwidth', 100)\n",
    "\n",
    "from nltk.tokenize import sent_tokenize, word_tokenize\n",
    "from nltk.corpus import stopwords\n",
    "\n",
    "from nltk.corpus import stopwords\n",
    "\n",
    "import re\n",
    "import pandas as pd\n",
    "import nltk\n",
    "import string\n",
    "## To tokenize and vectorize text type data\n",
    "from sklearn.feature_extraction.text import CountVectorizer\n",
    "import numpy as np\n",
    "## For word clouds\n",
    "## conda install -c conda-forge wordcloud\n",
    "## May also have to run conda update --all on cmd\n",
    "#import PIL\n",
    "#import Pillow\n",
    "#import wordcloud\n",
    "from wordcloud import WordCloud, STOPWORDS\n",
    "import matplotlib.pyplot as plt"
   ]
  },
  {
   "cell_type": "code",
   "execution_count": 107,
   "id": "23f9b1af",
   "metadata": {},
   "outputs": [],
   "source": [
    "## From Dr. Gates Code {Not required till Word Cloud}\n",
    "\n",
    "import requests  ## for getting data from a server\n",
    "import re   ## for regular expressions\n",
    "import pandas as pd    ## for dataframes and related\n",
    "from pandas import DataFrame\n",
    "\n",
    "## To tokenize and vectorize text type data\n",
    "from sklearn.feature_extraction.text import CountVectorizer\n",
    "import numpy as np\n",
    "## For word clouds\n",
    "## conda install -c conda-forge wordcloud\n",
    "## May also have to run conda update --all on cmd\n",
    "#import PIL\n",
    "#import Pillow\n",
    "#import wordcloud\n",
    "from wordcloud import WordCloud, STOPWORDS\n",
    "import matplotlib.pyplot as plt\n",
    "\n",
    "\n",
    "from sklearn.model_selection import train_test_split\n",
    "import random as rd\n",
    "from sklearn.naive_bayes import MultinomialNB\n",
    "from sklearn.metrics import confusion_matrix\n",
    "#from sklearn.naive_bayes import BernoulliNB\n",
    "from sklearn.tree import DecisionTreeClassifier, plot_tree\n",
    "from sklearn import tree\n",
    "## conda install python-graphviz\n",
    "## restart kernel (click the little red x next to the Console)\n",
    "import graphviz\n",
    "\n",
    "from sklearn.decomposition import LatentDirichletAllocation \n",
    "import matplotlib.pyplot as plt\n",
    "import numpy as np\n",
    "\n",
    "from sklearn.metrics import silhouette_samples, silhouette_score\n",
    "import sklearn\n",
    "from sklearn.cluster import KMeans\n",
    "\n",
    "from sklearn import preprocessing\n",
    "\n",
    "import seaborn as sns\n",
    "import numpy as np\n",
    "import pandas as pd\n",
    "from sklearn.metrics.pairwise import euclidean_distances\n",
    "from sklearn.metrics.pairwise import cosine_similarity\n",
    "import matplotlib.pyplot as plt\n",
    "from sklearn.manifold import MDS\n",
    "from mpl_toolkits.mplot3d import Axes3D\n",
    "from scipy.cluster.hierarchy import ward, dendrogram"
   ]
  },
  {
   "cell_type": "markdown",
   "id": "7b08921a",
   "metadata": {},
   "source": [
    "## Loading All Tycons Data"
   ]
  },
  {
   "cell_type": "code",
   "execution_count": 23,
   "id": "a74d0357",
   "metadata": {},
   "outputs": [
    {
     "data": {
      "text/html": [
       "<div>\n",
       "<style scoped>\n",
       "    .dataframe tbody tr th:only-of-type {\n",
       "        vertical-align: middle;\n",
       "    }\n",
       "\n",
       "    .dataframe tbody tr th {\n",
       "        vertical-align: top;\n",
       "    }\n",
       "\n",
       "    .dataframe thead th {\n",
       "        text-align: right;\n",
       "    }\n",
       "</style>\n",
       "<table border=\"1\" class=\"dataframe\">\n",
       "  <thead>\n",
       "    <tr style=\"text-align: right;\">\n",
       "      <th></th>\n",
       "      <th>LABEL</th>\n",
       "      <th>Date</th>\n",
       "      <th>Source</th>\n",
       "      <th>Title</th>\n",
       "      <th>Headline</th>\n",
       "    </tr>\n",
       "  </thead>\n",
       "  <tbody>\n",
       "    <tr>\n",
       "      <th>0</th>\n",
       "      <td>Elon Musk</td>\n",
       "      <td>2023-01-23</td>\n",
       "      <td>Wired</td>\n",
       "      <td>Tesla s Problems Go Way Beyond Elon Musk</td>\n",
       "      <td>giant alienating customers bringing less revenue falling behind legacy carmakers</td>\n",
       "    </tr>\n",
       "    <tr>\n",
       "      <th>1</th>\n",
       "      <td>Elon Musk</td>\n",
       "      <td>2023-01-21</td>\n",
       "      <td>Engadget</td>\n",
       "      <td>Elon Musk defends funding secured tweets in Tesla shareholder trial</td>\n",
       "      <td>Elon Musk said that just because tweets something does mean people believe will accordingly Tesl...</td>\n",
       "    </tr>\n",
       "    <tr>\n",
       "      <th>2</th>\n",
       "      <td>Elon Musk</td>\n",
       "      <td>2023-02-03</td>\n",
       "      <td>Engadget</td>\n",
       "      <td>Jury rules Elon Musk is not liable for shareholder losses after funding secured tweets</td>\n",
       "      <td>Elon Musk hook tweets claiming funding secured take Tesla private share jury found that Musk lia...</td>\n",
       "    </tr>\n",
       "    <tr>\n",
       "      <th>3</th>\n",
       "      <td>Elon Musk</td>\n",
       "      <td>2023-01-24</td>\n",
       "      <td>Engadget</td>\n",
       "      <td>Elon Musk says his SpaceX shares would ve funded his plan to take Tesla private</td>\n",
       "      <td>Elon Musk said could sold SpaceX shares take Tesla private when took witness stand again defend ...</td>\n",
       "    </tr>\n",
       "    <tr>\n",
       "      <th>4</th>\n",
       "      <td>Elon Musk</td>\n",
       "      <td>2023-02-09</td>\n",
       "      <td>Engadget</td>\n",
       "      <td>SpaceX s first attempt to fire all Starship engines at once ends with mixed results</td>\n",
       "      <td>SpaceX completed first full static fire test Starship quite that makes first orbital test flight...</td>\n",
       "    </tr>\n",
       "    <tr>\n",
       "      <th>...</th>\n",
       "      <td>...</td>\n",
       "      <td>...</td>\n",
       "      <td>...</td>\n",
       "      <td>...</td>\n",
       "      <td>...</td>\n",
       "    </tr>\n",
       "    <tr>\n",
       "      <th>495</th>\n",
       "      <td>Warren Buffett</td>\n",
       "      <td>2023-01-19</td>\n",
       "      <td>Motley Fool</td>\n",
       "      <td>Warren Buffett Stocks That Could Soar to in According to Wall Street</td>\n",
       "      <td>These stocks tanked analysts have lofty expectations this year</td>\n",
       "    </tr>\n",
       "    <tr>\n",
       "      <th>496</th>\n",
       "      <td>Warren Buffett</td>\n",
       "      <td>2023-01-23</td>\n",
       "      <td>Motley Fool</td>\n",
       "      <td>Buffett Tech Stock I Can t Get Enough Of</td>\n",
       "      <td>Fast growth free cash flow strong customer retention just reasons Snowflake stock</td>\n",
       "    </tr>\n",
       "    <tr>\n",
       "      <th>497</th>\n",
       "      <td>Warren Buffett</td>\n",
       "      <td>2023-01-10</td>\n",
       "      <td>Motley Fool</td>\n",
       "      <td>Warren Buffett Stocks Down More Than to Buy Before They Start Climbing Again</td>\n",
       "      <td>Whether investing have decades experience following Buffett lead these beaten down stocks could ...</td>\n",
       "    </tr>\n",
       "    <tr>\n",
       "      <th>498</th>\n",
       "      <td>Warren Buffett</td>\n",
       "      <td>2023-01-11</td>\n",
       "      <td>Motley Fool</td>\n",
       "      <td>Warren Buffett Stocks You Can Buy in January and Hold Forever</td>\n",
       "      <td>These stocks stand great long term buys this month</td>\n",
       "    </tr>\n",
       "    <tr>\n",
       "      <th>499</th>\n",
       "      <td>Warren Buffett</td>\n",
       "      <td>2023-01-17</td>\n",
       "      <td>Motley Fool</td>\n",
       "      <td>Dirt Cheap Warren Buffett Stock Down to Buy Before It Starts Soaring</td>\n",
       "      <td>business favor very different than peril</td>\n",
       "    </tr>\n",
       "  </tbody>\n",
       "</table>\n",
       "<p>500 rows × 5 columns</p>\n",
       "</div>"
      ],
      "text/plain": [
       "              LABEL        Date       Source  \\\n",
       "0         Elon Musk  2023-01-23        Wired   \n",
       "1         Elon Musk  2023-01-21     Engadget   \n",
       "2         Elon Musk  2023-02-03     Engadget   \n",
       "3         Elon Musk  2023-01-24     Engadget   \n",
       "4         Elon Musk  2023-02-09     Engadget   \n",
       "..              ...         ...          ...   \n",
       "495  Warren Buffett  2023-01-19  Motley Fool   \n",
       "496  Warren Buffett  2023-01-23  Motley Fool   \n",
       "497  Warren Buffett  2023-01-10  Motley Fool   \n",
       "498  Warren Buffett  2023-01-11  Motley Fool   \n",
       "499  Warren Buffett  2023-01-17  Motley Fool   \n",
       "\n",
       "                                                                                      Title  \\\n",
       "0                                                  Tesla s Problems Go Way Beyond Elon Musk   \n",
       "1                       Elon Musk defends funding secured tweets in Tesla shareholder trial   \n",
       "2    Jury rules Elon Musk is not liable for shareholder losses after funding secured tweets   \n",
       "3           Elon Musk says his SpaceX shares would ve funded his plan to take Tesla private   \n",
       "4       SpaceX s first attempt to fire all Starship engines at once ends with mixed results   \n",
       "..                                                                                      ...   \n",
       "495                    Warren Buffett Stocks That Could Soar to in According to Wall Street   \n",
       "496                                                Buffett Tech Stock I Can t Get Enough Of   \n",
       "497            Warren Buffett Stocks Down More Than to Buy Before They Start Climbing Again   \n",
       "498                           Warren Buffett Stocks You Can Buy in January and Hold Forever   \n",
       "499                    Dirt Cheap Warren Buffett Stock Down to Buy Before It Starts Soaring   \n",
       "\n",
       "                                                                                                Headline  \n",
       "0                       giant alienating customers bringing less revenue falling behind legacy carmakers  \n",
       "1    Elon Musk said that just because tweets something does mean people believe will accordingly Tesl...  \n",
       "2    Elon Musk hook tweets claiming funding secured take Tesla private share jury found that Musk lia...  \n",
       "3    Elon Musk said could sold SpaceX shares take Tesla private when took witness stand again defend ...  \n",
       "4    SpaceX completed first full static fire test Starship quite that makes first orbital test flight...  \n",
       "..                                                                                                   ...  \n",
       "495                                       These stocks tanked analysts have lofty expectations this year  \n",
       "496                    Fast growth free cash flow strong customer retention just reasons Snowflake stock  \n",
       "497  Whether investing have decades experience following Buffett lead these beaten down stocks could ...  \n",
       "498                                                   These stocks stand great long term buys this month  \n",
       "499                                                             business favor very different than peril  \n",
       "\n",
       "[500 rows x 5 columns]"
      ]
     },
     "execution_count": 23,
     "metadata": {},
     "output_type": "execute_result"
    }
   ],
   "source": [
    "df_Tycon = pd.read_csv(\"NewHeadlines_Elon.csv\",encoding=\"ISO-8859-1\")\n",
    "df_Tycon"
   ]
  },
  {
   "cell_type": "markdown",
   "id": "80b3dad7",
   "metadata": {},
   "source": [
    "## Keeping only Headlines"
   ]
  },
  {
   "cell_type": "code",
   "execution_count": 38,
   "id": "004c3642",
   "metadata": {},
   "outputs": [
    {
     "data": {
      "text/html": [
       "<div>\n",
       "<style scoped>\n",
       "    .dataframe tbody tr th:only-of-type {\n",
       "        vertical-align: middle;\n",
       "    }\n",
       "\n",
       "    .dataframe tbody tr th {\n",
       "        vertical-align: top;\n",
       "    }\n",
       "\n",
       "    .dataframe thead th {\n",
       "        text-align: right;\n",
       "    }\n",
       "</style>\n",
       "<table border=\"1\" class=\"dataframe\">\n",
       "  <thead>\n",
       "    <tr style=\"text-align: right;\">\n",
       "      <th></th>\n",
       "      <th>Headline</th>\n",
       "    </tr>\n",
       "  </thead>\n",
       "  <tbody>\n",
       "    <tr>\n",
       "      <th>0</th>\n",
       "      <td>giant alienating customers bringing less revenue falling behind legacy carmakers</td>\n",
       "    </tr>\n",
       "    <tr>\n",
       "      <th>1</th>\n",
       "      <td>Elon Musk said that just because tweets something does mean people believe will accordingly Tesl...</td>\n",
       "    </tr>\n",
       "    <tr>\n",
       "      <th>2</th>\n",
       "      <td>Elon Musk hook tweets claiming funding secured take Tesla private share jury found that Musk lia...</td>\n",
       "    </tr>\n",
       "    <tr>\n",
       "      <th>3</th>\n",
       "      <td>Elon Musk said could sold SpaceX shares take Tesla private when took witness stand again defend ...</td>\n",
       "    </tr>\n",
       "    <tr>\n",
       "      <th>4</th>\n",
       "      <td>SpaceX completed first full static fire test Starship quite that makes first orbital test flight...</td>\n",
       "    </tr>\n",
       "    <tr>\n",
       "      <th>...</th>\n",
       "      <td>...</td>\n",
       "    </tr>\n",
       "    <tr>\n",
       "      <th>95</th>\n",
       "      <td>last recorded flight Brownsville Texas Elon Musk private about weeks before bought Twitter said ...</td>\n",
       "    </tr>\n",
       "    <tr>\n",
       "      <th>96</th>\n",
       "      <td>Contrasting portraits emerge closing arguments class action lawsuit against Musk misleading inve...</td>\n",
       "    </tr>\n",
       "    <tr>\n",
       "      <th>97</th>\n",
       "      <td>Since Musk took over Twitter spreading conspiracy theories banning journalists eroded much goodw...</td>\n",
       "    </tr>\n",
       "    <tr>\n",
       "      <th>98</th>\n",
       "      <td>lawsuit alleging Elon Musk manipulated Tesla href https reuters companies TSLA target blank TSLA...</td>\n",
       "    </tr>\n",
       "    <tr>\n",
       "      <th>99</th>\n",
       "      <td>After Esther Crawford shared photo herself sleeping floor became Elon Musk insiders</td>\n",
       "    </tr>\n",
       "  </tbody>\n",
       "</table>\n",
       "<p>100 rows × 1 columns</p>\n",
       "</div>"
      ],
      "text/plain": [
       "                                                                                               Headline\n",
       "0                      giant alienating customers bringing less revenue falling behind legacy carmakers\n",
       "1   Elon Musk said that just because tweets something does mean people believe will accordingly Tesl...\n",
       "2   Elon Musk hook tweets claiming funding secured take Tesla private share jury found that Musk lia...\n",
       "3   Elon Musk said could sold SpaceX shares take Tesla private when took witness stand again defend ...\n",
       "4   SpaceX completed first full static fire test Starship quite that makes first orbital test flight...\n",
       "..                                                                                                  ...\n",
       "95  last recorded flight Brownsville Texas Elon Musk private about weeks before bought Twitter said ...\n",
       "96  Contrasting portraits emerge closing arguments class action lawsuit against Musk misleading inve...\n",
       "97  Since Musk took over Twitter spreading conspiracy theories banning journalists eroded much goodw...\n",
       "98  lawsuit alleging Elon Musk manipulated Tesla href https reuters companies TSLA target blank TSLA...\n",
       "99                  After Esther Crawford shared photo herself sleeping floor became Elon Musk insiders\n",
       "\n",
       "[100 rows x 1 columns]"
      ]
     },
     "execution_count": 38,
     "metadata": {},
     "output_type": "execute_result"
    }
   ],
   "source": [
    "df_Musk = df_Tycon[df_Tycon[\"LABEL\"] == \"Elon Musk\"]\n",
    "\n",
    "df_Musk = df_Musk.drop([\"LABEL\", \"Date\", \"Source\", \"Title\"], axis =1)\n",
    "df_Musk"
   ]
  },
  {
   "cell_type": "code",
   "execution_count": 27,
   "id": "1d00b9d1",
   "metadata": {},
   "outputs": [
    {
     "name": "stdout",
     "output_type": "stream",
     "text": [
      "<class 'pandas.core.frame.DataFrame'>\n",
      "Int64Index: 100 entries, 0 to 99\n",
      "Data columns (total 1 columns):\n",
      " #   Column    Non-Null Count  Dtype \n",
      "---  ------    --------------  ----- \n",
      " 0   Headline  100 non-null    object\n",
      "dtypes: object(1)\n",
      "memory usage: 1.6+ KB\n"
     ]
    }
   ],
   "source": [
    "df_Musk.info()"
   ]
  },
  {
   "cell_type": "code",
   "execution_count": 30,
   "id": "3bd1fa38",
   "metadata": {},
   "outputs": [
    {
     "name": "stdout",
     "output_type": "stream",
     "text": [
      "<class 'pandas.core.frame.DataFrame'>\n",
      "Int64Index: 100 entries, 0 to 99\n",
      "Data columns (total 1 columns):\n",
      " #   Column    Non-Null Count  Dtype \n",
      "---  ------    --------------  ----- \n",
      " 0   Headline  100 non-null    object\n",
      "dtypes: object(1)\n",
      "memory usage: 1.6+ KB\n"
     ]
    },
    {
     "data": {
      "text/plain": [
       "pandas.core.series.Series"
      ]
     },
     "execution_count": 30,
     "metadata": {},
     "output_type": "execute_result"
    }
   ],
   "source": [
    "df_Musk.dropna(inplace=True)\n",
    "df_Musk.info()"
   ]
  },
  {
   "cell_type": "markdown",
   "id": "1baa0799",
   "metadata": {},
   "source": [
    "## Preprocessing"
   ]
  },
  {
   "cell_type": "markdown",
   "id": "fb6f35b1",
   "metadata": {},
   "source": [
    "### Removing Punctuations, Numbers and making Lower Case"
   ]
  },
  {
   "cell_type": "code",
   "execution_count": 39,
   "id": "47256ff8",
   "metadata": {},
   "outputs": [
    {
     "data": {
      "text/html": [
       "<div>\n",
       "<style scoped>\n",
       "    .dataframe tbody tr th:only-of-type {\n",
       "        vertical-align: middle;\n",
       "    }\n",
       "\n",
       "    .dataframe tbody tr th {\n",
       "        vertical-align: top;\n",
       "    }\n",
       "\n",
       "    .dataframe thead th {\n",
       "        text-align: right;\n",
       "    }\n",
       "</style>\n",
       "<table border=\"1\" class=\"dataframe\">\n",
       "  <thead>\n",
       "    <tr style=\"text-align: right;\">\n",
       "      <th></th>\n",
       "      <th>Headline</th>\n",
       "      <th>no_punc_low_c</th>\n",
       "    </tr>\n",
       "  </thead>\n",
       "  <tbody>\n",
       "    <tr>\n",
       "      <th>0</th>\n",
       "      <td>giant alienating customers bringing less revenue falling behind legacy carmakers</td>\n",
       "      <td>giant alienating customers bringing less revenue falling behind legacy carmakers</td>\n",
       "    </tr>\n",
       "    <tr>\n",
       "      <th>1</th>\n",
       "      <td>Elon Musk said that just because tweets something does mean people believe will accordingly Tesl...</td>\n",
       "      <td>elon musk said that just because tweets something does mean people believe will accordingly tesl...</td>\n",
       "    </tr>\n",
       "    <tr>\n",
       "      <th>2</th>\n",
       "      <td>Elon Musk hook tweets claiming funding secured take Tesla private share jury found that Musk lia...</td>\n",
       "      <td>elon musk hook tweets claiming funding secured take tesla private share jury found that musk lia...</td>\n",
       "    </tr>\n",
       "    <tr>\n",
       "      <th>3</th>\n",
       "      <td>Elon Musk said could sold SpaceX shares take Tesla private when took witness stand again defend ...</td>\n",
       "      <td>elon musk said could sold spacex shares take tesla private when took witness stand again defend ...</td>\n",
       "    </tr>\n",
       "    <tr>\n",
       "      <th>4</th>\n",
       "      <td>SpaceX completed first full static fire test Starship quite that makes first orbital test flight...</td>\n",
       "      <td>spacex completed first full static fire test starship quite that makes first orbital test flight...</td>\n",
       "    </tr>\n",
       "    <tr>\n",
       "      <th>...</th>\n",
       "      <td>...</td>\n",
       "      <td>...</td>\n",
       "    </tr>\n",
       "    <tr>\n",
       "      <th>95</th>\n",
       "      <td>last recorded flight Brownsville Texas Elon Musk private about weeks before bought Twitter said ...</td>\n",
       "      <td>last recorded flight brownsville texas elon musk private about weeks before bought twitter said ...</td>\n",
       "    </tr>\n",
       "    <tr>\n",
       "      <th>96</th>\n",
       "      <td>Contrasting portraits emerge closing arguments class action lawsuit against Musk misleading inve...</td>\n",
       "      <td>contrasting portraits emerge closing arguments class action lawsuit against musk misleading inve...</td>\n",
       "    </tr>\n",
       "    <tr>\n",
       "      <th>97</th>\n",
       "      <td>Since Musk took over Twitter spreading conspiracy theories banning journalists eroded much goodw...</td>\n",
       "      <td>since musk took over twitter spreading conspiracy theories banning journalists eroded much goodw...</td>\n",
       "    </tr>\n",
       "    <tr>\n",
       "      <th>98</th>\n",
       "      <td>lawsuit alleging Elon Musk manipulated Tesla href https reuters companies TSLA target blank TSLA...</td>\n",
       "      <td>lawsuit alleging elon musk manipulated tesla href https reuters companies tsla target blank tsla...</td>\n",
       "    </tr>\n",
       "    <tr>\n",
       "      <th>99</th>\n",
       "      <td>After Esther Crawford shared photo herself sleeping floor became Elon Musk insiders</td>\n",
       "      <td>after esther crawford shared photo herself sleeping floor became elon musk insiders</td>\n",
       "    </tr>\n",
       "  </tbody>\n",
       "</table>\n",
       "<p>100 rows × 2 columns</p>\n",
       "</div>"
      ],
      "text/plain": [
       "                                                                                               Headline  \\\n",
       "0                      giant alienating customers bringing less revenue falling behind legacy carmakers   \n",
       "1   Elon Musk said that just because tweets something does mean people believe will accordingly Tesl...   \n",
       "2   Elon Musk hook tweets claiming funding secured take Tesla private share jury found that Musk lia...   \n",
       "3   Elon Musk said could sold SpaceX shares take Tesla private when took witness stand again defend ...   \n",
       "4   SpaceX completed first full static fire test Starship quite that makes first orbital test flight...   \n",
       "..                                                                                                  ...   \n",
       "95  last recorded flight Brownsville Texas Elon Musk private about weeks before bought Twitter said ...   \n",
       "96  Contrasting portraits emerge closing arguments class action lawsuit against Musk misleading inve...   \n",
       "97  Since Musk took over Twitter spreading conspiracy theories banning journalists eroded much goodw...   \n",
       "98  lawsuit alleging Elon Musk manipulated Tesla href https reuters companies TSLA target blank TSLA...   \n",
       "99                  After Esther Crawford shared photo herself sleeping floor became Elon Musk insiders   \n",
       "\n",
       "                                                                                          no_punc_low_c  \n",
       "0                      giant alienating customers bringing less revenue falling behind legacy carmakers  \n",
       "1   elon musk said that just because tweets something does mean people believe will accordingly tesl...  \n",
       "2   elon musk hook tweets claiming funding secured take tesla private share jury found that musk lia...  \n",
       "3   elon musk said could sold spacex shares take tesla private when took witness stand again defend ...  \n",
       "4   spacex completed first full static fire test starship quite that makes first orbital test flight...  \n",
       "..                                                                                                  ...  \n",
       "95  last recorded flight brownsville texas elon musk private about weeks before bought twitter said ...  \n",
       "96  contrasting portraits emerge closing arguments class action lawsuit against musk misleading inve...  \n",
       "97  since musk took over twitter spreading conspiracy theories banning journalists eroded much goodw...  \n",
       "98  lawsuit alleging elon musk manipulated tesla href https reuters companies tsla target blank tsla...  \n",
       "99                  after esther crawford shared photo herself sleeping floor became elon musk insiders  \n",
       "\n",
       "[100 rows x 2 columns]"
      ]
     },
     "execution_count": 39,
     "metadata": {},
     "output_type": "execute_result"
    }
   ],
   "source": [
    "#Converting to lower case: making the column a string and then converting to lower case\n",
    "df_Musk[\"no_punc_low_c\"] = df_Musk[\"Headline\"].str.lower()\n",
    "df_Musk"
   ]
  },
  {
   "cell_type": "code",
   "execution_count": 41,
   "id": "8b5dd9db",
   "metadata": {},
   "outputs": [
    {
     "data": {
      "text/html": [
       "<div>\n",
       "<style scoped>\n",
       "    .dataframe tbody tr th:only-of-type {\n",
       "        vertical-align: middle;\n",
       "    }\n",
       "\n",
       "    .dataframe tbody tr th {\n",
       "        vertical-align: top;\n",
       "    }\n",
       "\n",
       "    .dataframe thead th {\n",
       "        text-align: right;\n",
       "    }\n",
       "</style>\n",
       "<table border=\"1\" class=\"dataframe\">\n",
       "  <thead>\n",
       "    <tr style=\"text-align: right;\">\n",
       "      <th></th>\n",
       "      <th>Headline</th>\n",
       "      <th>no_punc_low_c</th>\n",
       "    </tr>\n",
       "  </thead>\n",
       "  <tbody>\n",
       "    <tr>\n",
       "      <th>0</th>\n",
       "      <td>giant alienating customers bringing less revenue falling behind legacy carmakers</td>\n",
       "      <td>giant alienating customers bringing less revenue falling behind legacy carmakers</td>\n",
       "    </tr>\n",
       "    <tr>\n",
       "      <th>1</th>\n",
       "      <td>Elon Musk said that just because tweets something does mean people believe will accordingly Tesl...</td>\n",
       "      <td>elon musk said that just because tweets something does mean people believe will accordingly tesl...</td>\n",
       "    </tr>\n",
       "    <tr>\n",
       "      <th>2</th>\n",
       "      <td>Elon Musk hook tweets claiming funding secured take Tesla private share jury found that Musk lia...</td>\n",
       "      <td>elon musk hook tweets claiming funding secured take tesla private share jury found that musk lia...</td>\n",
       "    </tr>\n",
       "    <tr>\n",
       "      <th>3</th>\n",
       "      <td>Elon Musk said could sold SpaceX shares take Tesla private when took witness stand again defend ...</td>\n",
       "      <td>elon musk said could sold spacex shares take tesla private when took witness stand again defend ...</td>\n",
       "    </tr>\n",
       "    <tr>\n",
       "      <th>4</th>\n",
       "      <td>SpaceX completed first full static fire test Starship quite that makes first orbital test flight...</td>\n",
       "      <td>spacex completed first full static fire test starship quite that makes first orbital test flight...</td>\n",
       "    </tr>\n",
       "    <tr>\n",
       "      <th>...</th>\n",
       "      <td>...</td>\n",
       "      <td>...</td>\n",
       "    </tr>\n",
       "    <tr>\n",
       "      <th>95</th>\n",
       "      <td>last recorded flight Brownsville Texas Elon Musk private about weeks before bought Twitter said ...</td>\n",
       "      <td>last recorded flight brownsville texas elon musk private about weeks before bought twitter said ...</td>\n",
       "    </tr>\n",
       "    <tr>\n",
       "      <th>96</th>\n",
       "      <td>Contrasting portraits emerge closing arguments class action lawsuit against Musk misleading inve...</td>\n",
       "      <td>contrasting portraits emerge closing arguments class action lawsuit against musk misleading inve...</td>\n",
       "    </tr>\n",
       "    <tr>\n",
       "      <th>97</th>\n",
       "      <td>Since Musk took over Twitter spreading conspiracy theories banning journalists eroded much goodw...</td>\n",
       "      <td>since musk took over twitter spreading conspiracy theories banning journalists eroded much goodw...</td>\n",
       "    </tr>\n",
       "    <tr>\n",
       "      <th>98</th>\n",
       "      <td>lawsuit alleging Elon Musk manipulated Tesla href https reuters companies TSLA target blank TSLA...</td>\n",
       "      <td>lawsuit alleging elon musk manipulated tesla href https reuters companies tsla target blank tsla...</td>\n",
       "    </tr>\n",
       "    <tr>\n",
       "      <th>99</th>\n",
       "      <td>After Esther Crawford shared photo herself sleeping floor became Elon Musk insiders</td>\n",
       "      <td>after esther crawford shared photo herself sleeping floor became elon musk insiders</td>\n",
       "    </tr>\n",
       "  </tbody>\n",
       "</table>\n",
       "<p>100 rows × 2 columns</p>\n",
       "</div>"
      ],
      "text/plain": [
       "                                                                                               Headline  \\\n",
       "0                      giant alienating customers bringing less revenue falling behind legacy carmakers   \n",
       "1   Elon Musk said that just because tweets something does mean people believe will accordingly Tesl...   \n",
       "2   Elon Musk hook tweets claiming funding secured take Tesla private share jury found that Musk lia...   \n",
       "3   Elon Musk said could sold SpaceX shares take Tesla private when took witness stand again defend ...   \n",
       "4   SpaceX completed first full static fire test Starship quite that makes first orbital test flight...   \n",
       "..                                                                                                  ...   \n",
       "95  last recorded flight Brownsville Texas Elon Musk private about weeks before bought Twitter said ...   \n",
       "96  Contrasting portraits emerge closing arguments class action lawsuit against Musk misleading inve...   \n",
       "97  Since Musk took over Twitter spreading conspiracy theories banning journalists eroded much goodw...   \n",
       "98  lawsuit alleging Elon Musk manipulated Tesla href https reuters companies TSLA target blank TSLA...   \n",
       "99                  After Esther Crawford shared photo herself sleeping floor became Elon Musk insiders   \n",
       "\n",
       "                                                                                          no_punc_low_c  \n",
       "0                      giant alienating customers bringing less revenue falling behind legacy carmakers  \n",
       "1   elon musk said that just because tweets something does mean people believe will accordingly tesl...  \n",
       "2   elon musk hook tweets claiming funding secured take tesla private share jury found that musk lia...  \n",
       "3   elon musk said could sold spacex shares take tesla private when took witness stand again defend ...  \n",
       "4   spacex completed first full static fire test starship quite that makes first orbital test flight...  \n",
       "..                                                                                                  ...  \n",
       "95  last recorded flight brownsville texas elon musk private about weeks before bought twitter said ...  \n",
       "96  contrasting portraits emerge closing arguments class action lawsuit against musk misleading inve...  \n",
       "97  since musk took over twitter spreading conspiracy theories banning journalists eroded much goodw...  \n",
       "98  lawsuit alleging elon musk manipulated tesla href https reuters companies tsla target blank tsla...  \n",
       "99                  after esther crawford shared photo herself sleeping floor became elon musk insiders  \n",
       "\n",
       "[100 rows x 2 columns]"
      ]
     },
     "execution_count": 41,
     "metadata": {},
     "output_type": "execute_result"
    }
   ],
   "source": [
    "#Removing the Punctuations and Numbers\n",
    "def remove_punct_num(text):\n",
    "    text  = \"\".join([char for char in text if char not in string.punctuation])\n",
    "    text = re.sub('[0-9]+', '', text)\n",
    "    return text\n",
    "\n",
    "df_Musk['no_punc_low_c'] = df_Musk['no_punc_low_c'].apply(remove_punct_num)\n",
    "df_Musk"
   ]
  },
  {
   "cell_type": "markdown",
   "id": "f9a61625",
   "metadata": {},
   "source": [
    "### Tokenizing"
   ]
  },
  {
   "cell_type": "code",
   "execution_count": 47,
   "id": "fab378ce",
   "metadata": {},
   "outputs": [
    {
     "data": {
      "text/html": [
       "<div>\n",
       "<style scoped>\n",
       "    .dataframe tbody tr th:only-of-type {\n",
       "        vertical-align: middle;\n",
       "    }\n",
       "\n",
       "    .dataframe tbody tr th {\n",
       "        vertical-align: top;\n",
       "    }\n",
       "\n",
       "    .dataframe thead th {\n",
       "        text-align: right;\n",
       "    }\n",
       "</style>\n",
       "<table border=\"1\" class=\"dataframe\">\n",
       "  <thead>\n",
       "    <tr style=\"text-align: right;\">\n",
       "      <th></th>\n",
       "      <th>Headline</th>\n",
       "      <th>no_punc_low_c</th>\n",
       "      <th>tokenized</th>\n",
       "    </tr>\n",
       "  </thead>\n",
       "  <tbody>\n",
       "    <tr>\n",
       "      <th>0</th>\n",
       "      <td>giant alienating customers bringing less revenue falling behind legacy carmakers</td>\n",
       "      <td>giant alienating customers bringing less revenue falling behind legacy carmakers</td>\n",
       "      <td>[giant, alienating, customers, bringing, less, revenue, falling, behind, legacy, carmakers]</td>\n",
       "    </tr>\n",
       "    <tr>\n",
       "      <th>1</th>\n",
       "      <td>Elon Musk said that just because tweets something does mean people believe will accordingly Tesl...</td>\n",
       "      <td>elon musk said that just because tweets something does mean people believe will accordingly tesl...</td>\n",
       "      <td>[elon, musk, said, that, just, because, tweets, something, does, mean, people, believe, will, ac...</td>\n",
       "    </tr>\n",
       "    <tr>\n",
       "      <th>2</th>\n",
       "      <td>Elon Musk hook tweets claiming funding secured take Tesla private share jury found that Musk lia...</td>\n",
       "      <td>elon musk hook tweets claiming funding secured take tesla private share jury found that musk lia...</td>\n",
       "      <td>[elon, musk, hook, tweets, claiming, funding, secured, take, tesla, private, share, jury, found,...</td>\n",
       "    </tr>\n",
       "    <tr>\n",
       "      <th>3</th>\n",
       "      <td>Elon Musk said could sold SpaceX shares take Tesla private when took witness stand again defend ...</td>\n",
       "      <td>elon musk said could sold spacex shares take tesla private when took witness stand again defend ...</td>\n",
       "      <td>[elon, musk, said, could, sold, spacex, shares, take, tesla, private, when, took, witness, stand...</td>\n",
       "    </tr>\n",
       "    <tr>\n",
       "      <th>4</th>\n",
       "      <td>SpaceX completed first full static fire test Starship quite that makes first orbital test flight...</td>\n",
       "      <td>spacex completed first full static fire test starship quite that makes first orbital test flight...</td>\n",
       "      <td>[spacex, completed, first, full, static, fire, test, starship, quite, that, makes, first, orbita...</td>\n",
       "    </tr>\n",
       "  </tbody>\n",
       "</table>\n",
       "</div>"
      ],
      "text/plain": [
       "                                                                                              Headline  \\\n",
       "0                     giant alienating customers bringing less revenue falling behind legacy carmakers   \n",
       "1  Elon Musk said that just because tweets something does mean people believe will accordingly Tesl...   \n",
       "2  Elon Musk hook tweets claiming funding secured take Tesla private share jury found that Musk lia...   \n",
       "3  Elon Musk said could sold SpaceX shares take Tesla private when took witness stand again defend ...   \n",
       "4  SpaceX completed first full static fire test Starship quite that makes first orbital test flight...   \n",
       "\n",
       "                                                                                         no_punc_low_c  \\\n",
       "0                     giant alienating customers bringing less revenue falling behind legacy carmakers   \n",
       "1  elon musk said that just because tweets something does mean people believe will accordingly tesl...   \n",
       "2  elon musk hook tweets claiming funding secured take tesla private share jury found that musk lia...   \n",
       "3  elon musk said could sold spacex shares take tesla private when took witness stand again defend ...   \n",
       "4  spacex completed first full static fire test starship quite that makes first orbital test flight...   \n",
       "\n",
       "                                                                                             tokenized  \n",
       "0          [giant, alienating, customers, bringing, less, revenue, falling, behind, legacy, carmakers]  \n",
       "1  [elon, musk, said, that, just, because, tweets, something, does, mean, people, believe, will, ac...  \n",
       "2  [elon, musk, hook, tweets, claiming, funding, secured, take, tesla, private, share, jury, found,...  \n",
       "3  [elon, musk, said, could, sold, spacex, shares, take, tesla, private, when, took, witness, stand...  \n",
       "4  [spacex, completed, first, full, static, fire, test, starship, quite, that, makes, first, orbita...  "
      ]
     },
     "execution_count": 47,
     "metadata": {},
     "output_type": "execute_result"
    }
   ],
   "source": [
    "def tokenization(text):\n",
    "    text = re.split('\\W+', text)\n",
    "    return text\n",
    "\n",
    "df_Musk[\"tokenized\"] = df_Musk[\"no_punc_low_c\"].apply(tokenization)\n",
    "df_Musk.head()"
   ]
  },
  {
   "cell_type": "markdown",
   "id": "9c08832f",
   "metadata": {},
   "source": [
    "### Removing Stop Words"
   ]
  },
  {
   "cell_type": "code",
   "execution_count": 87,
   "id": "c6286867",
   "metadata": {},
   "outputs": [
    {
     "data": {
      "text/plain": [
       "['i',\n",
       " 'me',\n",
       " 'my',\n",
       " 'myself',\n",
       " 'we',\n",
       " 'our',\n",
       " 'ours',\n",
       " 'ourselves',\n",
       " 'you',\n",
       " \"you're\",\n",
       " \"you've\",\n",
       " \"you'll\",\n",
       " \"you'd\",\n",
       " 'your',\n",
       " 'yours',\n",
       " 'yourself',\n",
       " 'yourselves',\n",
       " 'he',\n",
       " 'him',\n",
       " 'his',\n",
       " 'himself',\n",
       " 'she',\n",
       " \"she's\",\n",
       " 'her',\n",
       " 'hers',\n",
       " 'herself',\n",
       " 'it',\n",
       " \"it's\",\n",
       " 'its',\n",
       " 'itself',\n",
       " 'they',\n",
       " 'them',\n",
       " 'their',\n",
       " 'theirs',\n",
       " 'themselves',\n",
       " 'what',\n",
       " 'which',\n",
       " 'who',\n",
       " 'whom',\n",
       " 'this',\n",
       " 'that',\n",
       " \"that'll\",\n",
       " 'these',\n",
       " 'those',\n",
       " 'am',\n",
       " 'is',\n",
       " 'are',\n",
       " 'was',\n",
       " 'were',\n",
       " 'be',\n",
       " 'been',\n",
       " 'being',\n",
       " 'have',\n",
       " 'has',\n",
       " 'had',\n",
       " 'having',\n",
       " 'do',\n",
       " 'does',\n",
       " 'did',\n",
       " 'doing',\n",
       " 'a',\n",
       " 'an',\n",
       " 'the',\n",
       " 'and',\n",
       " 'but',\n",
       " 'if',\n",
       " 'or',\n",
       " 'because',\n",
       " 'as',\n",
       " 'until',\n",
       " 'while',\n",
       " 'of',\n",
       " 'at',\n",
       " 'by',\n",
       " 'for',\n",
       " 'with',\n",
       " 'about',\n",
       " 'against',\n",
       " 'between',\n",
       " 'into',\n",
       " 'through',\n",
       " 'during',\n",
       " 'before',\n",
       " 'after',\n",
       " 'above',\n",
       " 'below',\n",
       " 'to',\n",
       " 'from',\n",
       " 'up',\n",
       " 'down',\n",
       " 'in',\n",
       " 'out',\n",
       " 'on',\n",
       " 'off',\n",
       " 'over',\n",
       " 'under',\n",
       " 'again',\n",
       " 'further',\n",
       " 'then',\n",
       " 'once',\n",
       " 'here',\n",
       " 'there',\n",
       " 'when',\n",
       " 'where',\n",
       " 'why',\n",
       " 'how',\n",
       " 'all',\n",
       " 'any',\n",
       " 'both',\n",
       " 'each',\n",
       " 'few',\n",
       " 'more',\n",
       " 'most',\n",
       " 'other',\n",
       " 'some',\n",
       " 'such',\n",
       " 'no',\n",
       " 'nor',\n",
       " 'only',\n",
       " 'own',\n",
       " 'same',\n",
       " 'so',\n",
       " 'than',\n",
       " 'too',\n",
       " 'very',\n",
       " 's',\n",
       " 't',\n",
       " 'can',\n",
       " 'will',\n",
       " 'just',\n",
       " 'don',\n",
       " \"don't\",\n",
       " 'should',\n",
       " \"should've\",\n",
       " 'now',\n",
       " 'd',\n",
       " 'll',\n",
       " 'm',\n",
       " 'o',\n",
       " 're',\n",
       " 've',\n",
       " 'y',\n",
       " 'ain',\n",
       " 'aren',\n",
       " \"aren't\",\n",
       " 'couldn',\n",
       " \"couldn't\",\n",
       " 'didn',\n",
       " \"didn't\",\n",
       " 'doesn',\n",
       " \"doesn't\",\n",
       " 'hadn',\n",
       " \"hadn't\",\n",
       " 'hasn',\n",
       " \"hasn't\",\n",
       " 'haven',\n",
       " \"haven't\",\n",
       " 'isn',\n",
       " \"isn't\",\n",
       " 'ma',\n",
       " 'mightn',\n",
       " \"mightn't\",\n",
       " 'mustn',\n",
       " \"mustn't\",\n",
       " 'needn',\n",
       " \"needn't\",\n",
       " 'shan',\n",
       " \"shan't\",\n",
       " 'shouldn',\n",
       " \"shouldn't\",\n",
       " 'wasn',\n",
       " \"wasn't\",\n",
       " 'weren',\n",
       " \"weren't\",\n",
       " 'won',\n",
       " \"won't\",\n",
       " 'wouldn',\n",
       " \"wouldn't\",\n",
       " 'http']"
      ]
     },
     "execution_count": 87,
     "metadata": {},
     "output_type": "execute_result"
    }
   ],
   "source": [
    "# Storing Stopwords in List and Customizing it \n",
    "\n",
    "stopword = nltk.corpus.stopwords.words('english')\n",
    "stopword.remove(\"not\")\n",
    "stopword.append(\"http\")\n",
    "stopword"
   ]
  },
  {
   "cell_type": "code",
   "execution_count": 88,
   "id": "71f22fe0",
   "metadata": {},
   "outputs": [
    {
     "data": {
      "text/html": [
       "<div>\n",
       "<style scoped>\n",
       "    .dataframe tbody tr th:only-of-type {\n",
       "        vertical-align: middle;\n",
       "    }\n",
       "\n",
       "    .dataframe tbody tr th {\n",
       "        vertical-align: top;\n",
       "    }\n",
       "\n",
       "    .dataframe thead th {\n",
       "        text-align: right;\n",
       "    }\n",
       "</style>\n",
       "<table border=\"1\" class=\"dataframe\">\n",
       "  <thead>\n",
       "    <tr style=\"text-align: right;\">\n",
       "      <th></th>\n",
       "      <th>Headline</th>\n",
       "      <th>no_punc_low_c</th>\n",
       "      <th>tokenized</th>\n",
       "      <th>no_stop</th>\n",
       "      <th>stemmed</th>\n",
       "      <th>lemmatized</th>\n",
       "      <th>cleaned</th>\n",
       "      <th>no_stop_word</th>\n",
       "    </tr>\n",
       "  </thead>\n",
       "  <tbody>\n",
       "    <tr>\n",
       "      <th>0</th>\n",
       "      <td>giant alienating customers bringing less revenue falling behind legacy carmakers</td>\n",
       "      <td>giant alienating customers bringing less revenue falling behind legacy carmakers</td>\n",
       "      <td>[giant, alienating, customers, bringing, less, revenue, falling, behind, legacy, carmakers]</td>\n",
       "      <td>[giant, alienating, customers, bringing, less, revenue, falling, behind, legacy, carmakers]</td>\n",
       "      <td>[giant, alien, custom, bring, less, revenu, fall, behind, legaci, carmak]</td>\n",
       "      <td>[giant, alienating, customer, bringing, le, revenue, falling, behind, legacy, carmaker]</td>\n",
       "      <td>giant alienating customer bringing le revenue falling behind legacy carmaker</td>\n",
       "      <td>[giant, alienating, customers, bringing, less, revenue, falling, behind, legacy, carmakers]</td>\n",
       "    </tr>\n",
       "    <tr>\n",
       "      <th>1</th>\n",
       "      <td>Elon Musk said that just because tweets something does mean people believe will accordingly Tesl...</td>\n",
       "      <td>elon musk said that just because tweets something does mean people believe will accordingly tesl...</td>\n",
       "      <td>[elon, musk, said, that, just, because, tweets, something, does, mean, people, believe, will, ac...</td>\n",
       "      <td>[elon, musk, said, tweets, something, mean, people, believe, accordingly, tesla, chief, took, wi...</td>\n",
       "      <td>[elon, musk, said, tweet, someth, mean, peopl, believ, accordingli, tesla, chief, took, wit, sta...</td>\n",
       "      <td>[elon, musk, said, tweet, something, mean, people, believe, accordingly, tesla, chief, took, wit...</td>\n",
       "      <td>elon musk said tweet something mean people believe accordingly tesla chief took witness stand fr...</td>\n",
       "      <td>[elon, musk, said, tweets, something, mean, people, believe, accordingly, tesla, chief, took, wi...</td>\n",
       "    </tr>\n",
       "    <tr>\n",
       "      <th>2</th>\n",
       "      <td>Elon Musk hook tweets claiming funding secured take Tesla private share jury found that Musk lia...</td>\n",
       "      <td>elon musk hook tweets claiming funding secured take tesla private share jury found that musk lia...</td>\n",
       "      <td>[elon, musk, hook, tweets, claiming, funding, secured, take, tesla, private, share, jury, found,...</td>\n",
       "      <td>[elon, musk, hook, tweets, claiming, funding, secured, take, tesla, private, share, jury, found,...</td>\n",
       "      <td>[elon, musk, hook, tweet, claim, fund, secur, take, tesla, privat, share, juri, found, musk, lia...</td>\n",
       "      <td>[elon, musk, hook, tweet, claiming, funding, secured, take, tesla, private, share, jury, found, ...</td>\n",
       "      <td>elon musk hook tweet claiming funding secured take tesla private share jury found musk liable te...</td>\n",
       "      <td>[elon, musk, hook, tweets, claiming, funding, secured, take, tesla, private, share, jury, found,...</td>\n",
       "    </tr>\n",
       "    <tr>\n",
       "      <th>3</th>\n",
       "      <td>Elon Musk said could sold SpaceX shares take Tesla private when took witness stand again defend ...</td>\n",
       "      <td>elon musk said could sold spacex shares take tesla private when took witness stand again defend ...</td>\n",
       "      <td>[elon, musk, said, could, sold, spacex, shares, take, tesla, private, when, took, witness, stand...</td>\n",
       "      <td>[elon, musk, said, could, sold, spacex, shares, take, tesla, private, took, witness, stand, defe...</td>\n",
       "      <td>[elon, musk, said, could, sold, spacex, share, take, tesla, privat, took, wit, stand, defend, fu...</td>\n",
       "      <td>[elon, musk, said, could, sold, spacex, share, take, tesla, private, took, witness, stand, defen...</td>\n",
       "      <td>elon musk said could sold spacex share take tesla private took witness stand defend funding secu...</td>\n",
       "      <td>[elon, musk, said, could, sold, spacex, shares, take, tesla, private, took, witness, stand, defe...</td>\n",
       "    </tr>\n",
       "    <tr>\n",
       "      <th>4</th>\n",
       "      <td>SpaceX completed first full static fire test Starship quite that makes first orbital test flight...</td>\n",
       "      <td>spacex completed first full static fire test starship quite that makes first orbital test flight...</td>\n",
       "      <td>[spacex, completed, first, full, static, fire, test, starship, quite, that, makes, first, orbita...</td>\n",
       "      <td>[spacex, completed, first, full, static, fire, test, starship, quite, makes, first, orbital, tes...</td>\n",
       "      <td>[spacex, complet, first, full, static, fire, test, starship, quit, make, first, orbit, test, fli...</td>\n",
       "      <td>[spacex, completed, first, full, static, fire, test, starship, quite, make, first, orbital, test...</td>\n",
       "      <td>spacex completed first full static fire test starship quite make first orbital test flight next ...</td>\n",
       "      <td>[spacex, completed, first, full, static, fire, test, starship, quite, makes, first, orbital, tes...</td>\n",
       "    </tr>\n",
       "    <tr>\n",
       "      <th>5</th>\n",
       "      <td>Twitter Elon Musk announced making Twitter account private early Wednesday determine level engag...</td>\n",
       "      <td>twitter elon musk announced making twitter account private early wednesday determine level engag...</td>\n",
       "      <td>[twitter, elon, musk, announced, making, twitter, account, private, early, wednesday, determine,...</td>\n",
       "      <td>[twitter, elon, musk, announced, making, twitter, account, private, early, wednesday, determine,...</td>\n",
       "      <td>[twitter, elon, musk, announc, make, twitter, account, privat, earli, wednesday, determin, level...</td>\n",
       "      <td>[twitter, elon, musk, announced, making, twitter, account, private, early, wednesday, determine,...</td>\n",
       "      <td>twitter elon musk announced making twitter account private early wednesday determine level engag...</td>\n",
       "      <td>[twitter, elon, musk, announced, making, twitter, account, private, early, wednesday, determine,...</td>\n",
       "    </tr>\n",
       "    <tr>\n",
       "      <th>6</th>\n",
       "      <td>Twitter working more expensive Blue subscription tier that will allow users browse platform with...</td>\n",
       "      <td>twitter working more expensive blue subscription tier that will allow users browse platform with...</td>\n",
       "      <td>[twitter, working, more, expensive, blue, subscription, tier, that, will, allow, users, browse, ...</td>\n",
       "      <td>[twitter, working, expensive, blue, subscription, tier, allow, users, browse, platform, without,...</td>\n",
       "      <td>[twitter, work, expens, blue, subscript, tier, allow, user, brows, platform, without, see, frequ...</td>\n",
       "      <td>[twitter, working, expensive, blue, subscription, tier, allow, user, browse, platform, without, ...</td>\n",
       "      <td>twitter working expensive blue subscription tier allow user browse platform without seeing frequ...</td>\n",
       "      <td>[twitter, working, expensive, blue, subscription, tier, allow, users, browse, platform, without,...</td>\n",
       "    </tr>\n",
       "    <tr>\n",
       "      <th>7</th>\n",
       "      <td>After steadily increasing prices over past couple years Tesla them drastically across lineup Eur...</td>\n",
       "      <td>after steadily increasing prices over past couple years tesla them drastically across lineup eur...</td>\n",
       "      <td>[after, steadily, increasing, prices, over, past, couple, years, tesla, them, drastically, acros...</td>\n",
       "      <td>[steadily, increasing, prices, past, couple, years, tesla, drastically, across, lineup, europe, ...</td>\n",
       "      <td>[steadili, increas, price, past, coupl, year, tesla, drastic, across, lineup, europ, appar, boos...</td>\n",
       "      <td>[steadily, increasing, price, past, couple, year, tesla, drastically, across, lineup, europe, ap...</td>\n",
       "      <td>steadily increasing price past couple year tesla drastically across lineup europe apparent boost...</td>\n",
       "      <td>[steadily, increasing, prices, past, couple, years, tesla, drastically, across, lineup, europe, ...</td>\n",
       "    </tr>\n",
       "    <tr>\n",
       "      <th>8</th>\n",
       "      <td>Twitter like apps seem doing late Ever since billionaire Tesla Elon Musk bought blue bird back O...</td>\n",
       "      <td>twitter like apps seem doing late ever since billionaire tesla elon musk bought blue bird back o...</td>\n",
       "      <td>[twitter, like, apps, seem, doing, late, ever, since, billionaire, tesla, elon, musk, bought, bl...</td>\n",
       "      <td>[twitter, like, apps, seem, late, ever, since, billionaire, tesla, elon, musk, bought, blue, bir...</td>\n",
       "      <td>[twitter, like, app, seem, late, ever, sinc, billionair, tesla, elon, musk, bought, blue, bird, ...</td>\n",
       "      <td>[twitter, like, apps, seem, late, ever, since, billionaire, tesla, elon, musk, bought, blue, bir...</td>\n",
       "      <td>twitter like apps seem late ever since billionaire tesla elon musk bought blue bird back october...</td>\n",
       "      <td>[twitter, like, apps, seem, late, ever, since, billionaire, tesla, elon, musk, bought, blue, bir...</td>\n",
       "    </tr>\n",
       "    <tr>\n",
       "      <th>9</th>\n",
       "      <td>Elon Musk wasn lying last October when told Bloomberg that percent employees newly acquired Twit...</td>\n",
       "      <td>elon musk wasn lying last october when told bloomberg that percent employees newly acquired twit...</td>\n",
       "      <td>[elon, musk, wasn, lying, last, october, when, told, bloomberg, that, percent, employees, newly,...</td>\n",
       "      <td>[elon, musk, lying, last, october, told, bloomberg, percent, employees, newly, acquired, twitter...</td>\n",
       "      <td>[elon, musk, lie, last, octob, told, bloomberg, percent, employe, newli, acquir, twitter, lose, ...</td>\n",
       "      <td>[elon, musk, lying, last, october, told, bloomberg, percent, employee, newly, acquired, twitter,...</td>\n",
       "      <td>elon musk lying last october told bloomberg percent employee newly acquired twitter lose job own...</td>\n",
       "      <td>[elon, musk, lying, last, october, told, bloomberg, percent, employees, newly, acquired, twitter...</td>\n",
       "    </tr>\n",
       "  </tbody>\n",
       "</table>\n",
       "</div>"
      ],
      "text/plain": [
       "                                                                                              Headline  \\\n",
       "0                     giant alienating customers bringing less revenue falling behind legacy carmakers   \n",
       "1  Elon Musk said that just because tweets something does mean people believe will accordingly Tesl...   \n",
       "2  Elon Musk hook tweets claiming funding secured take Tesla private share jury found that Musk lia...   \n",
       "3  Elon Musk said could sold SpaceX shares take Tesla private when took witness stand again defend ...   \n",
       "4  SpaceX completed first full static fire test Starship quite that makes first orbital test flight...   \n",
       "5  Twitter Elon Musk announced making Twitter account private early Wednesday determine level engag...   \n",
       "6  Twitter working more expensive Blue subscription tier that will allow users browse platform with...   \n",
       "7  After steadily increasing prices over past couple years Tesla them drastically across lineup Eur...   \n",
       "8  Twitter like apps seem doing late Ever since billionaire Tesla Elon Musk bought blue bird back O...   \n",
       "9  Elon Musk wasn lying last October when told Bloomberg that percent employees newly acquired Twit...   \n",
       "\n",
       "                                                                                         no_punc_low_c  \\\n",
       "0                     giant alienating customers bringing less revenue falling behind legacy carmakers   \n",
       "1  elon musk said that just because tweets something does mean people believe will accordingly tesl...   \n",
       "2  elon musk hook tweets claiming funding secured take tesla private share jury found that musk lia...   \n",
       "3  elon musk said could sold spacex shares take tesla private when took witness stand again defend ...   \n",
       "4  spacex completed first full static fire test starship quite that makes first orbital test flight...   \n",
       "5  twitter elon musk announced making twitter account private early wednesday determine level engag...   \n",
       "6  twitter working more expensive blue subscription tier that will allow users browse platform with...   \n",
       "7  after steadily increasing prices over past couple years tesla them drastically across lineup eur...   \n",
       "8  twitter like apps seem doing late ever since billionaire tesla elon musk bought blue bird back o...   \n",
       "9  elon musk wasn lying last october when told bloomberg that percent employees newly acquired twit...   \n",
       "\n",
       "                                                                                             tokenized  \\\n",
       "0          [giant, alienating, customers, bringing, less, revenue, falling, behind, legacy, carmakers]   \n",
       "1  [elon, musk, said, that, just, because, tweets, something, does, mean, people, believe, will, ac...   \n",
       "2  [elon, musk, hook, tweets, claiming, funding, secured, take, tesla, private, share, jury, found,...   \n",
       "3  [elon, musk, said, could, sold, spacex, shares, take, tesla, private, when, took, witness, stand...   \n",
       "4  [spacex, completed, first, full, static, fire, test, starship, quite, that, makes, first, orbita...   \n",
       "5  [twitter, elon, musk, announced, making, twitter, account, private, early, wednesday, determine,...   \n",
       "6  [twitter, working, more, expensive, blue, subscription, tier, that, will, allow, users, browse, ...   \n",
       "7  [after, steadily, increasing, prices, over, past, couple, years, tesla, them, drastically, acros...   \n",
       "8  [twitter, like, apps, seem, doing, late, ever, since, billionaire, tesla, elon, musk, bought, bl...   \n",
       "9  [elon, musk, wasn, lying, last, october, when, told, bloomberg, that, percent, employees, newly,...   \n",
       "\n",
       "                                                                                               no_stop  \\\n",
       "0          [giant, alienating, customers, bringing, less, revenue, falling, behind, legacy, carmakers]   \n",
       "1  [elon, musk, said, tweets, something, mean, people, believe, accordingly, tesla, chief, took, wi...   \n",
       "2  [elon, musk, hook, tweets, claiming, funding, secured, take, tesla, private, share, jury, found,...   \n",
       "3  [elon, musk, said, could, sold, spacex, shares, take, tesla, private, took, witness, stand, defe...   \n",
       "4  [spacex, completed, first, full, static, fire, test, starship, quite, makes, first, orbital, tes...   \n",
       "5  [twitter, elon, musk, announced, making, twitter, account, private, early, wednesday, determine,...   \n",
       "6  [twitter, working, expensive, blue, subscription, tier, allow, users, browse, platform, without,...   \n",
       "7  [steadily, increasing, prices, past, couple, years, tesla, drastically, across, lineup, europe, ...   \n",
       "8  [twitter, like, apps, seem, late, ever, since, billionaire, tesla, elon, musk, bought, blue, bir...   \n",
       "9  [elon, musk, lying, last, october, told, bloomberg, percent, employees, newly, acquired, twitter...   \n",
       "\n",
       "                                                                                               stemmed  \\\n",
       "0                            [giant, alien, custom, bring, less, revenu, fall, behind, legaci, carmak]   \n",
       "1  [elon, musk, said, tweet, someth, mean, peopl, believ, accordingli, tesla, chief, took, wit, sta...   \n",
       "2  [elon, musk, hook, tweet, claim, fund, secur, take, tesla, privat, share, juri, found, musk, lia...   \n",
       "3  [elon, musk, said, could, sold, spacex, share, take, tesla, privat, took, wit, stand, defend, fu...   \n",
       "4  [spacex, complet, first, full, static, fire, test, starship, quit, make, first, orbit, test, fli...   \n",
       "5  [twitter, elon, musk, announc, make, twitter, account, privat, earli, wednesday, determin, level...   \n",
       "6  [twitter, work, expens, blue, subscript, tier, allow, user, brows, platform, without, see, frequ...   \n",
       "7  [steadili, increas, price, past, coupl, year, tesla, drastic, across, lineup, europ, appar, boos...   \n",
       "8  [twitter, like, app, seem, late, ever, sinc, billionair, tesla, elon, musk, bought, blue, bird, ...   \n",
       "9  [elon, musk, lie, last, octob, told, bloomberg, percent, employe, newli, acquir, twitter, lose, ...   \n",
       "\n",
       "                                                                                            lemmatized  \\\n",
       "0              [giant, alienating, customer, bringing, le, revenue, falling, behind, legacy, carmaker]   \n",
       "1  [elon, musk, said, tweet, something, mean, people, believe, accordingly, tesla, chief, took, wit...   \n",
       "2  [elon, musk, hook, tweet, claiming, funding, secured, take, tesla, private, share, jury, found, ...   \n",
       "3  [elon, musk, said, could, sold, spacex, share, take, tesla, private, took, witness, stand, defen...   \n",
       "4  [spacex, completed, first, full, static, fire, test, starship, quite, make, first, orbital, test...   \n",
       "5  [twitter, elon, musk, announced, making, twitter, account, private, early, wednesday, determine,...   \n",
       "6  [twitter, working, expensive, blue, subscription, tier, allow, user, browse, platform, without, ...   \n",
       "7  [steadily, increasing, price, past, couple, year, tesla, drastically, across, lineup, europe, ap...   \n",
       "8  [twitter, like, apps, seem, late, ever, since, billionaire, tesla, elon, musk, bought, blue, bir...   \n",
       "9  [elon, musk, lying, last, october, told, bloomberg, percent, employee, newly, acquired, twitter,...   \n",
       "\n",
       "                                                                                               cleaned  \\\n",
       "0                         giant alienating customer bringing le revenue falling behind legacy carmaker   \n",
       "1  elon musk said tweet something mean people believe accordingly tesla chief took witness stand fr...   \n",
       "2  elon musk hook tweet claiming funding secured take tesla private share jury found musk liable te...   \n",
       "3  elon musk said could sold spacex share take tesla private took witness stand defend funding secu...   \n",
       "4  spacex completed first full static fire test starship quite make first orbital test flight next ...   \n",
       "5  twitter elon musk announced making twitter account private early wednesday determine level engag...   \n",
       "6  twitter working expensive blue subscription tier allow user browse platform without seeing frequ...   \n",
       "7  steadily increasing price past couple year tesla drastically across lineup europe apparent boost...   \n",
       "8  twitter like apps seem late ever since billionaire tesla elon musk bought blue bird back october...   \n",
       "9  elon musk lying last october told bloomberg percent employee newly acquired twitter lose job own...   \n",
       "\n",
       "                                                                                          no_stop_word  \n",
       "0          [giant, alienating, customers, bringing, less, revenue, falling, behind, legacy, carmakers]  \n",
       "1  [elon, musk, said, tweets, something, mean, people, believe, accordingly, tesla, chief, took, wi...  \n",
       "2  [elon, musk, hook, tweets, claiming, funding, secured, take, tesla, private, share, jury, found,...  \n",
       "3  [elon, musk, said, could, sold, spacex, shares, take, tesla, private, took, witness, stand, defe...  \n",
       "4  [spacex, completed, first, full, static, fire, test, starship, quite, makes, first, orbital, tes...  \n",
       "5  [twitter, elon, musk, announced, making, twitter, account, private, early, wednesday, determine,...  \n",
       "6  [twitter, working, expensive, blue, subscription, tier, allow, users, browse, platform, without,...  \n",
       "7  [steadily, increasing, prices, past, couple, years, tesla, drastically, across, lineup, europe, ...  \n",
       "8  [twitter, like, apps, seem, late, ever, since, billionaire, tesla, elon, musk, bought, blue, bir...  \n",
       "9  [elon, musk, lying, last, october, told, bloomberg, percent, employees, newly, acquired, twitter...  "
      ]
     },
     "execution_count": 88,
     "metadata": {},
     "output_type": "execute_result"
    }
   ],
   "source": [
    "def remove_stopwords(text):\n",
    "    text = [word for word in text if word not in stopword]\n",
    "    return text\n",
    "    \n",
    "df_Musk[\"no_stop_word\"] = df_Musk['tokenized'].apply(remove_stopwords)\n",
    "df_Musk.head(10)"
   ]
  },
  {
   "cell_type": "markdown",
   "id": "43101e0b",
   "metadata": {},
   "source": [
    "### Stemming"
   ]
  },
  {
   "cell_type": "code",
   "execution_count": 89,
   "id": "58523b53",
   "metadata": {},
   "outputs": [
    {
     "data": {
      "text/html": [
       "<div>\n",
       "<style scoped>\n",
       "    .dataframe tbody tr th:only-of-type {\n",
       "        vertical-align: middle;\n",
       "    }\n",
       "\n",
       "    .dataframe tbody tr th {\n",
       "        vertical-align: top;\n",
       "    }\n",
       "\n",
       "    .dataframe thead th {\n",
       "        text-align: right;\n",
       "    }\n",
       "</style>\n",
       "<table border=\"1\" class=\"dataframe\">\n",
       "  <thead>\n",
       "    <tr style=\"text-align: right;\">\n",
       "      <th></th>\n",
       "      <th>Headline</th>\n",
       "      <th>no_punc_low_c</th>\n",
       "      <th>tokenized</th>\n",
       "      <th>no_stop</th>\n",
       "      <th>stemmed</th>\n",
       "      <th>lemmatized</th>\n",
       "      <th>cleaned</th>\n",
       "      <th>no_stop_word</th>\n",
       "    </tr>\n",
       "  </thead>\n",
       "  <tbody>\n",
       "    <tr>\n",
       "      <th>0</th>\n",
       "      <td>giant alienating customers bringing less revenue falling behind legacy carmakers</td>\n",
       "      <td>giant alienating customers bringing less revenue falling behind legacy carmakers</td>\n",
       "      <td>[giant, alienating, customers, bringing, less, revenue, falling, behind, legacy, carmakers]</td>\n",
       "      <td>[giant, alienating, customers, bringing, less, revenue, falling, behind, legacy, carmakers]</td>\n",
       "      <td>[giant, alien, custom, bring, less, revenu, fall, behind, legaci, carmak]</td>\n",
       "      <td>[giant, alienating, customer, bringing, le, revenue, falling, behind, legacy, carmaker]</td>\n",
       "      <td>giant alienating customer bringing le revenue falling behind legacy carmaker</td>\n",
       "      <td>[giant, alienating, customers, bringing, less, revenue, falling, behind, legacy, carmakers]</td>\n",
       "    </tr>\n",
       "    <tr>\n",
       "      <th>1</th>\n",
       "      <td>Elon Musk said that just because tweets something does mean people believe will accordingly Tesl...</td>\n",
       "      <td>elon musk said that just because tweets something does mean people believe will accordingly tesl...</td>\n",
       "      <td>[elon, musk, said, that, just, because, tweets, something, does, mean, people, believe, will, ac...</td>\n",
       "      <td>[elon, musk, said, tweets, something, mean, people, believe, accordingly, tesla, chief, took, wi...</td>\n",
       "      <td>[elon, musk, said, tweet, someth, mean, peopl, believ, accordingli, tesla, chief, took, wit, sta...</td>\n",
       "      <td>[elon, musk, said, tweet, something, mean, people, believe, accordingly, tesla, chief, took, wit...</td>\n",
       "      <td>elon musk said tweet something mean people believe accordingly tesla chief took witness stand fr...</td>\n",
       "      <td>[elon, musk, said, tweets, something, mean, people, believe, accordingly, tesla, chief, took, wi...</td>\n",
       "    </tr>\n",
       "    <tr>\n",
       "      <th>2</th>\n",
       "      <td>Elon Musk hook tweets claiming funding secured take Tesla private share jury found that Musk lia...</td>\n",
       "      <td>elon musk hook tweets claiming funding secured take tesla private share jury found that musk lia...</td>\n",
       "      <td>[elon, musk, hook, tweets, claiming, funding, secured, take, tesla, private, share, jury, found,...</td>\n",
       "      <td>[elon, musk, hook, tweets, claiming, funding, secured, take, tesla, private, share, jury, found,...</td>\n",
       "      <td>[elon, musk, hook, tweet, claim, fund, secur, take, tesla, privat, share, juri, found, musk, lia...</td>\n",
       "      <td>[elon, musk, hook, tweet, claiming, funding, secured, take, tesla, private, share, jury, found, ...</td>\n",
       "      <td>elon musk hook tweet claiming funding secured take tesla private share jury found musk liable te...</td>\n",
       "      <td>[elon, musk, hook, tweets, claiming, funding, secured, take, tesla, private, share, jury, found,...</td>\n",
       "    </tr>\n",
       "    <tr>\n",
       "      <th>3</th>\n",
       "      <td>Elon Musk said could sold SpaceX shares take Tesla private when took witness stand again defend ...</td>\n",
       "      <td>elon musk said could sold spacex shares take tesla private when took witness stand again defend ...</td>\n",
       "      <td>[elon, musk, said, could, sold, spacex, shares, take, tesla, private, when, took, witness, stand...</td>\n",
       "      <td>[elon, musk, said, could, sold, spacex, shares, take, tesla, private, took, witness, stand, defe...</td>\n",
       "      <td>[elon, musk, said, could, sold, spacex, share, take, tesla, privat, took, wit, stand, defend, fu...</td>\n",
       "      <td>[elon, musk, said, could, sold, spacex, share, take, tesla, private, took, witness, stand, defen...</td>\n",
       "      <td>elon musk said could sold spacex share take tesla private took witness stand defend funding secu...</td>\n",
       "      <td>[elon, musk, said, could, sold, spacex, shares, take, tesla, private, took, witness, stand, defe...</td>\n",
       "    </tr>\n",
       "    <tr>\n",
       "      <th>4</th>\n",
       "      <td>SpaceX completed first full static fire test Starship quite that makes first orbital test flight...</td>\n",
       "      <td>spacex completed first full static fire test starship quite that makes first orbital test flight...</td>\n",
       "      <td>[spacex, completed, first, full, static, fire, test, starship, quite, that, makes, first, orbita...</td>\n",
       "      <td>[spacex, completed, first, full, static, fire, test, starship, quite, makes, first, orbital, tes...</td>\n",
       "      <td>[spacex, complet, first, full, static, fire, test, starship, quit, make, first, orbit, test, fli...</td>\n",
       "      <td>[spacex, completed, first, full, static, fire, test, starship, quite, make, first, orbital, test...</td>\n",
       "      <td>spacex completed first full static fire test starship quite make first orbital test flight next ...</td>\n",
       "      <td>[spacex, completed, first, full, static, fire, test, starship, quite, makes, first, orbital, tes...</td>\n",
       "    </tr>\n",
       "  </tbody>\n",
       "</table>\n",
       "</div>"
      ],
      "text/plain": [
       "                                                                                              Headline  \\\n",
       "0                     giant alienating customers bringing less revenue falling behind legacy carmakers   \n",
       "1  Elon Musk said that just because tweets something does mean people believe will accordingly Tesl...   \n",
       "2  Elon Musk hook tweets claiming funding secured take Tesla private share jury found that Musk lia...   \n",
       "3  Elon Musk said could sold SpaceX shares take Tesla private when took witness stand again defend ...   \n",
       "4  SpaceX completed first full static fire test Starship quite that makes first orbital test flight...   \n",
       "\n",
       "                                                                                         no_punc_low_c  \\\n",
       "0                     giant alienating customers bringing less revenue falling behind legacy carmakers   \n",
       "1  elon musk said that just because tweets something does mean people believe will accordingly tesl...   \n",
       "2  elon musk hook tweets claiming funding secured take tesla private share jury found that musk lia...   \n",
       "3  elon musk said could sold spacex shares take tesla private when took witness stand again defend ...   \n",
       "4  spacex completed first full static fire test starship quite that makes first orbital test flight...   \n",
       "\n",
       "                                                                                             tokenized  \\\n",
       "0          [giant, alienating, customers, bringing, less, revenue, falling, behind, legacy, carmakers]   \n",
       "1  [elon, musk, said, that, just, because, tweets, something, does, mean, people, believe, will, ac...   \n",
       "2  [elon, musk, hook, tweets, claiming, funding, secured, take, tesla, private, share, jury, found,...   \n",
       "3  [elon, musk, said, could, sold, spacex, shares, take, tesla, private, when, took, witness, stand...   \n",
       "4  [spacex, completed, first, full, static, fire, test, starship, quite, that, makes, first, orbita...   \n",
       "\n",
       "                                                                                               no_stop  \\\n",
       "0          [giant, alienating, customers, bringing, less, revenue, falling, behind, legacy, carmakers]   \n",
       "1  [elon, musk, said, tweets, something, mean, people, believe, accordingly, tesla, chief, took, wi...   \n",
       "2  [elon, musk, hook, tweets, claiming, funding, secured, take, tesla, private, share, jury, found,...   \n",
       "3  [elon, musk, said, could, sold, spacex, shares, take, tesla, private, took, witness, stand, defe...   \n",
       "4  [spacex, completed, first, full, static, fire, test, starship, quite, makes, first, orbital, tes...   \n",
       "\n",
       "                                                                                               stemmed  \\\n",
       "0                            [giant, alien, custom, bring, less, revenu, fall, behind, legaci, carmak]   \n",
       "1  [elon, musk, said, tweet, someth, mean, peopl, believ, accordingli, tesla, chief, took, wit, sta...   \n",
       "2  [elon, musk, hook, tweet, claim, fund, secur, take, tesla, privat, share, juri, found, musk, lia...   \n",
       "3  [elon, musk, said, could, sold, spacex, share, take, tesla, privat, took, wit, stand, defend, fu...   \n",
       "4  [spacex, complet, first, full, static, fire, test, starship, quit, make, first, orbit, test, fli...   \n",
       "\n",
       "                                                                                            lemmatized  \\\n",
       "0              [giant, alienating, customer, bringing, le, revenue, falling, behind, legacy, carmaker]   \n",
       "1  [elon, musk, said, tweet, something, mean, people, believe, accordingly, tesla, chief, took, wit...   \n",
       "2  [elon, musk, hook, tweet, claiming, funding, secured, take, tesla, private, share, jury, found, ...   \n",
       "3  [elon, musk, said, could, sold, spacex, share, take, tesla, private, took, witness, stand, defen...   \n",
       "4  [spacex, completed, first, full, static, fire, test, starship, quite, make, first, orbital, test...   \n",
       "\n",
       "                                                                                               cleaned  \\\n",
       "0                         giant alienating customer bringing le revenue falling behind legacy carmaker   \n",
       "1  elon musk said tweet something mean people believe accordingly tesla chief took witness stand fr...   \n",
       "2  elon musk hook tweet claiming funding secured take tesla private share jury found musk liable te...   \n",
       "3  elon musk said could sold spacex share take tesla private took witness stand defend funding secu...   \n",
       "4  spacex completed first full static fire test starship quite make first orbital test flight next ...   \n",
       "\n",
       "                                                                                          no_stop_word  \n",
       "0          [giant, alienating, customers, bringing, less, revenue, falling, behind, legacy, carmakers]  \n",
       "1  [elon, musk, said, tweets, something, mean, people, believe, accordingly, tesla, chief, took, wi...  \n",
       "2  [elon, musk, hook, tweets, claiming, funding, secured, take, tesla, private, share, jury, found,...  \n",
       "3  [elon, musk, said, could, sold, spacex, shares, take, tesla, private, took, witness, stand, defe...  \n",
       "4  [spacex, completed, first, full, static, fire, test, starship, quite, makes, first, orbital, tes...  "
      ]
     },
     "execution_count": 89,
     "metadata": {},
     "output_type": "execute_result"
    }
   ],
   "source": [
    "# May / May not use this resulst depends on data and requirement\n",
    "\n",
    "ps = nltk.PorterStemmer()\n",
    "\n",
    "def stemming(text):\n",
    "    text = [ps.stem(word) for word in text]\n",
    "    return text\n",
    "\n",
    "df_Musk['stemmed'] = df_Musk['no_stop'].apply(stemming)\n",
    "df_Musk.head()"
   ]
  },
  {
   "cell_type": "markdown",
   "id": "d385227d",
   "metadata": {},
   "source": [
    "### Lemmatization"
   ]
  },
  {
   "cell_type": "code",
   "execution_count": 90,
   "id": "78f48dbd",
   "metadata": {},
   "outputs": [
    {
     "data": {
      "text/html": [
       "<div>\n",
       "<style scoped>\n",
       "    .dataframe tbody tr th:only-of-type {\n",
       "        vertical-align: middle;\n",
       "    }\n",
       "\n",
       "    .dataframe tbody tr th {\n",
       "        vertical-align: top;\n",
       "    }\n",
       "\n",
       "    .dataframe thead th {\n",
       "        text-align: right;\n",
       "    }\n",
       "</style>\n",
       "<table border=\"1\" class=\"dataframe\">\n",
       "  <thead>\n",
       "    <tr style=\"text-align: right;\">\n",
       "      <th></th>\n",
       "      <th>Headline</th>\n",
       "      <th>no_punc_low_c</th>\n",
       "      <th>tokenized</th>\n",
       "      <th>no_stop</th>\n",
       "      <th>stemmed</th>\n",
       "      <th>lemmatized</th>\n",
       "      <th>cleaned</th>\n",
       "      <th>no_stop_word</th>\n",
       "    </tr>\n",
       "  </thead>\n",
       "  <tbody>\n",
       "    <tr>\n",
       "      <th>0</th>\n",
       "      <td>giant alienating customers bringing less revenue falling behind legacy carmakers</td>\n",
       "      <td>giant alienating customers bringing less revenue falling behind legacy carmakers</td>\n",
       "      <td>[giant, alienating, customers, bringing, less, revenue, falling, behind, legacy, carmakers]</td>\n",
       "      <td>[giant, alienating, customers, bringing, less, revenue, falling, behind, legacy, carmakers]</td>\n",
       "      <td>[giant, alien, custom, bring, less, revenu, fall, behind, legaci, carmak]</td>\n",
       "      <td>[giant, alienating, customer, bringing, le, revenue, falling, behind, legacy, carmaker]</td>\n",
       "      <td>giant alienating customer bringing le revenue falling behind legacy carmaker</td>\n",
       "      <td>[giant, alienating, customers, bringing, less, revenue, falling, behind, legacy, carmakers]</td>\n",
       "    </tr>\n",
       "    <tr>\n",
       "      <th>1</th>\n",
       "      <td>Elon Musk said that just because tweets something does mean people believe will accordingly Tesl...</td>\n",
       "      <td>elon musk said that just because tweets something does mean people believe will accordingly tesl...</td>\n",
       "      <td>[elon, musk, said, that, just, because, tweets, something, does, mean, people, believe, will, ac...</td>\n",
       "      <td>[elon, musk, said, tweets, something, mean, people, believe, accordingly, tesla, chief, took, wi...</td>\n",
       "      <td>[elon, musk, said, tweet, someth, mean, peopl, believ, accordingli, tesla, chief, took, wit, sta...</td>\n",
       "      <td>[elon, musk, said, tweet, something, mean, people, believe, accordingly, tesla, chief, took, wit...</td>\n",
       "      <td>elon musk said tweet something mean people believe accordingly tesla chief took witness stand fr...</td>\n",
       "      <td>[elon, musk, said, tweets, something, mean, people, believe, accordingly, tesla, chief, took, wi...</td>\n",
       "    </tr>\n",
       "    <tr>\n",
       "      <th>2</th>\n",
       "      <td>Elon Musk hook tweets claiming funding secured take Tesla private share jury found that Musk lia...</td>\n",
       "      <td>elon musk hook tweets claiming funding secured take tesla private share jury found that musk lia...</td>\n",
       "      <td>[elon, musk, hook, tweets, claiming, funding, secured, take, tesla, private, share, jury, found,...</td>\n",
       "      <td>[elon, musk, hook, tweets, claiming, funding, secured, take, tesla, private, share, jury, found,...</td>\n",
       "      <td>[elon, musk, hook, tweet, claim, fund, secur, take, tesla, privat, share, juri, found, musk, lia...</td>\n",
       "      <td>[elon, musk, hook, tweet, claiming, funding, secured, take, tesla, private, share, jury, found, ...</td>\n",
       "      <td>elon musk hook tweet claiming funding secured take tesla private share jury found musk liable te...</td>\n",
       "      <td>[elon, musk, hook, tweets, claiming, funding, secured, take, tesla, private, share, jury, found,...</td>\n",
       "    </tr>\n",
       "    <tr>\n",
       "      <th>3</th>\n",
       "      <td>Elon Musk said could sold SpaceX shares take Tesla private when took witness stand again defend ...</td>\n",
       "      <td>elon musk said could sold spacex shares take tesla private when took witness stand again defend ...</td>\n",
       "      <td>[elon, musk, said, could, sold, spacex, shares, take, tesla, private, when, took, witness, stand...</td>\n",
       "      <td>[elon, musk, said, could, sold, spacex, shares, take, tesla, private, took, witness, stand, defe...</td>\n",
       "      <td>[elon, musk, said, could, sold, spacex, share, take, tesla, privat, took, wit, stand, defend, fu...</td>\n",
       "      <td>[elon, musk, said, could, sold, spacex, share, take, tesla, private, took, witness, stand, defen...</td>\n",
       "      <td>elon musk said could sold spacex share take tesla private took witness stand defend funding secu...</td>\n",
       "      <td>[elon, musk, said, could, sold, spacex, shares, take, tesla, private, took, witness, stand, defe...</td>\n",
       "    </tr>\n",
       "    <tr>\n",
       "      <th>4</th>\n",
       "      <td>SpaceX completed first full static fire test Starship quite that makes first orbital test flight...</td>\n",
       "      <td>spacex completed first full static fire test starship quite that makes first orbital test flight...</td>\n",
       "      <td>[spacex, completed, first, full, static, fire, test, starship, quite, that, makes, first, orbita...</td>\n",
       "      <td>[spacex, completed, first, full, static, fire, test, starship, quite, makes, first, orbital, tes...</td>\n",
       "      <td>[spacex, complet, first, full, static, fire, test, starship, quit, make, first, orbit, test, fli...</td>\n",
       "      <td>[spacex, completed, first, full, static, fire, test, starship, quite, make, first, orbital, test...</td>\n",
       "      <td>spacex completed first full static fire test starship quite make first orbital test flight next ...</td>\n",
       "      <td>[spacex, completed, first, full, static, fire, test, starship, quite, makes, first, orbital, tes...</td>\n",
       "    </tr>\n",
       "  </tbody>\n",
       "</table>\n",
       "</div>"
      ],
      "text/plain": [
       "                                                                                              Headline  \\\n",
       "0                     giant alienating customers bringing less revenue falling behind legacy carmakers   \n",
       "1  Elon Musk said that just because tweets something does mean people believe will accordingly Tesl...   \n",
       "2  Elon Musk hook tweets claiming funding secured take Tesla private share jury found that Musk lia...   \n",
       "3  Elon Musk said could sold SpaceX shares take Tesla private when took witness stand again defend ...   \n",
       "4  SpaceX completed first full static fire test Starship quite that makes first orbital test flight...   \n",
       "\n",
       "                                                                                         no_punc_low_c  \\\n",
       "0                     giant alienating customers bringing less revenue falling behind legacy carmakers   \n",
       "1  elon musk said that just because tweets something does mean people believe will accordingly tesl...   \n",
       "2  elon musk hook tweets claiming funding secured take tesla private share jury found that musk lia...   \n",
       "3  elon musk said could sold spacex shares take tesla private when took witness stand again defend ...   \n",
       "4  spacex completed first full static fire test starship quite that makes first orbital test flight...   \n",
       "\n",
       "                                                                                             tokenized  \\\n",
       "0          [giant, alienating, customers, bringing, less, revenue, falling, behind, legacy, carmakers]   \n",
       "1  [elon, musk, said, that, just, because, tweets, something, does, mean, people, believe, will, ac...   \n",
       "2  [elon, musk, hook, tweets, claiming, funding, secured, take, tesla, private, share, jury, found,...   \n",
       "3  [elon, musk, said, could, sold, spacex, shares, take, tesla, private, when, took, witness, stand...   \n",
       "4  [spacex, completed, first, full, static, fire, test, starship, quite, that, makes, first, orbita...   \n",
       "\n",
       "                                                                                               no_stop  \\\n",
       "0          [giant, alienating, customers, bringing, less, revenue, falling, behind, legacy, carmakers]   \n",
       "1  [elon, musk, said, tweets, something, mean, people, believe, accordingly, tesla, chief, took, wi...   \n",
       "2  [elon, musk, hook, tweets, claiming, funding, secured, take, tesla, private, share, jury, found,...   \n",
       "3  [elon, musk, said, could, sold, spacex, shares, take, tesla, private, took, witness, stand, defe...   \n",
       "4  [spacex, completed, first, full, static, fire, test, starship, quite, makes, first, orbital, tes...   \n",
       "\n",
       "                                                                                               stemmed  \\\n",
       "0                            [giant, alien, custom, bring, less, revenu, fall, behind, legaci, carmak]   \n",
       "1  [elon, musk, said, tweet, someth, mean, peopl, believ, accordingli, tesla, chief, took, wit, sta...   \n",
       "2  [elon, musk, hook, tweet, claim, fund, secur, take, tesla, privat, share, juri, found, musk, lia...   \n",
       "3  [elon, musk, said, could, sold, spacex, share, take, tesla, privat, took, wit, stand, defend, fu...   \n",
       "4  [spacex, complet, first, full, static, fire, test, starship, quit, make, first, orbit, test, fli...   \n",
       "\n",
       "                                                                                            lemmatized  \\\n",
       "0              [giant, alienating, customer, bringing, le, revenue, falling, behind, legacy, carmaker]   \n",
       "1  [elon, musk, said, tweet, something, mean, people, believe, accordingly, tesla, chief, took, wit...   \n",
       "2  [elon, musk, hook, tweet, claiming, funding, secured, take, tesla, private, share, jury, found, ...   \n",
       "3  [elon, musk, said, could, sold, spacex, share, take, tesla, private, took, witness, stand, defen...   \n",
       "4  [spacex, completed, first, full, static, fire, test, starship, quite, make, first, orbital, test...   \n",
       "\n",
       "                                                                                               cleaned  \\\n",
       "0                         giant alienating customer bringing le revenue falling behind legacy carmaker   \n",
       "1  elon musk said tweet something mean people believe accordingly tesla chief took witness stand fr...   \n",
       "2  elon musk hook tweet claiming funding secured take tesla private share jury found musk liable te...   \n",
       "3  elon musk said could sold spacex share take tesla private took witness stand defend funding secu...   \n",
       "4  spacex completed first full static fire test starship quite make first orbital test flight next ...   \n",
       "\n",
       "                                                                                          no_stop_word  \n",
       "0          [giant, alienating, customers, bringing, less, revenue, falling, behind, legacy, carmakers]  \n",
       "1  [elon, musk, said, tweets, something, mean, people, believe, accordingly, tesla, chief, took, wi...  \n",
       "2  [elon, musk, hook, tweets, claiming, funding, secured, take, tesla, private, share, jury, found,...  \n",
       "3  [elon, musk, said, could, sold, spacex, shares, take, tesla, private, took, witness, stand, defe...  \n",
       "4  [spacex, completed, first, full, static, fire, test, starship, quite, makes, first, orbital, tes...  "
      ]
     },
     "execution_count": 90,
     "metadata": {},
     "output_type": "execute_result"
    }
   ],
   "source": [
    "wn = nltk.WordNetLemmatizer()\n",
    "\n",
    "def lemmatizer(text):\n",
    "    text = [wn.lemmatize(word) for word in text]\n",
    "    return text\n",
    "\n",
    "df_Musk[\"lemmatized\"] = df_Musk[\"no_stop\"].apply(lemmatizer)\n",
    "df_Musk.head()"
   ]
  },
  {
   "cell_type": "markdown",
   "id": "b5b67b84",
   "metadata": {},
   "source": [
    "### Storing back to form clean string"
   ]
  },
  {
   "cell_type": "code",
   "execution_count": 91,
   "id": "3617b3b9",
   "metadata": {},
   "outputs": [
    {
     "data": {
      "text/html": [
       "<div>\n",
       "<style scoped>\n",
       "    .dataframe tbody tr th:only-of-type {\n",
       "        vertical-align: middle;\n",
       "    }\n",
       "\n",
       "    .dataframe tbody tr th {\n",
       "        vertical-align: top;\n",
       "    }\n",
       "\n",
       "    .dataframe thead th {\n",
       "        text-align: right;\n",
       "    }\n",
       "</style>\n",
       "<table border=\"1\" class=\"dataframe\">\n",
       "  <thead>\n",
       "    <tr style=\"text-align: right;\">\n",
       "      <th></th>\n",
       "      <th>Headline</th>\n",
       "      <th>no_punc_low_c</th>\n",
       "      <th>tokenized</th>\n",
       "      <th>no_stop</th>\n",
       "      <th>stemmed</th>\n",
       "      <th>lemmatized</th>\n",
       "      <th>cleaned</th>\n",
       "      <th>no_stop_word</th>\n",
       "    </tr>\n",
       "  </thead>\n",
       "  <tbody>\n",
       "    <tr>\n",
       "      <th>0</th>\n",
       "      <td>giant alienating customers bringing less revenue falling behind legacy carmakers</td>\n",
       "      <td>giant alienating customers bringing less revenue falling behind legacy carmakers</td>\n",
       "      <td>[giant, alienating, customers, bringing, less, revenue, falling, behind, legacy, carmakers]</td>\n",
       "      <td>[giant, alienating, customers, bringing, less, revenue, falling, behind, legacy, carmakers]</td>\n",
       "      <td>[giant, alien, custom, bring, less, revenu, fall, behind, legaci, carmak]</td>\n",
       "      <td>[giant, alienating, customer, bringing, le, revenue, falling, behind, legacy, carmaker]</td>\n",
       "      <td>giant alienating customer bringing le revenue falling behind legacy carmaker</td>\n",
       "      <td>[giant, alienating, customers, bringing, less, revenue, falling, behind, legacy, carmakers]</td>\n",
       "    </tr>\n",
       "    <tr>\n",
       "      <th>1</th>\n",
       "      <td>Elon Musk said that just because tweets something does mean people believe will accordingly Tesl...</td>\n",
       "      <td>elon musk said that just because tweets something does mean people believe will accordingly tesl...</td>\n",
       "      <td>[elon, musk, said, that, just, because, tweets, something, does, mean, people, believe, will, ac...</td>\n",
       "      <td>[elon, musk, said, tweets, something, mean, people, believe, accordingly, tesla, chief, took, wi...</td>\n",
       "      <td>[elon, musk, said, tweet, someth, mean, peopl, believ, accordingli, tesla, chief, took, wit, sta...</td>\n",
       "      <td>[elon, musk, said, tweet, something, mean, people, believe, accordingly, tesla, chief, took, wit...</td>\n",
       "      <td>elon musk said tweet something mean people believe accordingly tesla chief took witness stand fr...</td>\n",
       "      <td>[elon, musk, said, tweets, something, mean, people, believe, accordingly, tesla, chief, took, wi...</td>\n",
       "    </tr>\n",
       "    <tr>\n",
       "      <th>2</th>\n",
       "      <td>Elon Musk hook tweets claiming funding secured take Tesla private share jury found that Musk lia...</td>\n",
       "      <td>elon musk hook tweets claiming funding secured take tesla private share jury found that musk lia...</td>\n",
       "      <td>[elon, musk, hook, tweets, claiming, funding, secured, take, tesla, private, share, jury, found,...</td>\n",
       "      <td>[elon, musk, hook, tweets, claiming, funding, secured, take, tesla, private, share, jury, found,...</td>\n",
       "      <td>[elon, musk, hook, tweet, claim, fund, secur, take, tesla, privat, share, juri, found, musk, lia...</td>\n",
       "      <td>[elon, musk, hook, tweet, claiming, funding, secured, take, tesla, private, share, jury, found, ...</td>\n",
       "      <td>elon musk hook tweet claiming funding secured take tesla private share jury found musk liable te...</td>\n",
       "      <td>[elon, musk, hook, tweets, claiming, funding, secured, take, tesla, private, share, jury, found,...</td>\n",
       "    </tr>\n",
       "    <tr>\n",
       "      <th>3</th>\n",
       "      <td>Elon Musk said could sold SpaceX shares take Tesla private when took witness stand again defend ...</td>\n",
       "      <td>elon musk said could sold spacex shares take tesla private when took witness stand again defend ...</td>\n",
       "      <td>[elon, musk, said, could, sold, spacex, shares, take, tesla, private, when, took, witness, stand...</td>\n",
       "      <td>[elon, musk, said, could, sold, spacex, shares, take, tesla, private, took, witness, stand, defe...</td>\n",
       "      <td>[elon, musk, said, could, sold, spacex, share, take, tesla, privat, took, wit, stand, defend, fu...</td>\n",
       "      <td>[elon, musk, said, could, sold, spacex, share, take, tesla, private, took, witness, stand, defen...</td>\n",
       "      <td>elon musk said could sold spacex share take tesla private took witness stand defend funding secu...</td>\n",
       "      <td>[elon, musk, said, could, sold, spacex, shares, take, tesla, private, took, witness, stand, defe...</td>\n",
       "    </tr>\n",
       "    <tr>\n",
       "      <th>4</th>\n",
       "      <td>SpaceX completed first full static fire test Starship quite that makes first orbital test flight...</td>\n",
       "      <td>spacex completed first full static fire test starship quite that makes first orbital test flight...</td>\n",
       "      <td>[spacex, completed, first, full, static, fire, test, starship, quite, that, makes, first, orbita...</td>\n",
       "      <td>[spacex, completed, first, full, static, fire, test, starship, quite, makes, first, orbital, tes...</td>\n",
       "      <td>[spacex, complet, first, full, static, fire, test, starship, quit, make, first, orbit, test, fli...</td>\n",
       "      <td>[spacex, completed, first, full, static, fire, test, starship, quite, make, first, orbital, test...</td>\n",
       "      <td>spacex completed first full static fire test starship quite make first orbital test flight next ...</td>\n",
       "      <td>[spacex, completed, first, full, static, fire, test, starship, quite, makes, first, orbital, tes...</td>\n",
       "    </tr>\n",
       "    <tr>\n",
       "      <th>...</th>\n",
       "      <td>...</td>\n",
       "      <td>...</td>\n",
       "      <td>...</td>\n",
       "      <td>...</td>\n",
       "      <td>...</td>\n",
       "      <td>...</td>\n",
       "      <td>...</td>\n",
       "      <td>...</td>\n",
       "    </tr>\n",
       "    <tr>\n",
       "      <th>95</th>\n",
       "      <td>last recorded flight Brownsville Texas Elon Musk private about weeks before bought Twitter said ...</td>\n",
       "      <td>last recorded flight brownsville texas elon musk private about weeks before bought twitter said ...</td>\n",
       "      <td>[last, recorded, flight, brownsville, texas, elon, musk, private, about, weeks, before, bought, ...</td>\n",
       "      <td>[last, recorded, flight, brownsville, texas, elon, musk, private, weeks, bought, twitter, said, ...</td>\n",
       "      <td>[last, record, flight, brownsvil, texa, elon, musk, privat, week, bought, twitter, said, jack, s...</td>\n",
       "      <td>[last, recorded, flight, brownsville, texas, elon, musk, private, week, bought, twitter, said, j...</td>\n",
       "      <td>last recorded flight brownsville texas elon musk private week bought twitter said jack sweeney</td>\n",
       "      <td>[last, recorded, flight, brownsville, texas, elon, musk, private, weeks, bought, twitter, said, ...</td>\n",
       "    </tr>\n",
       "    <tr>\n",
       "      <th>96</th>\n",
       "      <td>Contrasting portraits emerge closing arguments class action lawsuit against Musk misleading inve...</td>\n",
       "      <td>contrasting portraits emerge closing arguments class action lawsuit against musk misleading inve...</td>\n",
       "      <td>[contrasting, portraits, emerge, closing, arguments, class, action, lawsuit, against, musk, misl...</td>\n",
       "      <td>[contrasting, portraits, emerge, closing, arguments, class, action, lawsuit, musk, misleading, i...</td>\n",
       "      <td>[contrast, portrait, emerg, close, argument, class, action, lawsuit, musk, mislead, investor, tw...</td>\n",
       "      <td>[contrasting, portrait, emerge, closing, argument, class, action, lawsuit, musk, misleading, inv...</td>\n",
       "      <td>contrasting portrait emerge closing argument class action lawsuit musk misleading investor tweet...</td>\n",
       "      <td>[contrasting, portraits, emerge, closing, arguments, class, action, lawsuit, musk, misleading, i...</td>\n",
       "    </tr>\n",
       "    <tr>\n",
       "      <th>97</th>\n",
       "      <td>Since Musk took over Twitter spreading conspiracy theories banning journalists eroded much goodw...</td>\n",
       "      <td>since musk took over twitter spreading conspiracy theories banning journalists eroded much goodw...</td>\n",
       "      <td>[since, musk, took, over, twitter, spreading, conspiracy, theories, banning, journalists, eroded...</td>\n",
       "      <td>[since, musk, took, twitter, spreading, conspiracy, theories, banning, journalists, eroded, much...</td>\n",
       "      <td>[sinc, musk, took, twitter, spread, conspiraci, theori, ban, journalist, erod, much, goodwil, to...</td>\n",
       "      <td>[since, musk, took, twitter, spreading, conspiracy, theory, banning, journalist, eroded, much, g...</td>\n",
       "      <td>since musk took twitter spreading conspiracy theory banning journalist eroded much goodwill towa...</td>\n",
       "      <td>[since, musk, took, twitter, spreading, conspiracy, theories, banning, journalists, eroded, much...</td>\n",
       "    </tr>\n",
       "    <tr>\n",
       "      <th>98</th>\n",
       "      <td>lawsuit alleging Elon Musk manipulated Tesla href https reuters companies TSLA target blank TSLA...</td>\n",
       "      <td>lawsuit alleging elon musk manipulated tesla href https reuters companies tsla target blank tsla...</td>\n",
       "      <td>[lawsuit, alleging, elon, musk, manipulated, tesla, href, https, reuters, companies, tsla, targe...</td>\n",
       "      <td>[lawsuit, alleging, elon, musk, manipulated, tesla, href, https, reuters, companies, tsla, targe...</td>\n",
       "      <td>[lawsuit, alleg, elon, musk, manipul, tesla, href, http, reuter, compani, tsla, target, blank, t...</td>\n",
       "      <td>[lawsuit, alleging, elon, musk, manipulated, tesla, href, http, reuters, company, tsla, target, ...</td>\n",
       "      <td>lawsuit alleging elon musk manipulated tesla href http reuters company tsla target blank tsla st...</td>\n",
       "      <td>[lawsuit, alleging, elon, musk, manipulated, tesla, href, https, reuters, companies, tsla, targe...</td>\n",
       "    </tr>\n",
       "    <tr>\n",
       "      <th>99</th>\n",
       "      <td>After Esther Crawford shared photo herself sleeping floor became Elon Musk insiders</td>\n",
       "      <td>after esther crawford shared photo herself sleeping floor became elon musk insiders</td>\n",
       "      <td>[after, esther, crawford, shared, photo, herself, sleeping, floor, became, elon, musk, insiders]</td>\n",
       "      <td>[esther, crawford, shared, photo, sleeping, floor, became, elon, musk, insiders]</td>\n",
       "      <td>[esther, crawford, share, photo, sleep, floor, becam, elon, musk, insid]</td>\n",
       "      <td>[esther, crawford, shared, photo, sleeping, floor, became, elon, musk, insider]</td>\n",
       "      <td>esther crawford shared photo sleeping floor became elon musk insider</td>\n",
       "      <td>[esther, crawford, shared, photo, sleeping, floor, became, elon, musk, insiders]</td>\n",
       "    </tr>\n",
       "  </tbody>\n",
       "</table>\n",
       "<p>100 rows × 8 columns</p>\n",
       "</div>"
      ],
      "text/plain": [
       "                                                                                               Headline  \\\n",
       "0                      giant alienating customers bringing less revenue falling behind legacy carmakers   \n",
       "1   Elon Musk said that just because tweets something does mean people believe will accordingly Tesl...   \n",
       "2   Elon Musk hook tweets claiming funding secured take Tesla private share jury found that Musk lia...   \n",
       "3   Elon Musk said could sold SpaceX shares take Tesla private when took witness stand again defend ...   \n",
       "4   SpaceX completed first full static fire test Starship quite that makes first orbital test flight...   \n",
       "..                                                                                                  ...   \n",
       "95  last recorded flight Brownsville Texas Elon Musk private about weeks before bought Twitter said ...   \n",
       "96  Contrasting portraits emerge closing arguments class action lawsuit against Musk misleading inve...   \n",
       "97  Since Musk took over Twitter spreading conspiracy theories banning journalists eroded much goodw...   \n",
       "98  lawsuit alleging Elon Musk manipulated Tesla href https reuters companies TSLA target blank TSLA...   \n",
       "99                  After Esther Crawford shared photo herself sleeping floor became Elon Musk insiders   \n",
       "\n",
       "                                                                                          no_punc_low_c  \\\n",
       "0                      giant alienating customers bringing less revenue falling behind legacy carmakers   \n",
       "1   elon musk said that just because tweets something does mean people believe will accordingly tesl...   \n",
       "2   elon musk hook tweets claiming funding secured take tesla private share jury found that musk lia...   \n",
       "3   elon musk said could sold spacex shares take tesla private when took witness stand again defend ...   \n",
       "4   spacex completed first full static fire test starship quite that makes first orbital test flight...   \n",
       "..                                                                                                  ...   \n",
       "95  last recorded flight brownsville texas elon musk private about weeks before bought twitter said ...   \n",
       "96  contrasting portraits emerge closing arguments class action lawsuit against musk misleading inve...   \n",
       "97  since musk took over twitter spreading conspiracy theories banning journalists eroded much goodw...   \n",
       "98  lawsuit alleging elon musk manipulated tesla href https reuters companies tsla target blank tsla...   \n",
       "99                  after esther crawford shared photo herself sleeping floor became elon musk insiders   \n",
       "\n",
       "                                                                                              tokenized  \\\n",
       "0           [giant, alienating, customers, bringing, less, revenue, falling, behind, legacy, carmakers]   \n",
       "1   [elon, musk, said, that, just, because, tweets, something, does, mean, people, believe, will, ac...   \n",
       "2   [elon, musk, hook, tweets, claiming, funding, secured, take, tesla, private, share, jury, found,...   \n",
       "3   [elon, musk, said, could, sold, spacex, shares, take, tesla, private, when, took, witness, stand...   \n",
       "4   [spacex, completed, first, full, static, fire, test, starship, quite, that, makes, first, orbita...   \n",
       "..                                                                                                  ...   \n",
       "95  [last, recorded, flight, brownsville, texas, elon, musk, private, about, weeks, before, bought, ...   \n",
       "96  [contrasting, portraits, emerge, closing, arguments, class, action, lawsuit, against, musk, misl...   \n",
       "97  [since, musk, took, over, twitter, spreading, conspiracy, theories, banning, journalists, eroded...   \n",
       "98  [lawsuit, alleging, elon, musk, manipulated, tesla, href, https, reuters, companies, tsla, targe...   \n",
       "99     [after, esther, crawford, shared, photo, herself, sleeping, floor, became, elon, musk, insiders]   \n",
       "\n",
       "                                                                                                no_stop  \\\n",
       "0           [giant, alienating, customers, bringing, less, revenue, falling, behind, legacy, carmakers]   \n",
       "1   [elon, musk, said, tweets, something, mean, people, believe, accordingly, tesla, chief, took, wi...   \n",
       "2   [elon, musk, hook, tweets, claiming, funding, secured, take, tesla, private, share, jury, found,...   \n",
       "3   [elon, musk, said, could, sold, spacex, shares, take, tesla, private, took, witness, stand, defe...   \n",
       "4   [spacex, completed, first, full, static, fire, test, starship, quite, makes, first, orbital, tes...   \n",
       "..                                                                                                  ...   \n",
       "95  [last, recorded, flight, brownsville, texas, elon, musk, private, weeks, bought, twitter, said, ...   \n",
       "96  [contrasting, portraits, emerge, closing, arguments, class, action, lawsuit, musk, misleading, i...   \n",
       "97  [since, musk, took, twitter, spreading, conspiracy, theories, banning, journalists, eroded, much...   \n",
       "98  [lawsuit, alleging, elon, musk, manipulated, tesla, href, https, reuters, companies, tsla, targe...   \n",
       "99                     [esther, crawford, shared, photo, sleeping, floor, became, elon, musk, insiders]   \n",
       "\n",
       "                                                                                                stemmed  \\\n",
       "0                             [giant, alien, custom, bring, less, revenu, fall, behind, legaci, carmak]   \n",
       "1   [elon, musk, said, tweet, someth, mean, peopl, believ, accordingli, tesla, chief, took, wit, sta...   \n",
       "2   [elon, musk, hook, tweet, claim, fund, secur, take, tesla, privat, share, juri, found, musk, lia...   \n",
       "3   [elon, musk, said, could, sold, spacex, share, take, tesla, privat, took, wit, stand, defend, fu...   \n",
       "4   [spacex, complet, first, full, static, fire, test, starship, quit, make, first, orbit, test, fli...   \n",
       "..                                                                                                  ...   \n",
       "95  [last, record, flight, brownsvil, texa, elon, musk, privat, week, bought, twitter, said, jack, s...   \n",
       "96  [contrast, portrait, emerg, close, argument, class, action, lawsuit, musk, mislead, investor, tw...   \n",
       "97  [sinc, musk, took, twitter, spread, conspiraci, theori, ban, journalist, erod, much, goodwil, to...   \n",
       "98  [lawsuit, alleg, elon, musk, manipul, tesla, href, http, reuter, compani, tsla, target, blank, t...   \n",
       "99                             [esther, crawford, share, photo, sleep, floor, becam, elon, musk, insid]   \n",
       "\n",
       "                                                                                             lemmatized  \\\n",
       "0               [giant, alienating, customer, bringing, le, revenue, falling, behind, legacy, carmaker]   \n",
       "1   [elon, musk, said, tweet, something, mean, people, believe, accordingly, tesla, chief, took, wit...   \n",
       "2   [elon, musk, hook, tweet, claiming, funding, secured, take, tesla, private, share, jury, found, ...   \n",
       "3   [elon, musk, said, could, sold, spacex, share, take, tesla, private, took, witness, stand, defen...   \n",
       "4   [spacex, completed, first, full, static, fire, test, starship, quite, make, first, orbital, test...   \n",
       "..                                                                                                  ...   \n",
       "95  [last, recorded, flight, brownsville, texas, elon, musk, private, week, bought, twitter, said, j...   \n",
       "96  [contrasting, portrait, emerge, closing, argument, class, action, lawsuit, musk, misleading, inv...   \n",
       "97  [since, musk, took, twitter, spreading, conspiracy, theory, banning, journalist, eroded, much, g...   \n",
       "98  [lawsuit, alleging, elon, musk, manipulated, tesla, href, http, reuters, company, tsla, target, ...   \n",
       "99                      [esther, crawford, shared, photo, sleeping, floor, became, elon, musk, insider]   \n",
       "\n",
       "                                                                                                cleaned  \\\n",
       "0                          giant alienating customer bringing le revenue falling behind legacy carmaker   \n",
       "1   elon musk said tweet something mean people believe accordingly tesla chief took witness stand fr...   \n",
       "2   elon musk hook tweet claiming funding secured take tesla private share jury found musk liable te...   \n",
       "3   elon musk said could sold spacex share take tesla private took witness stand defend funding secu...   \n",
       "4   spacex completed first full static fire test starship quite make first orbital test flight next ...   \n",
       "..                                                                                                  ...   \n",
       "95       last recorded flight brownsville texas elon musk private week bought twitter said jack sweeney   \n",
       "96  contrasting portrait emerge closing argument class action lawsuit musk misleading investor tweet...   \n",
       "97  since musk took twitter spreading conspiracy theory banning journalist eroded much goodwill towa...   \n",
       "98  lawsuit alleging elon musk manipulated tesla href http reuters company tsla target blank tsla st...   \n",
       "99                                 esther crawford shared photo sleeping floor became elon musk insider   \n",
       "\n",
       "                                                                                           no_stop_word  \n",
       "0           [giant, alienating, customers, bringing, less, revenue, falling, behind, legacy, carmakers]  \n",
       "1   [elon, musk, said, tweets, something, mean, people, believe, accordingly, tesla, chief, took, wi...  \n",
       "2   [elon, musk, hook, tweets, claiming, funding, secured, take, tesla, private, share, jury, found,...  \n",
       "3   [elon, musk, said, could, sold, spacex, shares, take, tesla, private, took, witness, stand, defe...  \n",
       "4   [spacex, completed, first, full, static, fire, test, starship, quite, makes, first, orbital, tes...  \n",
       "..                                                                                                  ...  \n",
       "95  [last, recorded, flight, brownsville, texas, elon, musk, private, weeks, bought, twitter, said, ...  \n",
       "96  [contrasting, portraits, emerge, closing, arguments, class, action, lawsuit, musk, misleading, i...  \n",
       "97  [since, musk, took, twitter, spreading, conspiracy, theories, banning, journalists, eroded, much...  \n",
       "98  [lawsuit, alleging, elon, musk, manipulated, tesla, href, https, reuters, companies, tsla, targe...  \n",
       "99                     [esther, crawford, shared, photo, sleeping, floor, became, elon, musk, insiders]  \n",
       "\n",
       "[100 rows x 8 columns]"
      ]
     },
     "execution_count": 91,
     "metadata": {},
     "output_type": "execute_result"
    }
   ],
   "source": [
    "df_Musk[\"cleaned\"] = df_Musk[\"lemmatized\"].apply(lambda x: \" \".join(x))\n",
    "df_Musk"
   ]
  },
  {
   "cell_type": "markdown",
   "id": "66a37b92",
   "metadata": {},
   "source": [
    "### Saving to in local CSV only Cleaned Elon Musk Data"
   ]
  },
  {
   "cell_type": "code",
   "execution_count": 171,
   "id": "1715f87a",
   "metadata": {},
   "outputs": [],
   "source": [
    "df_1 = df_Musk[\"cleaned\"]\n",
    "df_1.to_csv('Musk_Cleaned.csv', index=False)"
   ]
  },
  {
   "cell_type": "markdown",
   "id": "ab7d6b3b",
   "metadata": {},
   "source": [
    "## EDA"
   ]
  },
  {
   "cell_type": "markdown",
   "id": "b6732398",
   "metadata": {},
   "source": [
    "### Count Vectorizer"
   ]
  },
  {
   "cell_type": "markdown",
   "id": "3016bfab",
   "metadata": {},
   "source": [
    "countVectorizer Parameter:\n",
    "\n",
    "min_df = 1 {The word must appear in at least one document to min_df}\n",
    "\n",
    "max_df = 100 {The word must appear in less than or equal to max_df}\n",
    "\n",
    "token_pattern=r'\\b\\w{4,}\\b' {Minimum word length to keep, here it is given 4}\n",
    "\n",
    "max_features=50 {Maximum number of words to keep in Dataframe: Highest frequency words only come}"
   ]
  },
  {
   "cell_type": "code",
   "execution_count": 140,
   "id": "d81750ff",
   "metadata": {},
   "outputs": [
    {
     "name": "stderr",
     "output_type": "stream",
     "text": [
      "C:\\Users\\jeetp\\anaconda3\\lib\\site-packages\\sklearn\\utils\\deprecation.py:87: FutureWarning:\n",
      "\n",
      "Function get_feature_names is deprecated; get_feature_names is deprecated in 1.0 and will be removed in 1.2. Please use get_feature_names_out instead.\n",
      "\n"
     ]
    },
    {
     "data": {
      "text/html": [
       "<div>\n",
       "<style scoped>\n",
       "    .dataframe tbody tr th:only-of-type {\n",
       "        vertical-align: middle;\n",
       "    }\n",
       "\n",
       "    .dataframe tbody tr th {\n",
       "        vertical-align: top;\n",
       "    }\n",
       "\n",
       "    .dataframe thead th {\n",
       "        text-align: right;\n",
       "    }\n",
       "</style>\n",
       "<table border=\"1\" class=\"dataframe\">\n",
       "  <thead>\n",
       "    <tr style=\"text-align: right;\">\n",
       "      <th></th>\n",
       "      <th>according</th>\n",
       "      <th>account</th>\n",
       "      <th>back</th>\n",
       "      <th>billion</th>\n",
       "      <th>billionaire</th>\n",
       "      <th>blank</th>\n",
       "      <th>blue</th>\n",
       "      <th>chief</th>\n",
       "      <th>company</th>\n",
       "      <th>defend</th>\n",
       "      <th>...</th>\n",
       "      <th>testified</th>\n",
       "      <th>told</th>\n",
       "      <th>took</th>\n",
       "      <th>trial</th>\n",
       "      <th>tsla</th>\n",
       "      <th>tweet</th>\n",
       "      <th>tweeted</th>\n",
       "      <th>twitter</th>\n",
       "      <th>week</th>\n",
       "      <th>year</th>\n",
       "    </tr>\n",
       "  </thead>\n",
       "  <tbody>\n",
       "    <tr>\n",
       "      <th>0</th>\n",
       "      <td>0</td>\n",
       "      <td>0</td>\n",
       "      <td>0</td>\n",
       "      <td>0</td>\n",
       "      <td>0</td>\n",
       "      <td>0</td>\n",
       "      <td>0</td>\n",
       "      <td>0</td>\n",
       "      <td>0</td>\n",
       "      <td>0</td>\n",
       "      <td>...</td>\n",
       "      <td>0</td>\n",
       "      <td>0</td>\n",
       "      <td>0</td>\n",
       "      <td>0</td>\n",
       "      <td>0</td>\n",
       "      <td>0</td>\n",
       "      <td>0</td>\n",
       "      <td>0</td>\n",
       "      <td>0</td>\n",
       "      <td>0</td>\n",
       "    </tr>\n",
       "    <tr>\n",
       "      <th>1</th>\n",
       "      <td>0</td>\n",
       "      <td>0</td>\n",
       "      <td>1</td>\n",
       "      <td>0</td>\n",
       "      <td>0</td>\n",
       "      <td>0</td>\n",
       "      <td>0</td>\n",
       "      <td>1</td>\n",
       "      <td>0</td>\n",
       "      <td>1</td>\n",
       "      <td>...</td>\n",
       "      <td>0</td>\n",
       "      <td>0</td>\n",
       "      <td>1</td>\n",
       "      <td>0</td>\n",
       "      <td>0</td>\n",
       "      <td>2</td>\n",
       "      <td>0</td>\n",
       "      <td>0</td>\n",
       "      <td>0</td>\n",
       "      <td>0</td>\n",
       "    </tr>\n",
       "    <tr>\n",
       "      <th>2</th>\n",
       "      <td>0</td>\n",
       "      <td>0</td>\n",
       "      <td>0</td>\n",
       "      <td>0</td>\n",
       "      <td>0</td>\n",
       "      <td>0</td>\n",
       "      <td>0</td>\n",
       "      <td>0</td>\n",
       "      <td>0</td>\n",
       "      <td>0</td>\n",
       "      <td>...</td>\n",
       "      <td>0</td>\n",
       "      <td>0</td>\n",
       "      <td>0</td>\n",
       "      <td>1</td>\n",
       "      <td>0</td>\n",
       "      <td>1</td>\n",
       "      <td>0</td>\n",
       "      <td>0</td>\n",
       "      <td>1</td>\n",
       "      <td>0</td>\n",
       "    </tr>\n",
       "    <tr>\n",
       "      <th>3</th>\n",
       "      <td>1</td>\n",
       "      <td>0</td>\n",
       "      <td>0</td>\n",
       "      <td>0</td>\n",
       "      <td>0</td>\n",
       "      <td>0</td>\n",
       "      <td>0</td>\n",
       "      <td>0</td>\n",
       "      <td>0</td>\n",
       "      <td>1</td>\n",
       "      <td>...</td>\n",
       "      <td>0</td>\n",
       "      <td>0</td>\n",
       "      <td>1</td>\n",
       "      <td>0</td>\n",
       "      <td>0</td>\n",
       "      <td>1</td>\n",
       "      <td>0</td>\n",
       "      <td>0</td>\n",
       "      <td>0</td>\n",
       "      <td>0</td>\n",
       "    </tr>\n",
       "    <tr>\n",
       "      <th>4</th>\n",
       "      <td>0</td>\n",
       "      <td>0</td>\n",
       "      <td>0</td>\n",
       "      <td>0</td>\n",
       "      <td>0</td>\n",
       "      <td>0</td>\n",
       "      <td>0</td>\n",
       "      <td>0</td>\n",
       "      <td>1</td>\n",
       "      <td>0</td>\n",
       "      <td>...</td>\n",
       "      <td>0</td>\n",
       "      <td>0</td>\n",
       "      <td>0</td>\n",
       "      <td>0</td>\n",
       "      <td>0</td>\n",
       "      <td>0</td>\n",
       "      <td>0</td>\n",
       "      <td>0</td>\n",
       "      <td>0</td>\n",
       "      <td>0</td>\n",
       "    </tr>\n",
       "  </tbody>\n",
       "</table>\n",
       "<p>5 rows × 50 columns</p>\n",
       "</div>"
      ],
      "text/plain": [
       "   according  account  back  billion  billionaire  blank  blue  chief  \\\n",
       "0          0        0     0        0            0      0     0      0   \n",
       "1          0        0     1        0            0      0     0      1   \n",
       "2          0        0     0        0            0      0     0      0   \n",
       "3          1        0     0        0            0      0     0      0   \n",
       "4          0        0     0        0            0      0     0      0   \n",
       "\n",
       "   company  defend  ...  testified  told  took  trial  tsla  tweet  tweeted  \\\n",
       "0        0       0  ...          0     0     0      0     0      0        0   \n",
       "1        0       1  ...          0     0     1      0     0      2        0   \n",
       "2        0       0  ...          0     0     0      1     0      1        0   \n",
       "3        0       1  ...          0     0     1      0     0      1        0   \n",
       "4        1       0  ...          0     0     0      0     0      0        0   \n",
       "\n",
       "   twitter  week  year  \n",
       "0        0     0     0  \n",
       "1        0     0     0  \n",
       "2        0     1     0  \n",
       "3        0     0     0  \n",
       "4        0     0     0  \n",
       "\n",
       "[5 rows x 50 columns]"
      ]
     },
     "execution_count": 140,
     "metadata": {},
     "output_type": "execute_result"
    }
   ],
   "source": [
    "#Instantiating CountVectorizer by entering the required values\n",
    "countVectorizer = CountVectorizer(max_df=500, min_df=1, max_features=50, token_pattern=r'\\b\\w{3,}\\b', strip_accents=\"ascii\")\n",
    "\n",
    "#Using the CountVectorizer for our Dataframe's column\n",
    "countVector = countVectorizer.fit_transform(df_Musk[\"cleaned\"])\n",
    "\n",
    "#Creating new Dataframe and storing the data in it\n",
    "count_vect_df = pd.DataFrame(countVector.toarray(), columns=countVectorizer.get_feature_names())\n",
    "\n",
    "#Storing Feature Names:\n",
    "ColumnNames=countVectorizer.get_feature_names()\n",
    "\n",
    "count_vect_df.head()\n",
    "\n"
   ]
  },
  {
   "cell_type": "markdown",
   "id": "7b7a8d22",
   "metadata": {},
   "source": [
    "### Visualization"
   ]
  },
  {
   "cell_type": "code",
   "execution_count": 62,
   "id": "6a4814ef",
   "metadata": {},
   "outputs": [],
   "source": [
    "import plotly.graph_objects as go\n",
    "import plotly.express as px"
   ]
  },
  {
   "cell_type": "markdown",
   "id": "791356cf",
   "metadata": {},
   "source": [
    "### Character level histogram"
   ]
  },
  {
   "cell_type": "markdown",
   "id": "57818db9",
   "metadata": {},
   "source": [
    "Below Histogram is not very good representation of cleaning the data as not good comapirion"
   ]
  },
  {
   "cell_type": "code",
   "execution_count": 93,
   "id": "b6435dd2",
   "metadata": {},
   "outputs": [
    {
     "data": {
      "application/vnd.plotly.v1+json": {
       "config": {
        "plotlyServerURL": "https://plot.ly"
       },
       "data": [
        {
         "name": "Length of character before cleaning",
         "opacity": 0.65,
         "type": "histogram",
         "x": [
          80,
          186,
          173,
          204,
          196,
          127,
          194,
          161,
          186,
          181,
          179,
          202,
          66,
          182,
          216,
          183,
          113,
          195,
          194,
          173,
          187,
          186,
          171,
          171,
          172,
          206,
          86,
          55,
          120,
          115,
          102,
          110,
          119,
          204,
          75,
          204,
          205,
          190,
          118,
          118,
          84,
          93,
          92,
          109,
          172,
          86,
          109,
          148,
          99,
          129,
          56,
          181,
          206,
          106,
          95,
          167,
          209,
          116,
          171,
          90,
          117,
          109,
          106,
          101,
          118,
          84,
          86,
          124,
          184,
          192,
          99,
          108,
          108,
          99,
          115,
          113,
          105,
          111,
          97,
          90,
          110,
          91,
          81,
          96,
          112,
          86,
          79,
          126,
          116,
          112,
          101,
          112,
          88,
          115,
          134,
          108,
          216,
          112,
          188,
          83
         ]
        },
        {
         "name": "Length of character after cleaning",
         "opacity": 0.65,
         "type": "histogram",
         "x": [
          76,
          148,
          163,
          190,
          173,
          121,
          171,
          131,
          179,
          144,
          151,
          191,
          59,
          137,
          204,
          160,
          108,
          176,
          177,
          162,
          157,
          161,
          141,
          164,
          141,
          194,
          71,
          55,
          110,
          104,
          102,
          98,
          112,
          196,
          61,
          175,
          183,
          173,
          113,
          107,
          79,
          81,
          75,
          101,
          129,
          72,
          102,
          134,
          94,
          114,
          51,
          165,
          200,
          98,
          84,
          150,
          189,
          116,
          148,
          84,
          104,
          102,
          89,
          85,
          104,
          83,
          64,
          103,
          160,
          159,
          87,
          95,
          89,
          91,
          100,
          100,
          83,
          100,
          92,
          83,
          99,
          89,
          75,
          85,
          99,
          86,
          64,
          111,
          113,
          84,
          94,
          93,
          68,
          113,
          121,
          94,
          194,
          104,
          172,
          68
         ]
        }
       ],
       "layout": {
        "barmode": "overlay",
        "template": {
         "data": {
          "bar": [
           {
            "error_x": {
             "color": "#2a3f5f"
            },
            "error_y": {
             "color": "#2a3f5f"
            },
            "marker": {
             "line": {
              "color": "#E5ECF6",
              "width": 0.5
             },
             "pattern": {
              "fillmode": "overlay",
              "size": 10,
              "solidity": 0.2
             }
            },
            "type": "bar"
           }
          ],
          "barpolar": [
           {
            "marker": {
             "line": {
              "color": "#E5ECF6",
              "width": 0.5
             },
             "pattern": {
              "fillmode": "overlay",
              "size": 10,
              "solidity": 0.2
             }
            },
            "type": "barpolar"
           }
          ],
          "carpet": [
           {
            "aaxis": {
             "endlinecolor": "#2a3f5f",
             "gridcolor": "white",
             "linecolor": "white",
             "minorgridcolor": "white",
             "startlinecolor": "#2a3f5f"
            },
            "baxis": {
             "endlinecolor": "#2a3f5f",
             "gridcolor": "white",
             "linecolor": "white",
             "minorgridcolor": "white",
             "startlinecolor": "#2a3f5f"
            },
            "type": "carpet"
           }
          ],
          "choropleth": [
           {
            "colorbar": {
             "outlinewidth": 0,
             "ticks": ""
            },
            "type": "choropleth"
           }
          ],
          "contour": [
           {
            "colorbar": {
             "outlinewidth": 0,
             "ticks": ""
            },
            "colorscale": [
             [
              0,
              "#0d0887"
             ],
             [
              0.1111111111111111,
              "#46039f"
             ],
             [
              0.2222222222222222,
              "#7201a8"
             ],
             [
              0.3333333333333333,
              "#9c179e"
             ],
             [
              0.4444444444444444,
              "#bd3786"
             ],
             [
              0.5555555555555556,
              "#d8576b"
             ],
             [
              0.6666666666666666,
              "#ed7953"
             ],
             [
              0.7777777777777778,
              "#fb9f3a"
             ],
             [
              0.8888888888888888,
              "#fdca26"
             ],
             [
              1,
              "#f0f921"
             ]
            ],
            "type": "contour"
           }
          ],
          "contourcarpet": [
           {
            "colorbar": {
             "outlinewidth": 0,
             "ticks": ""
            },
            "type": "contourcarpet"
           }
          ],
          "heatmap": [
           {
            "colorbar": {
             "outlinewidth": 0,
             "ticks": ""
            },
            "colorscale": [
             [
              0,
              "#0d0887"
             ],
             [
              0.1111111111111111,
              "#46039f"
             ],
             [
              0.2222222222222222,
              "#7201a8"
             ],
             [
              0.3333333333333333,
              "#9c179e"
             ],
             [
              0.4444444444444444,
              "#bd3786"
             ],
             [
              0.5555555555555556,
              "#d8576b"
             ],
             [
              0.6666666666666666,
              "#ed7953"
             ],
             [
              0.7777777777777778,
              "#fb9f3a"
             ],
             [
              0.8888888888888888,
              "#fdca26"
             ],
             [
              1,
              "#f0f921"
             ]
            ],
            "type": "heatmap"
           }
          ],
          "heatmapgl": [
           {
            "colorbar": {
             "outlinewidth": 0,
             "ticks": ""
            },
            "colorscale": [
             [
              0,
              "#0d0887"
             ],
             [
              0.1111111111111111,
              "#46039f"
             ],
             [
              0.2222222222222222,
              "#7201a8"
             ],
             [
              0.3333333333333333,
              "#9c179e"
             ],
             [
              0.4444444444444444,
              "#bd3786"
             ],
             [
              0.5555555555555556,
              "#d8576b"
             ],
             [
              0.6666666666666666,
              "#ed7953"
             ],
             [
              0.7777777777777778,
              "#fb9f3a"
             ],
             [
              0.8888888888888888,
              "#fdca26"
             ],
             [
              1,
              "#f0f921"
             ]
            ],
            "type": "heatmapgl"
           }
          ],
          "histogram": [
           {
            "marker": {
             "pattern": {
              "fillmode": "overlay",
              "size": 10,
              "solidity": 0.2
             }
            },
            "type": "histogram"
           }
          ],
          "histogram2d": [
           {
            "colorbar": {
             "outlinewidth": 0,
             "ticks": ""
            },
            "colorscale": [
             [
              0,
              "#0d0887"
             ],
             [
              0.1111111111111111,
              "#46039f"
             ],
             [
              0.2222222222222222,
              "#7201a8"
             ],
             [
              0.3333333333333333,
              "#9c179e"
             ],
             [
              0.4444444444444444,
              "#bd3786"
             ],
             [
              0.5555555555555556,
              "#d8576b"
             ],
             [
              0.6666666666666666,
              "#ed7953"
             ],
             [
              0.7777777777777778,
              "#fb9f3a"
             ],
             [
              0.8888888888888888,
              "#fdca26"
             ],
             [
              1,
              "#f0f921"
             ]
            ],
            "type": "histogram2d"
           }
          ],
          "histogram2dcontour": [
           {
            "colorbar": {
             "outlinewidth": 0,
             "ticks": ""
            },
            "colorscale": [
             [
              0,
              "#0d0887"
             ],
             [
              0.1111111111111111,
              "#46039f"
             ],
             [
              0.2222222222222222,
              "#7201a8"
             ],
             [
              0.3333333333333333,
              "#9c179e"
             ],
             [
              0.4444444444444444,
              "#bd3786"
             ],
             [
              0.5555555555555556,
              "#d8576b"
             ],
             [
              0.6666666666666666,
              "#ed7953"
             ],
             [
              0.7777777777777778,
              "#fb9f3a"
             ],
             [
              0.8888888888888888,
              "#fdca26"
             ],
             [
              1,
              "#f0f921"
             ]
            ],
            "type": "histogram2dcontour"
           }
          ],
          "mesh3d": [
           {
            "colorbar": {
             "outlinewidth": 0,
             "ticks": ""
            },
            "type": "mesh3d"
           }
          ],
          "parcoords": [
           {
            "line": {
             "colorbar": {
              "outlinewidth": 0,
              "ticks": ""
             }
            },
            "type": "parcoords"
           }
          ],
          "pie": [
           {
            "automargin": true,
            "type": "pie"
           }
          ],
          "scatter": [
           {
            "marker": {
             "colorbar": {
              "outlinewidth": 0,
              "ticks": ""
             }
            },
            "type": "scatter"
           }
          ],
          "scatter3d": [
           {
            "line": {
             "colorbar": {
              "outlinewidth": 0,
              "ticks": ""
             }
            },
            "marker": {
             "colorbar": {
              "outlinewidth": 0,
              "ticks": ""
             }
            },
            "type": "scatter3d"
           }
          ],
          "scattercarpet": [
           {
            "marker": {
             "colorbar": {
              "outlinewidth": 0,
              "ticks": ""
             }
            },
            "type": "scattercarpet"
           }
          ],
          "scattergeo": [
           {
            "marker": {
             "colorbar": {
              "outlinewidth": 0,
              "ticks": ""
             }
            },
            "type": "scattergeo"
           }
          ],
          "scattergl": [
           {
            "marker": {
             "colorbar": {
              "outlinewidth": 0,
              "ticks": ""
             }
            },
            "type": "scattergl"
           }
          ],
          "scattermapbox": [
           {
            "marker": {
             "colorbar": {
              "outlinewidth": 0,
              "ticks": ""
             }
            },
            "type": "scattermapbox"
           }
          ],
          "scatterpolar": [
           {
            "marker": {
             "colorbar": {
              "outlinewidth": 0,
              "ticks": ""
             }
            },
            "type": "scatterpolar"
           }
          ],
          "scatterpolargl": [
           {
            "marker": {
             "colorbar": {
              "outlinewidth": 0,
              "ticks": ""
             }
            },
            "type": "scatterpolargl"
           }
          ],
          "scatterternary": [
           {
            "marker": {
             "colorbar": {
              "outlinewidth": 0,
              "ticks": ""
             }
            },
            "type": "scatterternary"
           }
          ],
          "surface": [
           {
            "colorbar": {
             "outlinewidth": 0,
             "ticks": ""
            },
            "colorscale": [
             [
              0,
              "#0d0887"
             ],
             [
              0.1111111111111111,
              "#46039f"
             ],
             [
              0.2222222222222222,
              "#7201a8"
             ],
             [
              0.3333333333333333,
              "#9c179e"
             ],
             [
              0.4444444444444444,
              "#bd3786"
             ],
             [
              0.5555555555555556,
              "#d8576b"
             ],
             [
              0.6666666666666666,
              "#ed7953"
             ],
             [
              0.7777777777777778,
              "#fb9f3a"
             ],
             [
              0.8888888888888888,
              "#fdca26"
             ],
             [
              1,
              "#f0f921"
             ]
            ],
            "type": "surface"
           }
          ],
          "table": [
           {
            "cells": {
             "fill": {
              "color": "#EBF0F8"
             },
             "line": {
              "color": "white"
             }
            },
            "header": {
             "fill": {
              "color": "#C8D4E3"
             },
             "line": {
              "color": "white"
             }
            },
            "type": "table"
           }
          ]
         },
         "layout": {
          "annotationdefaults": {
           "arrowcolor": "#2a3f5f",
           "arrowhead": 0,
           "arrowwidth": 1
          },
          "autotypenumbers": "strict",
          "coloraxis": {
           "colorbar": {
            "outlinewidth": 0,
            "ticks": ""
           }
          },
          "colorscale": {
           "diverging": [
            [
             0,
             "#8e0152"
            ],
            [
             0.1,
             "#c51b7d"
            ],
            [
             0.2,
             "#de77ae"
            ],
            [
             0.3,
             "#f1b6da"
            ],
            [
             0.4,
             "#fde0ef"
            ],
            [
             0.5,
             "#f7f7f7"
            ],
            [
             0.6,
             "#e6f5d0"
            ],
            [
             0.7,
             "#b8e186"
            ],
            [
             0.8,
             "#7fbc41"
            ],
            [
             0.9,
             "#4d9221"
            ],
            [
             1,
             "#276419"
            ]
           ],
           "sequential": [
            [
             0,
             "#0d0887"
            ],
            [
             0.1111111111111111,
             "#46039f"
            ],
            [
             0.2222222222222222,
             "#7201a8"
            ],
            [
             0.3333333333333333,
             "#9c179e"
            ],
            [
             0.4444444444444444,
             "#bd3786"
            ],
            [
             0.5555555555555556,
             "#d8576b"
            ],
            [
             0.6666666666666666,
             "#ed7953"
            ],
            [
             0.7777777777777778,
             "#fb9f3a"
            ],
            [
             0.8888888888888888,
             "#fdca26"
            ],
            [
             1,
             "#f0f921"
            ]
           ],
           "sequentialminus": [
            [
             0,
             "#0d0887"
            ],
            [
             0.1111111111111111,
             "#46039f"
            ],
            [
             0.2222222222222222,
             "#7201a8"
            ],
            [
             0.3333333333333333,
             "#9c179e"
            ],
            [
             0.4444444444444444,
             "#bd3786"
            ],
            [
             0.5555555555555556,
             "#d8576b"
            ],
            [
             0.6666666666666666,
             "#ed7953"
            ],
            [
             0.7777777777777778,
             "#fb9f3a"
            ],
            [
             0.8888888888888888,
             "#fdca26"
            ],
            [
             1,
             "#f0f921"
            ]
           ]
          },
          "colorway": [
           "#636efa",
           "#EF553B",
           "#00cc96",
           "#ab63fa",
           "#FFA15A",
           "#19d3f3",
           "#FF6692",
           "#B6E880",
           "#FF97FF",
           "#FECB52"
          ],
          "font": {
           "color": "#2a3f5f"
          },
          "geo": {
           "bgcolor": "white",
           "lakecolor": "white",
           "landcolor": "#E5ECF6",
           "showlakes": true,
           "showland": true,
           "subunitcolor": "white"
          },
          "hoverlabel": {
           "align": "left"
          },
          "hovermode": "closest",
          "mapbox": {
           "style": "light"
          },
          "paper_bgcolor": "white",
          "plot_bgcolor": "#E5ECF6",
          "polar": {
           "angularaxis": {
            "gridcolor": "white",
            "linecolor": "white",
            "ticks": ""
           },
           "bgcolor": "#E5ECF6",
           "radialaxis": {
            "gridcolor": "white",
            "linecolor": "white",
            "ticks": ""
           }
          },
          "scene": {
           "xaxis": {
            "backgroundcolor": "#E5ECF6",
            "gridcolor": "white",
            "gridwidth": 2,
            "linecolor": "white",
            "showbackground": true,
            "ticks": "",
            "zerolinecolor": "white"
           },
           "yaxis": {
            "backgroundcolor": "#E5ECF6",
            "gridcolor": "white",
            "gridwidth": 2,
            "linecolor": "white",
            "showbackground": true,
            "ticks": "",
            "zerolinecolor": "white"
           },
           "zaxis": {
            "backgroundcolor": "#E5ECF6",
            "gridcolor": "white",
            "gridwidth": 2,
            "linecolor": "white",
            "showbackground": true,
            "ticks": "",
            "zerolinecolor": "white"
           }
          },
          "shapedefaults": {
           "line": {
            "color": "#2a3f5f"
           }
          },
          "ternary": {
           "aaxis": {
            "gridcolor": "white",
            "linecolor": "white",
            "ticks": ""
           },
           "baxis": {
            "gridcolor": "white",
            "linecolor": "white",
            "ticks": ""
           },
           "bgcolor": "#E5ECF6",
           "caxis": {
            "gridcolor": "white",
            "linecolor": "white",
            "ticks": ""
           }
          },
          "title": {
           "x": 0.05
          },
          "xaxis": {
           "automargin": true,
           "gridcolor": "white",
           "linecolor": "white",
           "ticks": "",
           "title": {
            "standoff": 15
           },
           "zerolinecolor": "white",
           "zerolinewidth": 2
          },
          "yaxis": {
           "automargin": true,
           "gridcolor": "white",
           "linecolor": "white",
           "ticks": "",
           "title": {
            "standoff": 15
           },
           "zerolinecolor": "white",
           "zerolinewidth": 2
          }
         }
        }
       }
      },
      "text/html": [
       "<div>                            <div id=\"de87136f-a9a4-450f-b23c-8362dedba160\" class=\"plotly-graph-div\" style=\"height:525px; width:100%;\"></div>            <script type=\"text/javascript\">                require([\"plotly\"], function(Plotly) {                    window.PLOTLYENV=window.PLOTLYENV || {};                                    if (document.getElementById(\"de87136f-a9a4-450f-b23c-8362dedba160\")) {                    Plotly.newPlot(                        \"de87136f-a9a4-450f-b23c-8362dedba160\",                        [{\"name\":\"Length of character before cleaning\",\"x\":[80,186,173,204,196,127,194,161,186,181,179,202,66,182,216,183,113,195,194,173,187,186,171,171,172,206,86,55,120,115,102,110,119,204,75,204,205,190,118,118,84,93,92,109,172,86,109,148,99,129,56,181,206,106,95,167,209,116,171,90,117,109,106,101,118,84,86,124,184,192,99,108,108,99,115,113,105,111,97,90,110,91,81,96,112,86,79,126,116,112,101,112,88,115,134,108,216,112,188,83],\"type\":\"histogram\",\"opacity\":0.65},{\"name\":\"Length of character after cleaning\",\"x\":[76,148,163,190,173,121,171,131,179,144,151,191,59,137,204,160,108,176,177,162,157,161,141,164,141,194,71,55,110,104,102,98,112,196,61,175,183,173,113,107,79,81,75,101,129,72,102,134,94,114,51,165,200,98,84,150,189,116,148,84,104,102,89,85,104,83,64,103,160,159,87,95,89,91,100,100,83,100,92,83,99,89,75,85,99,86,64,111,113,84,94,93,68,113,121,94,194,104,172,68],\"type\":\"histogram\",\"opacity\":0.65}],                        {\"template\":{\"data\":{\"bar\":[{\"error_x\":{\"color\":\"#2a3f5f\"},\"error_y\":{\"color\":\"#2a3f5f\"},\"marker\":{\"line\":{\"color\":\"#E5ECF6\",\"width\":0.5},\"pattern\":{\"fillmode\":\"overlay\",\"size\":10,\"solidity\":0.2}},\"type\":\"bar\"}],\"barpolar\":[{\"marker\":{\"line\":{\"color\":\"#E5ECF6\",\"width\":0.5},\"pattern\":{\"fillmode\":\"overlay\",\"size\":10,\"solidity\":0.2}},\"type\":\"barpolar\"}],\"carpet\":[{\"aaxis\":{\"endlinecolor\":\"#2a3f5f\",\"gridcolor\":\"white\",\"linecolor\":\"white\",\"minorgridcolor\":\"white\",\"startlinecolor\":\"#2a3f5f\"},\"baxis\":{\"endlinecolor\":\"#2a3f5f\",\"gridcolor\":\"white\",\"linecolor\":\"white\",\"minorgridcolor\":\"white\",\"startlinecolor\":\"#2a3f5f\"},\"type\":\"carpet\"}],\"choropleth\":[{\"colorbar\":{\"outlinewidth\":0,\"ticks\":\"\"},\"type\":\"choropleth\"}],\"contour\":[{\"colorbar\":{\"outlinewidth\":0,\"ticks\":\"\"},\"colorscale\":[[0.0,\"#0d0887\"],[0.1111111111111111,\"#46039f\"],[0.2222222222222222,\"#7201a8\"],[0.3333333333333333,\"#9c179e\"],[0.4444444444444444,\"#bd3786\"],[0.5555555555555556,\"#d8576b\"],[0.6666666666666666,\"#ed7953\"],[0.7777777777777778,\"#fb9f3a\"],[0.8888888888888888,\"#fdca26\"],[1.0,\"#f0f921\"]],\"type\":\"contour\"}],\"contourcarpet\":[{\"colorbar\":{\"outlinewidth\":0,\"ticks\":\"\"},\"type\":\"contourcarpet\"}],\"heatmap\":[{\"colorbar\":{\"outlinewidth\":0,\"ticks\":\"\"},\"colorscale\":[[0.0,\"#0d0887\"],[0.1111111111111111,\"#46039f\"],[0.2222222222222222,\"#7201a8\"],[0.3333333333333333,\"#9c179e\"],[0.4444444444444444,\"#bd3786\"],[0.5555555555555556,\"#d8576b\"],[0.6666666666666666,\"#ed7953\"],[0.7777777777777778,\"#fb9f3a\"],[0.8888888888888888,\"#fdca26\"],[1.0,\"#f0f921\"]],\"type\":\"heatmap\"}],\"heatmapgl\":[{\"colorbar\":{\"outlinewidth\":0,\"ticks\":\"\"},\"colorscale\":[[0.0,\"#0d0887\"],[0.1111111111111111,\"#46039f\"],[0.2222222222222222,\"#7201a8\"],[0.3333333333333333,\"#9c179e\"],[0.4444444444444444,\"#bd3786\"],[0.5555555555555556,\"#d8576b\"],[0.6666666666666666,\"#ed7953\"],[0.7777777777777778,\"#fb9f3a\"],[0.8888888888888888,\"#fdca26\"],[1.0,\"#f0f921\"]],\"type\":\"heatmapgl\"}],\"histogram\":[{\"marker\":{\"pattern\":{\"fillmode\":\"overlay\",\"size\":10,\"solidity\":0.2}},\"type\":\"histogram\"}],\"histogram2d\":[{\"colorbar\":{\"outlinewidth\":0,\"ticks\":\"\"},\"colorscale\":[[0.0,\"#0d0887\"],[0.1111111111111111,\"#46039f\"],[0.2222222222222222,\"#7201a8\"],[0.3333333333333333,\"#9c179e\"],[0.4444444444444444,\"#bd3786\"],[0.5555555555555556,\"#d8576b\"],[0.6666666666666666,\"#ed7953\"],[0.7777777777777778,\"#fb9f3a\"],[0.8888888888888888,\"#fdca26\"],[1.0,\"#f0f921\"]],\"type\":\"histogram2d\"}],\"histogram2dcontour\":[{\"colorbar\":{\"outlinewidth\":0,\"ticks\":\"\"},\"colorscale\":[[0.0,\"#0d0887\"],[0.1111111111111111,\"#46039f\"],[0.2222222222222222,\"#7201a8\"],[0.3333333333333333,\"#9c179e\"],[0.4444444444444444,\"#bd3786\"],[0.5555555555555556,\"#d8576b\"],[0.6666666666666666,\"#ed7953\"],[0.7777777777777778,\"#fb9f3a\"],[0.8888888888888888,\"#fdca26\"],[1.0,\"#f0f921\"]],\"type\":\"histogram2dcontour\"}],\"mesh3d\":[{\"colorbar\":{\"outlinewidth\":0,\"ticks\":\"\"},\"type\":\"mesh3d\"}],\"parcoords\":[{\"line\":{\"colorbar\":{\"outlinewidth\":0,\"ticks\":\"\"}},\"type\":\"parcoords\"}],\"pie\":[{\"automargin\":true,\"type\":\"pie\"}],\"scatter\":[{\"marker\":{\"colorbar\":{\"outlinewidth\":0,\"ticks\":\"\"}},\"type\":\"scatter\"}],\"scatter3d\":[{\"line\":{\"colorbar\":{\"outlinewidth\":0,\"ticks\":\"\"}},\"marker\":{\"colorbar\":{\"outlinewidth\":0,\"ticks\":\"\"}},\"type\":\"scatter3d\"}],\"scattercarpet\":[{\"marker\":{\"colorbar\":{\"outlinewidth\":0,\"ticks\":\"\"}},\"type\":\"scattercarpet\"}],\"scattergeo\":[{\"marker\":{\"colorbar\":{\"outlinewidth\":0,\"ticks\":\"\"}},\"type\":\"scattergeo\"}],\"scattergl\":[{\"marker\":{\"colorbar\":{\"outlinewidth\":0,\"ticks\":\"\"}},\"type\":\"scattergl\"}],\"scattermapbox\":[{\"marker\":{\"colorbar\":{\"outlinewidth\":0,\"ticks\":\"\"}},\"type\":\"scattermapbox\"}],\"scatterpolar\":[{\"marker\":{\"colorbar\":{\"outlinewidth\":0,\"ticks\":\"\"}},\"type\":\"scatterpolar\"}],\"scatterpolargl\":[{\"marker\":{\"colorbar\":{\"outlinewidth\":0,\"ticks\":\"\"}},\"type\":\"scatterpolargl\"}],\"scatterternary\":[{\"marker\":{\"colorbar\":{\"outlinewidth\":0,\"ticks\":\"\"}},\"type\":\"scatterternary\"}],\"surface\":[{\"colorbar\":{\"outlinewidth\":0,\"ticks\":\"\"},\"colorscale\":[[0.0,\"#0d0887\"],[0.1111111111111111,\"#46039f\"],[0.2222222222222222,\"#7201a8\"],[0.3333333333333333,\"#9c179e\"],[0.4444444444444444,\"#bd3786\"],[0.5555555555555556,\"#d8576b\"],[0.6666666666666666,\"#ed7953\"],[0.7777777777777778,\"#fb9f3a\"],[0.8888888888888888,\"#fdca26\"],[1.0,\"#f0f921\"]],\"type\":\"surface\"}],\"table\":[{\"cells\":{\"fill\":{\"color\":\"#EBF0F8\"},\"line\":{\"color\":\"white\"}},\"header\":{\"fill\":{\"color\":\"#C8D4E3\"},\"line\":{\"color\":\"white\"}},\"type\":\"table\"}]},\"layout\":{\"annotationdefaults\":{\"arrowcolor\":\"#2a3f5f\",\"arrowhead\":0,\"arrowwidth\":1},\"autotypenumbers\":\"strict\",\"coloraxis\":{\"colorbar\":{\"outlinewidth\":0,\"ticks\":\"\"}},\"colorscale\":{\"diverging\":[[0,\"#8e0152\"],[0.1,\"#c51b7d\"],[0.2,\"#de77ae\"],[0.3,\"#f1b6da\"],[0.4,\"#fde0ef\"],[0.5,\"#f7f7f7\"],[0.6,\"#e6f5d0\"],[0.7,\"#b8e186\"],[0.8,\"#7fbc41\"],[0.9,\"#4d9221\"],[1,\"#276419\"]],\"sequential\":[[0.0,\"#0d0887\"],[0.1111111111111111,\"#46039f\"],[0.2222222222222222,\"#7201a8\"],[0.3333333333333333,\"#9c179e\"],[0.4444444444444444,\"#bd3786\"],[0.5555555555555556,\"#d8576b\"],[0.6666666666666666,\"#ed7953\"],[0.7777777777777778,\"#fb9f3a\"],[0.8888888888888888,\"#fdca26\"],[1.0,\"#f0f921\"]],\"sequentialminus\":[[0.0,\"#0d0887\"],[0.1111111111111111,\"#46039f\"],[0.2222222222222222,\"#7201a8\"],[0.3333333333333333,\"#9c179e\"],[0.4444444444444444,\"#bd3786\"],[0.5555555555555556,\"#d8576b\"],[0.6666666666666666,\"#ed7953\"],[0.7777777777777778,\"#fb9f3a\"],[0.8888888888888888,\"#fdca26\"],[1.0,\"#f0f921\"]]},\"colorway\":[\"#636efa\",\"#EF553B\",\"#00cc96\",\"#ab63fa\",\"#FFA15A\",\"#19d3f3\",\"#FF6692\",\"#B6E880\",\"#FF97FF\",\"#FECB52\"],\"font\":{\"color\":\"#2a3f5f\"},\"geo\":{\"bgcolor\":\"white\",\"lakecolor\":\"white\",\"landcolor\":\"#E5ECF6\",\"showlakes\":true,\"showland\":true,\"subunitcolor\":\"white\"},\"hoverlabel\":{\"align\":\"left\"},\"hovermode\":\"closest\",\"mapbox\":{\"style\":\"light\"},\"paper_bgcolor\":\"white\",\"plot_bgcolor\":\"#E5ECF6\",\"polar\":{\"angularaxis\":{\"gridcolor\":\"white\",\"linecolor\":\"white\",\"ticks\":\"\"},\"bgcolor\":\"#E5ECF6\",\"radialaxis\":{\"gridcolor\":\"white\",\"linecolor\":\"white\",\"ticks\":\"\"}},\"scene\":{\"xaxis\":{\"backgroundcolor\":\"#E5ECF6\",\"gridcolor\":\"white\",\"gridwidth\":2,\"linecolor\":\"white\",\"showbackground\":true,\"ticks\":\"\",\"zerolinecolor\":\"white\"},\"yaxis\":{\"backgroundcolor\":\"#E5ECF6\",\"gridcolor\":\"white\",\"gridwidth\":2,\"linecolor\":\"white\",\"showbackground\":true,\"ticks\":\"\",\"zerolinecolor\":\"white\"},\"zaxis\":{\"backgroundcolor\":\"#E5ECF6\",\"gridcolor\":\"white\",\"gridwidth\":2,\"linecolor\":\"white\",\"showbackground\":true,\"ticks\":\"\",\"zerolinecolor\":\"white\"}},\"shapedefaults\":{\"line\":{\"color\":\"#2a3f5f\"}},\"ternary\":{\"aaxis\":{\"gridcolor\":\"white\",\"linecolor\":\"white\",\"ticks\":\"\"},\"baxis\":{\"gridcolor\":\"white\",\"linecolor\":\"white\",\"ticks\":\"\"},\"bgcolor\":\"#E5ECF6\",\"caxis\":{\"gridcolor\":\"white\",\"linecolor\":\"white\",\"ticks\":\"\"}},\"title\":{\"x\":0.05},\"xaxis\":{\"automargin\":true,\"gridcolor\":\"white\",\"linecolor\":\"white\",\"ticks\":\"\",\"title\":{\"standoff\":15},\"zerolinecolor\":\"white\",\"zerolinewidth\":2},\"yaxis\":{\"automargin\":true,\"gridcolor\":\"white\",\"linecolor\":\"white\",\"ticks\":\"\",\"title\":{\"standoff\":15},\"zerolinecolor\":\"white\",\"zerolinewidth\":2}}},\"barmode\":\"overlay\"},                        {\"responsive\": true}                    ).then(function(){\n",
       "                            \n",
       "var gd = document.getElementById('de87136f-a9a4-450f-b23c-8362dedba160');\n",
       "var x = new MutationObserver(function (mutations, observer) {{\n",
       "        var display = window.getComputedStyle(gd).display;\n",
       "        if (!display || display === 'none') {{\n",
       "            console.log([gd, 'removed!']);\n",
       "            Plotly.purge(gd);\n",
       "            observer.disconnect();\n",
       "        }}\n",
       "}});\n",
       "\n",
       "// Listen for the removal of the full notebook cells\n",
       "var notebookContainer = gd.closest('#notebook-container');\n",
       "if (notebookContainer) {{\n",
       "    x.observe(notebookContainer, {childList: true});\n",
       "}}\n",
       "\n",
       "// Listen for the clearing of the current output cell\n",
       "var outputEl = gd.closest('.output');\n",
       "if (outputEl) {{\n",
       "    x.observe(outputEl, {childList: true});\n",
       "}}\n",
       "\n",
       "                        })                };                });            </script>        </div>"
      ]
     },
     "metadata": {},
     "output_type": "display_data"
    }
   ],
   "source": [
    "# Creating a new Dataframe to store both before cleaned and after cleaned data length of each string\n",
    "df_hist_char = pd.DataFrame()\n",
    "df_hist_char[\"before_cleaning\"] = df_Musk[\"Headline\"].str.len()\n",
    "df_hist_char[\"after_cleaning\"] = df_Musk[\"cleaned\"].str.len()\n",
    "fig = go.Figure()\n",
    "fig.add_histogram(x=df_hist_char[\"before_cleaning\"], name = \"Length of character before cleaning\")\n",
    "fig.add_histogram(x=df_hist_char[\"after_cleaning\"], name = \"Length of character after cleaning\")\n",
    "\n",
    "# Overlay both histograms\n",
    "fig.update_layout(barmode='overlay')\n",
    "# Reduce opacity to see both histograms\n",
    "fig.update_traces(opacity=0.65)\n",
    "fig.show()"
   ]
  },
  {
   "cell_type": "markdown",
   "id": "3bcacdd1",
   "metadata": {},
   "source": [
    "### Word Level "
   ]
  },
  {
   "cell_type": "code",
   "execution_count": 94,
   "id": "78989696",
   "metadata": {},
   "outputs": [
    {
     "data": {
      "application/vnd.plotly.v1+json": {
       "config": {
        "plotlyServerURL": "https://plot.ly"
       },
       "data": [
        {
         "name": "Length of words before cleaning",
         "opacity": 0.65,
         "type": "histogram",
         "x": [
          10,
          28,
          26,
          30,
          31,
          17,
          28,
          23,
          29,
          27,
          25,
          27,
          10,
          28,
          30,
          26,
          16,
          26,
          27,
          23,
          26,
          27,
          22,
          24,
          25,
          27,
          12,
          10,
          16,
          18,
          16,
          16,
          17,
          25,
          10,
          28,
          30,
          28,
          16,
          16,
          13,
          14,
          15,
          14,
          26,
          11,
          15,
          20,
          14,
          18,
          8,
          28,
          27,
          15,
          15,
          22,
          30,
          15,
          24,
          12,
          17,
          15,
          16,
          15,
          17,
          10,
          13,
          18,
          27,
          28,
          15,
          15,
          16,
          15,
          16,
          17,
          17,
          16,
          15,
          14,
          18,
          14,
          13,
          14,
          16,
          14,
          11,
          19,
          17,
          16,
          14,
          18,
          14,
          16,
          19,
          16,
          28,
          15,
          28,
          12
         ]
        },
        {
         "name": "Length of words before cleaning",
         "opacity": 0.65,
         "type": "histogram",
         "x": [
          10,
          22,
          25,
          28,
          27,
          16,
          24,
          18,
          28,
          21,
          20,
          25,
          9,
          20,
          28,
          22,
          15,
          23,
          24,
          21,
          21,
          23,
          18,
          23,
          20,
          25,
          10,
          10,
          14,
          16,
          16,
          14,
          16,
          24,
          8,
          24,
          26,
          25,
          15,
          14,
          12,
          12,
          12,
          13,
          19,
          9,
          14,
          18,
          13,
          16,
          7,
          26,
          27,
          14,
          14,
          19,
          27,
          15,
          21,
          11,
          15,
          14,
          13,
          12,
          15,
          10,
          10,
          15,
          24,
          23,
          13,
          13,
          13,
          14,
          14,
          15,
          13,
          14,
          14,
          13,
          16,
          14,
          12,
          12,
          14,
          14,
          9,
          17,
          17,
          12,
          13,
          15,
          10,
          16,
          17,
          14,
          25,
          14,
          26,
          10
         ]
        }
       ],
       "layout": {
        "barmode": "overlay",
        "template": {
         "data": {
          "bar": [
           {
            "error_x": {
             "color": "#2a3f5f"
            },
            "error_y": {
             "color": "#2a3f5f"
            },
            "marker": {
             "line": {
              "color": "#E5ECF6",
              "width": 0.5
             },
             "pattern": {
              "fillmode": "overlay",
              "size": 10,
              "solidity": 0.2
             }
            },
            "type": "bar"
           }
          ],
          "barpolar": [
           {
            "marker": {
             "line": {
              "color": "#E5ECF6",
              "width": 0.5
             },
             "pattern": {
              "fillmode": "overlay",
              "size": 10,
              "solidity": 0.2
             }
            },
            "type": "barpolar"
           }
          ],
          "carpet": [
           {
            "aaxis": {
             "endlinecolor": "#2a3f5f",
             "gridcolor": "white",
             "linecolor": "white",
             "minorgridcolor": "white",
             "startlinecolor": "#2a3f5f"
            },
            "baxis": {
             "endlinecolor": "#2a3f5f",
             "gridcolor": "white",
             "linecolor": "white",
             "minorgridcolor": "white",
             "startlinecolor": "#2a3f5f"
            },
            "type": "carpet"
           }
          ],
          "choropleth": [
           {
            "colorbar": {
             "outlinewidth": 0,
             "ticks": ""
            },
            "type": "choropleth"
           }
          ],
          "contour": [
           {
            "colorbar": {
             "outlinewidth": 0,
             "ticks": ""
            },
            "colorscale": [
             [
              0,
              "#0d0887"
             ],
             [
              0.1111111111111111,
              "#46039f"
             ],
             [
              0.2222222222222222,
              "#7201a8"
             ],
             [
              0.3333333333333333,
              "#9c179e"
             ],
             [
              0.4444444444444444,
              "#bd3786"
             ],
             [
              0.5555555555555556,
              "#d8576b"
             ],
             [
              0.6666666666666666,
              "#ed7953"
             ],
             [
              0.7777777777777778,
              "#fb9f3a"
             ],
             [
              0.8888888888888888,
              "#fdca26"
             ],
             [
              1,
              "#f0f921"
             ]
            ],
            "type": "contour"
           }
          ],
          "contourcarpet": [
           {
            "colorbar": {
             "outlinewidth": 0,
             "ticks": ""
            },
            "type": "contourcarpet"
           }
          ],
          "heatmap": [
           {
            "colorbar": {
             "outlinewidth": 0,
             "ticks": ""
            },
            "colorscale": [
             [
              0,
              "#0d0887"
             ],
             [
              0.1111111111111111,
              "#46039f"
             ],
             [
              0.2222222222222222,
              "#7201a8"
             ],
             [
              0.3333333333333333,
              "#9c179e"
             ],
             [
              0.4444444444444444,
              "#bd3786"
             ],
             [
              0.5555555555555556,
              "#d8576b"
             ],
             [
              0.6666666666666666,
              "#ed7953"
             ],
             [
              0.7777777777777778,
              "#fb9f3a"
             ],
             [
              0.8888888888888888,
              "#fdca26"
             ],
             [
              1,
              "#f0f921"
             ]
            ],
            "type": "heatmap"
           }
          ],
          "heatmapgl": [
           {
            "colorbar": {
             "outlinewidth": 0,
             "ticks": ""
            },
            "colorscale": [
             [
              0,
              "#0d0887"
             ],
             [
              0.1111111111111111,
              "#46039f"
             ],
             [
              0.2222222222222222,
              "#7201a8"
             ],
             [
              0.3333333333333333,
              "#9c179e"
             ],
             [
              0.4444444444444444,
              "#bd3786"
             ],
             [
              0.5555555555555556,
              "#d8576b"
             ],
             [
              0.6666666666666666,
              "#ed7953"
             ],
             [
              0.7777777777777778,
              "#fb9f3a"
             ],
             [
              0.8888888888888888,
              "#fdca26"
             ],
             [
              1,
              "#f0f921"
             ]
            ],
            "type": "heatmapgl"
           }
          ],
          "histogram": [
           {
            "marker": {
             "pattern": {
              "fillmode": "overlay",
              "size": 10,
              "solidity": 0.2
             }
            },
            "type": "histogram"
           }
          ],
          "histogram2d": [
           {
            "colorbar": {
             "outlinewidth": 0,
             "ticks": ""
            },
            "colorscale": [
             [
              0,
              "#0d0887"
             ],
             [
              0.1111111111111111,
              "#46039f"
             ],
             [
              0.2222222222222222,
              "#7201a8"
             ],
             [
              0.3333333333333333,
              "#9c179e"
             ],
             [
              0.4444444444444444,
              "#bd3786"
             ],
             [
              0.5555555555555556,
              "#d8576b"
             ],
             [
              0.6666666666666666,
              "#ed7953"
             ],
             [
              0.7777777777777778,
              "#fb9f3a"
             ],
             [
              0.8888888888888888,
              "#fdca26"
             ],
             [
              1,
              "#f0f921"
             ]
            ],
            "type": "histogram2d"
           }
          ],
          "histogram2dcontour": [
           {
            "colorbar": {
             "outlinewidth": 0,
             "ticks": ""
            },
            "colorscale": [
             [
              0,
              "#0d0887"
             ],
             [
              0.1111111111111111,
              "#46039f"
             ],
             [
              0.2222222222222222,
              "#7201a8"
             ],
             [
              0.3333333333333333,
              "#9c179e"
             ],
             [
              0.4444444444444444,
              "#bd3786"
             ],
             [
              0.5555555555555556,
              "#d8576b"
             ],
             [
              0.6666666666666666,
              "#ed7953"
             ],
             [
              0.7777777777777778,
              "#fb9f3a"
             ],
             [
              0.8888888888888888,
              "#fdca26"
             ],
             [
              1,
              "#f0f921"
             ]
            ],
            "type": "histogram2dcontour"
           }
          ],
          "mesh3d": [
           {
            "colorbar": {
             "outlinewidth": 0,
             "ticks": ""
            },
            "type": "mesh3d"
           }
          ],
          "parcoords": [
           {
            "line": {
             "colorbar": {
              "outlinewidth": 0,
              "ticks": ""
             }
            },
            "type": "parcoords"
           }
          ],
          "pie": [
           {
            "automargin": true,
            "type": "pie"
           }
          ],
          "scatter": [
           {
            "marker": {
             "colorbar": {
              "outlinewidth": 0,
              "ticks": ""
             }
            },
            "type": "scatter"
           }
          ],
          "scatter3d": [
           {
            "line": {
             "colorbar": {
              "outlinewidth": 0,
              "ticks": ""
             }
            },
            "marker": {
             "colorbar": {
              "outlinewidth": 0,
              "ticks": ""
             }
            },
            "type": "scatter3d"
           }
          ],
          "scattercarpet": [
           {
            "marker": {
             "colorbar": {
              "outlinewidth": 0,
              "ticks": ""
             }
            },
            "type": "scattercarpet"
           }
          ],
          "scattergeo": [
           {
            "marker": {
             "colorbar": {
              "outlinewidth": 0,
              "ticks": ""
             }
            },
            "type": "scattergeo"
           }
          ],
          "scattergl": [
           {
            "marker": {
             "colorbar": {
              "outlinewidth": 0,
              "ticks": ""
             }
            },
            "type": "scattergl"
           }
          ],
          "scattermapbox": [
           {
            "marker": {
             "colorbar": {
              "outlinewidth": 0,
              "ticks": ""
             }
            },
            "type": "scattermapbox"
           }
          ],
          "scatterpolar": [
           {
            "marker": {
             "colorbar": {
              "outlinewidth": 0,
              "ticks": ""
             }
            },
            "type": "scatterpolar"
           }
          ],
          "scatterpolargl": [
           {
            "marker": {
             "colorbar": {
              "outlinewidth": 0,
              "ticks": ""
             }
            },
            "type": "scatterpolargl"
           }
          ],
          "scatterternary": [
           {
            "marker": {
             "colorbar": {
              "outlinewidth": 0,
              "ticks": ""
             }
            },
            "type": "scatterternary"
           }
          ],
          "surface": [
           {
            "colorbar": {
             "outlinewidth": 0,
             "ticks": ""
            },
            "colorscale": [
             [
              0,
              "#0d0887"
             ],
             [
              0.1111111111111111,
              "#46039f"
             ],
             [
              0.2222222222222222,
              "#7201a8"
             ],
             [
              0.3333333333333333,
              "#9c179e"
             ],
             [
              0.4444444444444444,
              "#bd3786"
             ],
             [
              0.5555555555555556,
              "#d8576b"
             ],
             [
              0.6666666666666666,
              "#ed7953"
             ],
             [
              0.7777777777777778,
              "#fb9f3a"
             ],
             [
              0.8888888888888888,
              "#fdca26"
             ],
             [
              1,
              "#f0f921"
             ]
            ],
            "type": "surface"
           }
          ],
          "table": [
           {
            "cells": {
             "fill": {
              "color": "#EBF0F8"
             },
             "line": {
              "color": "white"
             }
            },
            "header": {
             "fill": {
              "color": "#C8D4E3"
             },
             "line": {
              "color": "white"
             }
            },
            "type": "table"
           }
          ]
         },
         "layout": {
          "annotationdefaults": {
           "arrowcolor": "#2a3f5f",
           "arrowhead": 0,
           "arrowwidth": 1
          },
          "autotypenumbers": "strict",
          "coloraxis": {
           "colorbar": {
            "outlinewidth": 0,
            "ticks": ""
           }
          },
          "colorscale": {
           "diverging": [
            [
             0,
             "#8e0152"
            ],
            [
             0.1,
             "#c51b7d"
            ],
            [
             0.2,
             "#de77ae"
            ],
            [
             0.3,
             "#f1b6da"
            ],
            [
             0.4,
             "#fde0ef"
            ],
            [
             0.5,
             "#f7f7f7"
            ],
            [
             0.6,
             "#e6f5d0"
            ],
            [
             0.7,
             "#b8e186"
            ],
            [
             0.8,
             "#7fbc41"
            ],
            [
             0.9,
             "#4d9221"
            ],
            [
             1,
             "#276419"
            ]
           ],
           "sequential": [
            [
             0,
             "#0d0887"
            ],
            [
             0.1111111111111111,
             "#46039f"
            ],
            [
             0.2222222222222222,
             "#7201a8"
            ],
            [
             0.3333333333333333,
             "#9c179e"
            ],
            [
             0.4444444444444444,
             "#bd3786"
            ],
            [
             0.5555555555555556,
             "#d8576b"
            ],
            [
             0.6666666666666666,
             "#ed7953"
            ],
            [
             0.7777777777777778,
             "#fb9f3a"
            ],
            [
             0.8888888888888888,
             "#fdca26"
            ],
            [
             1,
             "#f0f921"
            ]
           ],
           "sequentialminus": [
            [
             0,
             "#0d0887"
            ],
            [
             0.1111111111111111,
             "#46039f"
            ],
            [
             0.2222222222222222,
             "#7201a8"
            ],
            [
             0.3333333333333333,
             "#9c179e"
            ],
            [
             0.4444444444444444,
             "#bd3786"
            ],
            [
             0.5555555555555556,
             "#d8576b"
            ],
            [
             0.6666666666666666,
             "#ed7953"
            ],
            [
             0.7777777777777778,
             "#fb9f3a"
            ],
            [
             0.8888888888888888,
             "#fdca26"
            ],
            [
             1,
             "#f0f921"
            ]
           ]
          },
          "colorway": [
           "#636efa",
           "#EF553B",
           "#00cc96",
           "#ab63fa",
           "#FFA15A",
           "#19d3f3",
           "#FF6692",
           "#B6E880",
           "#FF97FF",
           "#FECB52"
          ],
          "font": {
           "color": "#2a3f5f"
          },
          "geo": {
           "bgcolor": "white",
           "lakecolor": "white",
           "landcolor": "#E5ECF6",
           "showlakes": true,
           "showland": true,
           "subunitcolor": "white"
          },
          "hoverlabel": {
           "align": "left"
          },
          "hovermode": "closest",
          "mapbox": {
           "style": "light"
          },
          "paper_bgcolor": "white",
          "plot_bgcolor": "#E5ECF6",
          "polar": {
           "angularaxis": {
            "gridcolor": "white",
            "linecolor": "white",
            "ticks": ""
           },
           "bgcolor": "#E5ECF6",
           "radialaxis": {
            "gridcolor": "white",
            "linecolor": "white",
            "ticks": ""
           }
          },
          "scene": {
           "xaxis": {
            "backgroundcolor": "#E5ECF6",
            "gridcolor": "white",
            "gridwidth": 2,
            "linecolor": "white",
            "showbackground": true,
            "ticks": "",
            "zerolinecolor": "white"
           },
           "yaxis": {
            "backgroundcolor": "#E5ECF6",
            "gridcolor": "white",
            "gridwidth": 2,
            "linecolor": "white",
            "showbackground": true,
            "ticks": "",
            "zerolinecolor": "white"
           },
           "zaxis": {
            "backgroundcolor": "#E5ECF6",
            "gridcolor": "white",
            "gridwidth": 2,
            "linecolor": "white",
            "showbackground": true,
            "ticks": "",
            "zerolinecolor": "white"
           }
          },
          "shapedefaults": {
           "line": {
            "color": "#2a3f5f"
           }
          },
          "ternary": {
           "aaxis": {
            "gridcolor": "white",
            "linecolor": "white",
            "ticks": ""
           },
           "baxis": {
            "gridcolor": "white",
            "linecolor": "white",
            "ticks": ""
           },
           "bgcolor": "#E5ECF6",
           "caxis": {
            "gridcolor": "white",
            "linecolor": "white",
            "ticks": ""
           }
          },
          "title": {
           "x": 0.05
          },
          "xaxis": {
           "automargin": true,
           "gridcolor": "white",
           "linecolor": "white",
           "ticks": "",
           "title": {
            "standoff": 15
           },
           "zerolinecolor": "white",
           "zerolinewidth": 2
          },
          "yaxis": {
           "automargin": true,
           "gridcolor": "white",
           "linecolor": "white",
           "ticks": "",
           "title": {
            "standoff": 15
           },
           "zerolinecolor": "white",
           "zerolinewidth": 2
          }
         }
        }
       }
      },
      "text/html": [
       "<div>                            <div id=\"2253911c-0d76-46d0-a850-20c3cb6cd178\" class=\"plotly-graph-div\" style=\"height:525px; width:100%;\"></div>            <script type=\"text/javascript\">                require([\"plotly\"], function(Plotly) {                    window.PLOTLYENV=window.PLOTLYENV || {};                                    if (document.getElementById(\"2253911c-0d76-46d0-a850-20c3cb6cd178\")) {                    Plotly.newPlot(                        \"2253911c-0d76-46d0-a850-20c3cb6cd178\",                        [{\"name\":\"Length of words before cleaning\",\"x\":[10,28,26,30,31,17,28,23,29,27,25,27,10,28,30,26,16,26,27,23,26,27,22,24,25,27,12,10,16,18,16,16,17,25,10,28,30,28,16,16,13,14,15,14,26,11,15,20,14,18,8,28,27,15,15,22,30,15,24,12,17,15,16,15,17,10,13,18,27,28,15,15,16,15,16,17,17,16,15,14,18,14,13,14,16,14,11,19,17,16,14,18,14,16,19,16,28,15,28,12],\"type\":\"histogram\",\"opacity\":0.65},{\"name\":\"Length of words before cleaning\",\"x\":[10,22,25,28,27,16,24,18,28,21,20,25,9,20,28,22,15,23,24,21,21,23,18,23,20,25,10,10,14,16,16,14,16,24,8,24,26,25,15,14,12,12,12,13,19,9,14,18,13,16,7,26,27,14,14,19,27,15,21,11,15,14,13,12,15,10,10,15,24,23,13,13,13,14,14,15,13,14,14,13,16,14,12,12,14,14,9,17,17,12,13,15,10,16,17,14,25,14,26,10],\"type\":\"histogram\",\"opacity\":0.65}],                        {\"template\":{\"data\":{\"bar\":[{\"error_x\":{\"color\":\"#2a3f5f\"},\"error_y\":{\"color\":\"#2a3f5f\"},\"marker\":{\"line\":{\"color\":\"#E5ECF6\",\"width\":0.5},\"pattern\":{\"fillmode\":\"overlay\",\"size\":10,\"solidity\":0.2}},\"type\":\"bar\"}],\"barpolar\":[{\"marker\":{\"line\":{\"color\":\"#E5ECF6\",\"width\":0.5},\"pattern\":{\"fillmode\":\"overlay\",\"size\":10,\"solidity\":0.2}},\"type\":\"barpolar\"}],\"carpet\":[{\"aaxis\":{\"endlinecolor\":\"#2a3f5f\",\"gridcolor\":\"white\",\"linecolor\":\"white\",\"minorgridcolor\":\"white\",\"startlinecolor\":\"#2a3f5f\"},\"baxis\":{\"endlinecolor\":\"#2a3f5f\",\"gridcolor\":\"white\",\"linecolor\":\"white\",\"minorgridcolor\":\"white\",\"startlinecolor\":\"#2a3f5f\"},\"type\":\"carpet\"}],\"choropleth\":[{\"colorbar\":{\"outlinewidth\":0,\"ticks\":\"\"},\"type\":\"choropleth\"}],\"contour\":[{\"colorbar\":{\"outlinewidth\":0,\"ticks\":\"\"},\"colorscale\":[[0.0,\"#0d0887\"],[0.1111111111111111,\"#46039f\"],[0.2222222222222222,\"#7201a8\"],[0.3333333333333333,\"#9c179e\"],[0.4444444444444444,\"#bd3786\"],[0.5555555555555556,\"#d8576b\"],[0.6666666666666666,\"#ed7953\"],[0.7777777777777778,\"#fb9f3a\"],[0.8888888888888888,\"#fdca26\"],[1.0,\"#f0f921\"]],\"type\":\"contour\"}],\"contourcarpet\":[{\"colorbar\":{\"outlinewidth\":0,\"ticks\":\"\"},\"type\":\"contourcarpet\"}],\"heatmap\":[{\"colorbar\":{\"outlinewidth\":0,\"ticks\":\"\"},\"colorscale\":[[0.0,\"#0d0887\"],[0.1111111111111111,\"#46039f\"],[0.2222222222222222,\"#7201a8\"],[0.3333333333333333,\"#9c179e\"],[0.4444444444444444,\"#bd3786\"],[0.5555555555555556,\"#d8576b\"],[0.6666666666666666,\"#ed7953\"],[0.7777777777777778,\"#fb9f3a\"],[0.8888888888888888,\"#fdca26\"],[1.0,\"#f0f921\"]],\"type\":\"heatmap\"}],\"heatmapgl\":[{\"colorbar\":{\"outlinewidth\":0,\"ticks\":\"\"},\"colorscale\":[[0.0,\"#0d0887\"],[0.1111111111111111,\"#46039f\"],[0.2222222222222222,\"#7201a8\"],[0.3333333333333333,\"#9c179e\"],[0.4444444444444444,\"#bd3786\"],[0.5555555555555556,\"#d8576b\"],[0.6666666666666666,\"#ed7953\"],[0.7777777777777778,\"#fb9f3a\"],[0.8888888888888888,\"#fdca26\"],[1.0,\"#f0f921\"]],\"type\":\"heatmapgl\"}],\"histogram\":[{\"marker\":{\"pattern\":{\"fillmode\":\"overlay\",\"size\":10,\"solidity\":0.2}},\"type\":\"histogram\"}],\"histogram2d\":[{\"colorbar\":{\"outlinewidth\":0,\"ticks\":\"\"},\"colorscale\":[[0.0,\"#0d0887\"],[0.1111111111111111,\"#46039f\"],[0.2222222222222222,\"#7201a8\"],[0.3333333333333333,\"#9c179e\"],[0.4444444444444444,\"#bd3786\"],[0.5555555555555556,\"#d8576b\"],[0.6666666666666666,\"#ed7953\"],[0.7777777777777778,\"#fb9f3a\"],[0.8888888888888888,\"#fdca26\"],[1.0,\"#f0f921\"]],\"type\":\"histogram2d\"}],\"histogram2dcontour\":[{\"colorbar\":{\"outlinewidth\":0,\"ticks\":\"\"},\"colorscale\":[[0.0,\"#0d0887\"],[0.1111111111111111,\"#46039f\"],[0.2222222222222222,\"#7201a8\"],[0.3333333333333333,\"#9c179e\"],[0.4444444444444444,\"#bd3786\"],[0.5555555555555556,\"#d8576b\"],[0.6666666666666666,\"#ed7953\"],[0.7777777777777778,\"#fb9f3a\"],[0.8888888888888888,\"#fdca26\"],[1.0,\"#f0f921\"]],\"type\":\"histogram2dcontour\"}],\"mesh3d\":[{\"colorbar\":{\"outlinewidth\":0,\"ticks\":\"\"},\"type\":\"mesh3d\"}],\"parcoords\":[{\"line\":{\"colorbar\":{\"outlinewidth\":0,\"ticks\":\"\"}},\"type\":\"parcoords\"}],\"pie\":[{\"automargin\":true,\"type\":\"pie\"}],\"scatter\":[{\"marker\":{\"colorbar\":{\"outlinewidth\":0,\"ticks\":\"\"}},\"type\":\"scatter\"}],\"scatter3d\":[{\"line\":{\"colorbar\":{\"outlinewidth\":0,\"ticks\":\"\"}},\"marker\":{\"colorbar\":{\"outlinewidth\":0,\"ticks\":\"\"}},\"type\":\"scatter3d\"}],\"scattercarpet\":[{\"marker\":{\"colorbar\":{\"outlinewidth\":0,\"ticks\":\"\"}},\"type\":\"scattercarpet\"}],\"scattergeo\":[{\"marker\":{\"colorbar\":{\"outlinewidth\":0,\"ticks\":\"\"}},\"type\":\"scattergeo\"}],\"scattergl\":[{\"marker\":{\"colorbar\":{\"outlinewidth\":0,\"ticks\":\"\"}},\"type\":\"scattergl\"}],\"scattermapbox\":[{\"marker\":{\"colorbar\":{\"outlinewidth\":0,\"ticks\":\"\"}},\"type\":\"scattermapbox\"}],\"scatterpolar\":[{\"marker\":{\"colorbar\":{\"outlinewidth\":0,\"ticks\":\"\"}},\"type\":\"scatterpolar\"}],\"scatterpolargl\":[{\"marker\":{\"colorbar\":{\"outlinewidth\":0,\"ticks\":\"\"}},\"type\":\"scatterpolargl\"}],\"scatterternary\":[{\"marker\":{\"colorbar\":{\"outlinewidth\":0,\"ticks\":\"\"}},\"type\":\"scatterternary\"}],\"surface\":[{\"colorbar\":{\"outlinewidth\":0,\"ticks\":\"\"},\"colorscale\":[[0.0,\"#0d0887\"],[0.1111111111111111,\"#46039f\"],[0.2222222222222222,\"#7201a8\"],[0.3333333333333333,\"#9c179e\"],[0.4444444444444444,\"#bd3786\"],[0.5555555555555556,\"#d8576b\"],[0.6666666666666666,\"#ed7953\"],[0.7777777777777778,\"#fb9f3a\"],[0.8888888888888888,\"#fdca26\"],[1.0,\"#f0f921\"]],\"type\":\"surface\"}],\"table\":[{\"cells\":{\"fill\":{\"color\":\"#EBF0F8\"},\"line\":{\"color\":\"white\"}},\"header\":{\"fill\":{\"color\":\"#C8D4E3\"},\"line\":{\"color\":\"white\"}},\"type\":\"table\"}]},\"layout\":{\"annotationdefaults\":{\"arrowcolor\":\"#2a3f5f\",\"arrowhead\":0,\"arrowwidth\":1},\"autotypenumbers\":\"strict\",\"coloraxis\":{\"colorbar\":{\"outlinewidth\":0,\"ticks\":\"\"}},\"colorscale\":{\"diverging\":[[0,\"#8e0152\"],[0.1,\"#c51b7d\"],[0.2,\"#de77ae\"],[0.3,\"#f1b6da\"],[0.4,\"#fde0ef\"],[0.5,\"#f7f7f7\"],[0.6,\"#e6f5d0\"],[0.7,\"#b8e186\"],[0.8,\"#7fbc41\"],[0.9,\"#4d9221\"],[1,\"#276419\"]],\"sequential\":[[0.0,\"#0d0887\"],[0.1111111111111111,\"#46039f\"],[0.2222222222222222,\"#7201a8\"],[0.3333333333333333,\"#9c179e\"],[0.4444444444444444,\"#bd3786\"],[0.5555555555555556,\"#d8576b\"],[0.6666666666666666,\"#ed7953\"],[0.7777777777777778,\"#fb9f3a\"],[0.8888888888888888,\"#fdca26\"],[1.0,\"#f0f921\"]],\"sequentialminus\":[[0.0,\"#0d0887\"],[0.1111111111111111,\"#46039f\"],[0.2222222222222222,\"#7201a8\"],[0.3333333333333333,\"#9c179e\"],[0.4444444444444444,\"#bd3786\"],[0.5555555555555556,\"#d8576b\"],[0.6666666666666666,\"#ed7953\"],[0.7777777777777778,\"#fb9f3a\"],[0.8888888888888888,\"#fdca26\"],[1.0,\"#f0f921\"]]},\"colorway\":[\"#636efa\",\"#EF553B\",\"#00cc96\",\"#ab63fa\",\"#FFA15A\",\"#19d3f3\",\"#FF6692\",\"#B6E880\",\"#FF97FF\",\"#FECB52\"],\"font\":{\"color\":\"#2a3f5f\"},\"geo\":{\"bgcolor\":\"white\",\"lakecolor\":\"white\",\"landcolor\":\"#E5ECF6\",\"showlakes\":true,\"showland\":true,\"subunitcolor\":\"white\"},\"hoverlabel\":{\"align\":\"left\"},\"hovermode\":\"closest\",\"mapbox\":{\"style\":\"light\"},\"paper_bgcolor\":\"white\",\"plot_bgcolor\":\"#E5ECF6\",\"polar\":{\"angularaxis\":{\"gridcolor\":\"white\",\"linecolor\":\"white\",\"ticks\":\"\"},\"bgcolor\":\"#E5ECF6\",\"radialaxis\":{\"gridcolor\":\"white\",\"linecolor\":\"white\",\"ticks\":\"\"}},\"scene\":{\"xaxis\":{\"backgroundcolor\":\"#E5ECF6\",\"gridcolor\":\"white\",\"gridwidth\":2,\"linecolor\":\"white\",\"showbackground\":true,\"ticks\":\"\",\"zerolinecolor\":\"white\"},\"yaxis\":{\"backgroundcolor\":\"#E5ECF6\",\"gridcolor\":\"white\",\"gridwidth\":2,\"linecolor\":\"white\",\"showbackground\":true,\"ticks\":\"\",\"zerolinecolor\":\"white\"},\"zaxis\":{\"backgroundcolor\":\"#E5ECF6\",\"gridcolor\":\"white\",\"gridwidth\":2,\"linecolor\":\"white\",\"showbackground\":true,\"ticks\":\"\",\"zerolinecolor\":\"white\"}},\"shapedefaults\":{\"line\":{\"color\":\"#2a3f5f\"}},\"ternary\":{\"aaxis\":{\"gridcolor\":\"white\",\"linecolor\":\"white\",\"ticks\":\"\"},\"baxis\":{\"gridcolor\":\"white\",\"linecolor\":\"white\",\"ticks\":\"\"},\"bgcolor\":\"#E5ECF6\",\"caxis\":{\"gridcolor\":\"white\",\"linecolor\":\"white\",\"ticks\":\"\"}},\"title\":{\"x\":0.05},\"xaxis\":{\"automargin\":true,\"gridcolor\":\"white\",\"linecolor\":\"white\",\"ticks\":\"\",\"title\":{\"standoff\":15},\"zerolinecolor\":\"white\",\"zerolinewidth\":2},\"yaxis\":{\"automargin\":true,\"gridcolor\":\"white\",\"linecolor\":\"white\",\"ticks\":\"\",\"title\":{\"standoff\":15},\"zerolinecolor\":\"white\",\"zerolinewidth\":2}}},\"barmode\":\"overlay\"},                        {\"responsive\": true}                    ).then(function(){\n",
       "                            \n",
       "var gd = document.getElementById('2253911c-0d76-46d0-a850-20c3cb6cd178');\n",
       "var x = new MutationObserver(function (mutations, observer) {{\n",
       "        var display = window.getComputedStyle(gd).display;\n",
       "        if (!display || display === 'none') {{\n",
       "            console.log([gd, 'removed!']);\n",
       "            Plotly.purge(gd);\n",
       "            observer.disconnect();\n",
       "        }}\n",
       "}});\n",
       "\n",
       "// Listen for the removal of the full notebook cells\n",
       "var notebookContainer = gd.closest('#notebook-container');\n",
       "if (notebookContainer) {{\n",
       "    x.observe(notebookContainer, {childList: true});\n",
       "}}\n",
       "\n",
       "// Listen for the clearing of the current output cell\n",
       "var outputEl = gd.closest('.output');\n",
       "if (outputEl) {{\n",
       "    x.observe(outputEl, {childList: true});\n",
       "}}\n",
       "\n",
       "                        })                };                });            </script>        </div>"
      ]
     },
     "metadata": {},
     "output_type": "display_data"
    }
   ],
   "source": [
    "df_hist_word = pd.DataFrame()\n",
    "df_hist_word[\"before_cleaning\"] = df_Musk[\"Headline\"].str.split().map(lambda x: len(x))\n",
    "df_hist_word[\"after_cleaning\"] = df_Musk[\"cleaned\"].str.split().map(lambda x: len(x))\n",
    "fig = go.Figure()\n",
    "fig.add_histogram(x=df_hist_word[\"before_cleaning\"], name = \"Length of words before cleaning\")\n",
    "fig.add_histogram(x=df_hist_word[\"after_cleaning\"], name = \"Length of words before cleaning\")\n",
    "# Overlay both histograms\n",
    "fig.update_layout(barmode='overlay')\n",
    "# Reduce opacity to see both histograms\n",
    "fig.update_traces(opacity=0.65)\n",
    "fig.show()"
   ]
  },
  {
   "cell_type": "markdown",
   "id": "1905b666",
   "metadata": {},
   "source": [
    "### Word Cloud"
   ]
  },
  {
   "cell_type": "code",
   "execution_count": 95,
   "id": "37fccba4",
   "metadata": {},
   "outputs": [],
   "source": [
    "corpus_pos=[]\n",
    "#corpus_neg=[]\n",
    "\n",
    "df_reviews_pos = df_Musk[\"Headline\"]\n",
    "#df_reviews_neg = df_reviews[df_reviews[\"Label\"] == 0]\n",
    "\n",
    "new_pos = df_Musk[\"cleaned\"].str.split()\n",
    "new_pos = new_pos.values.tolist()\n",
    "\n",
    "#new_neg = df_reviews_neg['reviews_cleaned'].str.split()\n",
    "#new_neg = new_neg.values.tolist()\n",
    "\n",
    "corpus_pos = [word for i in new_pos for word in i]\n",
    "#corpus_neg = [word for i in new_neg for word in i]"
   ]
  },
  {
   "cell_type": "code",
   "execution_count": 96,
   "id": "7f18bc06",
   "metadata": {},
   "outputs": [],
   "source": [
    "import seaborn as sns\n",
    "from collections import Counter"
   ]
  },
  {
   "cell_type": "code",
   "execution_count": 97,
   "id": "de8a4a7e",
   "metadata": {},
   "outputs": [],
   "source": [
    "np.save(\"stopwords\", stopword)"
   ]
  },
  {
   "cell_type": "code",
   "execution_count": 98,
   "id": "56b24f5a",
   "metadata": {},
   "outputs": [],
   "source": [
    "def plot_unigram_bar(corpus, sentiment):\n",
    "    counter=Counter(corpus)\n",
    "    most=counter.most_common()\n",
    "\n",
    "    x, y= [], []\n",
    "    for word,count in most[:40]:\n",
    "        if (word not in stopword):\n",
    "            x.append(word)\n",
    "            y.append(count)\n",
    "\n",
    "    #sns.barplot(x=y,y=x)\n",
    "    df_bar_unigram = pd.DataFrame(list(zip(x,y)), columns = [\"word\", \"freq\"])\n",
    "    fig = px.bar(df_bar_unigram, x=\"freq\", y=\"word\", orientation='h',\n",
    "                title= \"Word Distribution for %s\"%sentiment)    \n",
    "    fig.show()"
   ]
  },
  {
   "cell_type": "code",
   "execution_count": 99,
   "id": "696fc21e",
   "metadata": {},
   "outputs": [
    {
     "data": {
      "application/vnd.plotly.v1+json": {
       "config": {
        "plotlyServerURL": "https://plot.ly"
       },
       "data": [
        {
         "alignmentgroup": "True",
         "hovertemplate": "freq=%{x}<br>word=%{y}<extra></extra>",
         "legendgroup": "",
         "marker": {
          "color": "#636efa",
          "pattern": {
           "shape": ""
          }
         },
         "name": "",
         "offsetgroup": "",
         "orientation": "h",
         "showlegend": false,
         "textposition": "auto",
         "type": "bar",
         "x": [
          91,
          83,
          44,
          43,
          21,
          21,
          20,
          12,
          12,
          12,
          10,
          10,
          9,
          9,
          9,
          9,
          9,
          8,
          8,
          7,
          7,
          7,
          7,
          7,
          7,
          7,
          6,
          6,
          6,
          6,
          6,
          6,
          6,
          6,
          6,
          6,
          6,
          6,
          6
         ],
         "xaxis": "x",
         "y": [
          "musk",
          "elon",
          "tesla",
          "twitter",
          "said",
          "company",
          "tweet",
          "private",
          "blue",
          "tsla",
          "take",
          "billionaire",
          "chief",
          "funding",
          "trial",
          "year",
          "reuters",
          "secured",
          "stock",
          "investor",
          "week",
          "spacex",
          "shareholder",
          "account",
          "subscription",
          "service",
          "took",
          "back",
          "share",
          "first",
          "month",
          "platform",
          "owner",
          "tweeted",
          "last",
          "social",
          "medium",
          "href",
          "target"
         ],
         "yaxis": "y"
        }
       ],
       "layout": {
        "barmode": "relative",
        "legend": {
         "tracegroupgap": 0
        },
        "template": {
         "data": {
          "bar": [
           {
            "error_x": {
             "color": "#2a3f5f"
            },
            "error_y": {
             "color": "#2a3f5f"
            },
            "marker": {
             "line": {
              "color": "#E5ECF6",
              "width": 0.5
             },
             "pattern": {
              "fillmode": "overlay",
              "size": 10,
              "solidity": 0.2
             }
            },
            "type": "bar"
           }
          ],
          "barpolar": [
           {
            "marker": {
             "line": {
              "color": "#E5ECF6",
              "width": 0.5
             },
             "pattern": {
              "fillmode": "overlay",
              "size": 10,
              "solidity": 0.2
             }
            },
            "type": "barpolar"
           }
          ],
          "carpet": [
           {
            "aaxis": {
             "endlinecolor": "#2a3f5f",
             "gridcolor": "white",
             "linecolor": "white",
             "minorgridcolor": "white",
             "startlinecolor": "#2a3f5f"
            },
            "baxis": {
             "endlinecolor": "#2a3f5f",
             "gridcolor": "white",
             "linecolor": "white",
             "minorgridcolor": "white",
             "startlinecolor": "#2a3f5f"
            },
            "type": "carpet"
           }
          ],
          "choropleth": [
           {
            "colorbar": {
             "outlinewidth": 0,
             "ticks": ""
            },
            "type": "choropleth"
           }
          ],
          "contour": [
           {
            "colorbar": {
             "outlinewidth": 0,
             "ticks": ""
            },
            "colorscale": [
             [
              0,
              "#0d0887"
             ],
             [
              0.1111111111111111,
              "#46039f"
             ],
             [
              0.2222222222222222,
              "#7201a8"
             ],
             [
              0.3333333333333333,
              "#9c179e"
             ],
             [
              0.4444444444444444,
              "#bd3786"
             ],
             [
              0.5555555555555556,
              "#d8576b"
             ],
             [
              0.6666666666666666,
              "#ed7953"
             ],
             [
              0.7777777777777778,
              "#fb9f3a"
             ],
             [
              0.8888888888888888,
              "#fdca26"
             ],
             [
              1,
              "#f0f921"
             ]
            ],
            "type": "contour"
           }
          ],
          "contourcarpet": [
           {
            "colorbar": {
             "outlinewidth": 0,
             "ticks": ""
            },
            "type": "contourcarpet"
           }
          ],
          "heatmap": [
           {
            "colorbar": {
             "outlinewidth": 0,
             "ticks": ""
            },
            "colorscale": [
             [
              0,
              "#0d0887"
             ],
             [
              0.1111111111111111,
              "#46039f"
             ],
             [
              0.2222222222222222,
              "#7201a8"
             ],
             [
              0.3333333333333333,
              "#9c179e"
             ],
             [
              0.4444444444444444,
              "#bd3786"
             ],
             [
              0.5555555555555556,
              "#d8576b"
             ],
             [
              0.6666666666666666,
              "#ed7953"
             ],
             [
              0.7777777777777778,
              "#fb9f3a"
             ],
             [
              0.8888888888888888,
              "#fdca26"
             ],
             [
              1,
              "#f0f921"
             ]
            ],
            "type": "heatmap"
           }
          ],
          "heatmapgl": [
           {
            "colorbar": {
             "outlinewidth": 0,
             "ticks": ""
            },
            "colorscale": [
             [
              0,
              "#0d0887"
             ],
             [
              0.1111111111111111,
              "#46039f"
             ],
             [
              0.2222222222222222,
              "#7201a8"
             ],
             [
              0.3333333333333333,
              "#9c179e"
             ],
             [
              0.4444444444444444,
              "#bd3786"
             ],
             [
              0.5555555555555556,
              "#d8576b"
             ],
             [
              0.6666666666666666,
              "#ed7953"
             ],
             [
              0.7777777777777778,
              "#fb9f3a"
             ],
             [
              0.8888888888888888,
              "#fdca26"
             ],
             [
              1,
              "#f0f921"
             ]
            ],
            "type": "heatmapgl"
           }
          ],
          "histogram": [
           {
            "marker": {
             "pattern": {
              "fillmode": "overlay",
              "size": 10,
              "solidity": 0.2
             }
            },
            "type": "histogram"
           }
          ],
          "histogram2d": [
           {
            "colorbar": {
             "outlinewidth": 0,
             "ticks": ""
            },
            "colorscale": [
             [
              0,
              "#0d0887"
             ],
             [
              0.1111111111111111,
              "#46039f"
             ],
             [
              0.2222222222222222,
              "#7201a8"
             ],
             [
              0.3333333333333333,
              "#9c179e"
             ],
             [
              0.4444444444444444,
              "#bd3786"
             ],
             [
              0.5555555555555556,
              "#d8576b"
             ],
             [
              0.6666666666666666,
              "#ed7953"
             ],
             [
              0.7777777777777778,
              "#fb9f3a"
             ],
             [
              0.8888888888888888,
              "#fdca26"
             ],
             [
              1,
              "#f0f921"
             ]
            ],
            "type": "histogram2d"
           }
          ],
          "histogram2dcontour": [
           {
            "colorbar": {
             "outlinewidth": 0,
             "ticks": ""
            },
            "colorscale": [
             [
              0,
              "#0d0887"
             ],
             [
              0.1111111111111111,
              "#46039f"
             ],
             [
              0.2222222222222222,
              "#7201a8"
             ],
             [
              0.3333333333333333,
              "#9c179e"
             ],
             [
              0.4444444444444444,
              "#bd3786"
             ],
             [
              0.5555555555555556,
              "#d8576b"
             ],
             [
              0.6666666666666666,
              "#ed7953"
             ],
             [
              0.7777777777777778,
              "#fb9f3a"
             ],
             [
              0.8888888888888888,
              "#fdca26"
             ],
             [
              1,
              "#f0f921"
             ]
            ],
            "type": "histogram2dcontour"
           }
          ],
          "mesh3d": [
           {
            "colorbar": {
             "outlinewidth": 0,
             "ticks": ""
            },
            "type": "mesh3d"
           }
          ],
          "parcoords": [
           {
            "line": {
             "colorbar": {
              "outlinewidth": 0,
              "ticks": ""
             }
            },
            "type": "parcoords"
           }
          ],
          "pie": [
           {
            "automargin": true,
            "type": "pie"
           }
          ],
          "scatter": [
           {
            "marker": {
             "colorbar": {
              "outlinewidth": 0,
              "ticks": ""
             }
            },
            "type": "scatter"
           }
          ],
          "scatter3d": [
           {
            "line": {
             "colorbar": {
              "outlinewidth": 0,
              "ticks": ""
             }
            },
            "marker": {
             "colorbar": {
              "outlinewidth": 0,
              "ticks": ""
             }
            },
            "type": "scatter3d"
           }
          ],
          "scattercarpet": [
           {
            "marker": {
             "colorbar": {
              "outlinewidth": 0,
              "ticks": ""
             }
            },
            "type": "scattercarpet"
           }
          ],
          "scattergeo": [
           {
            "marker": {
             "colorbar": {
              "outlinewidth": 0,
              "ticks": ""
             }
            },
            "type": "scattergeo"
           }
          ],
          "scattergl": [
           {
            "marker": {
             "colorbar": {
              "outlinewidth": 0,
              "ticks": ""
             }
            },
            "type": "scattergl"
           }
          ],
          "scattermapbox": [
           {
            "marker": {
             "colorbar": {
              "outlinewidth": 0,
              "ticks": ""
             }
            },
            "type": "scattermapbox"
           }
          ],
          "scatterpolar": [
           {
            "marker": {
             "colorbar": {
              "outlinewidth": 0,
              "ticks": ""
             }
            },
            "type": "scatterpolar"
           }
          ],
          "scatterpolargl": [
           {
            "marker": {
             "colorbar": {
              "outlinewidth": 0,
              "ticks": ""
             }
            },
            "type": "scatterpolargl"
           }
          ],
          "scatterternary": [
           {
            "marker": {
             "colorbar": {
              "outlinewidth": 0,
              "ticks": ""
             }
            },
            "type": "scatterternary"
           }
          ],
          "surface": [
           {
            "colorbar": {
             "outlinewidth": 0,
             "ticks": ""
            },
            "colorscale": [
             [
              0,
              "#0d0887"
             ],
             [
              0.1111111111111111,
              "#46039f"
             ],
             [
              0.2222222222222222,
              "#7201a8"
             ],
             [
              0.3333333333333333,
              "#9c179e"
             ],
             [
              0.4444444444444444,
              "#bd3786"
             ],
             [
              0.5555555555555556,
              "#d8576b"
             ],
             [
              0.6666666666666666,
              "#ed7953"
             ],
             [
              0.7777777777777778,
              "#fb9f3a"
             ],
             [
              0.8888888888888888,
              "#fdca26"
             ],
             [
              1,
              "#f0f921"
             ]
            ],
            "type": "surface"
           }
          ],
          "table": [
           {
            "cells": {
             "fill": {
              "color": "#EBF0F8"
             },
             "line": {
              "color": "white"
             }
            },
            "header": {
             "fill": {
              "color": "#C8D4E3"
             },
             "line": {
              "color": "white"
             }
            },
            "type": "table"
           }
          ]
         },
         "layout": {
          "annotationdefaults": {
           "arrowcolor": "#2a3f5f",
           "arrowhead": 0,
           "arrowwidth": 1
          },
          "autotypenumbers": "strict",
          "coloraxis": {
           "colorbar": {
            "outlinewidth": 0,
            "ticks": ""
           }
          },
          "colorscale": {
           "diverging": [
            [
             0,
             "#8e0152"
            ],
            [
             0.1,
             "#c51b7d"
            ],
            [
             0.2,
             "#de77ae"
            ],
            [
             0.3,
             "#f1b6da"
            ],
            [
             0.4,
             "#fde0ef"
            ],
            [
             0.5,
             "#f7f7f7"
            ],
            [
             0.6,
             "#e6f5d0"
            ],
            [
             0.7,
             "#b8e186"
            ],
            [
             0.8,
             "#7fbc41"
            ],
            [
             0.9,
             "#4d9221"
            ],
            [
             1,
             "#276419"
            ]
           ],
           "sequential": [
            [
             0,
             "#0d0887"
            ],
            [
             0.1111111111111111,
             "#46039f"
            ],
            [
             0.2222222222222222,
             "#7201a8"
            ],
            [
             0.3333333333333333,
             "#9c179e"
            ],
            [
             0.4444444444444444,
             "#bd3786"
            ],
            [
             0.5555555555555556,
             "#d8576b"
            ],
            [
             0.6666666666666666,
             "#ed7953"
            ],
            [
             0.7777777777777778,
             "#fb9f3a"
            ],
            [
             0.8888888888888888,
             "#fdca26"
            ],
            [
             1,
             "#f0f921"
            ]
           ],
           "sequentialminus": [
            [
             0,
             "#0d0887"
            ],
            [
             0.1111111111111111,
             "#46039f"
            ],
            [
             0.2222222222222222,
             "#7201a8"
            ],
            [
             0.3333333333333333,
             "#9c179e"
            ],
            [
             0.4444444444444444,
             "#bd3786"
            ],
            [
             0.5555555555555556,
             "#d8576b"
            ],
            [
             0.6666666666666666,
             "#ed7953"
            ],
            [
             0.7777777777777778,
             "#fb9f3a"
            ],
            [
             0.8888888888888888,
             "#fdca26"
            ],
            [
             1,
             "#f0f921"
            ]
           ]
          },
          "colorway": [
           "#636efa",
           "#EF553B",
           "#00cc96",
           "#ab63fa",
           "#FFA15A",
           "#19d3f3",
           "#FF6692",
           "#B6E880",
           "#FF97FF",
           "#FECB52"
          ],
          "font": {
           "color": "#2a3f5f"
          },
          "geo": {
           "bgcolor": "white",
           "lakecolor": "white",
           "landcolor": "#E5ECF6",
           "showlakes": true,
           "showland": true,
           "subunitcolor": "white"
          },
          "hoverlabel": {
           "align": "left"
          },
          "hovermode": "closest",
          "mapbox": {
           "style": "light"
          },
          "paper_bgcolor": "white",
          "plot_bgcolor": "#E5ECF6",
          "polar": {
           "angularaxis": {
            "gridcolor": "white",
            "linecolor": "white",
            "ticks": ""
           },
           "bgcolor": "#E5ECF6",
           "radialaxis": {
            "gridcolor": "white",
            "linecolor": "white",
            "ticks": ""
           }
          },
          "scene": {
           "xaxis": {
            "backgroundcolor": "#E5ECF6",
            "gridcolor": "white",
            "gridwidth": 2,
            "linecolor": "white",
            "showbackground": true,
            "ticks": "",
            "zerolinecolor": "white"
           },
           "yaxis": {
            "backgroundcolor": "#E5ECF6",
            "gridcolor": "white",
            "gridwidth": 2,
            "linecolor": "white",
            "showbackground": true,
            "ticks": "",
            "zerolinecolor": "white"
           },
           "zaxis": {
            "backgroundcolor": "#E5ECF6",
            "gridcolor": "white",
            "gridwidth": 2,
            "linecolor": "white",
            "showbackground": true,
            "ticks": "",
            "zerolinecolor": "white"
           }
          },
          "shapedefaults": {
           "line": {
            "color": "#2a3f5f"
           }
          },
          "ternary": {
           "aaxis": {
            "gridcolor": "white",
            "linecolor": "white",
            "ticks": ""
           },
           "baxis": {
            "gridcolor": "white",
            "linecolor": "white",
            "ticks": ""
           },
           "bgcolor": "#E5ECF6",
           "caxis": {
            "gridcolor": "white",
            "linecolor": "white",
            "ticks": ""
           }
          },
          "title": {
           "x": 0.05
          },
          "xaxis": {
           "automargin": true,
           "gridcolor": "white",
           "linecolor": "white",
           "ticks": "",
           "title": {
            "standoff": 15
           },
           "zerolinecolor": "white",
           "zerolinewidth": 2
          },
          "yaxis": {
           "automargin": true,
           "gridcolor": "white",
           "linecolor": "white",
           "ticks": "",
           "title": {
            "standoff": 15
           },
           "zerolinecolor": "white",
           "zerolinewidth": 2
          }
         }
        },
        "title": {
         "text": "Word Distribution for positive"
        },
        "xaxis": {
         "anchor": "y",
         "domain": [
          0,
          1
         ],
         "title": {
          "text": "freq"
         }
        },
        "yaxis": {
         "anchor": "x",
         "domain": [
          0,
          1
         ],
         "title": {
          "text": "word"
         }
        }
       }
      },
      "text/html": [
       "<div>                            <div id=\"1c5590a5-e3f9-4313-81e9-f991f9c8d1b8\" class=\"plotly-graph-div\" style=\"height:525px; width:100%;\"></div>            <script type=\"text/javascript\">                require([\"plotly\"], function(Plotly) {                    window.PLOTLYENV=window.PLOTLYENV || {};                                    if (document.getElementById(\"1c5590a5-e3f9-4313-81e9-f991f9c8d1b8\")) {                    Plotly.newPlot(                        \"1c5590a5-e3f9-4313-81e9-f991f9c8d1b8\",                        [{\"alignmentgroup\":\"True\",\"hovertemplate\":\"freq=%{x}<br>word=%{y}<extra></extra>\",\"legendgroup\":\"\",\"marker\":{\"color\":\"#636efa\",\"pattern\":{\"shape\":\"\"}},\"name\":\"\",\"offsetgroup\":\"\",\"orientation\":\"h\",\"showlegend\":false,\"textposition\":\"auto\",\"x\":[91,83,44,43,21,21,20,12,12,12,10,10,9,9,9,9,9,8,8,7,7,7,7,7,7,7,6,6,6,6,6,6,6,6,6,6,6,6,6],\"xaxis\":\"x\",\"y\":[\"musk\",\"elon\",\"tesla\",\"twitter\",\"said\",\"company\",\"tweet\",\"private\",\"blue\",\"tsla\",\"take\",\"billionaire\",\"chief\",\"funding\",\"trial\",\"year\",\"reuters\",\"secured\",\"stock\",\"investor\",\"week\",\"spacex\",\"shareholder\",\"account\",\"subscription\",\"service\",\"took\",\"back\",\"share\",\"first\",\"month\",\"platform\",\"owner\",\"tweeted\",\"last\",\"social\",\"medium\",\"href\",\"target\"],\"yaxis\":\"y\",\"type\":\"bar\"}],                        {\"template\":{\"data\":{\"bar\":[{\"error_x\":{\"color\":\"#2a3f5f\"},\"error_y\":{\"color\":\"#2a3f5f\"},\"marker\":{\"line\":{\"color\":\"#E5ECF6\",\"width\":0.5},\"pattern\":{\"fillmode\":\"overlay\",\"size\":10,\"solidity\":0.2}},\"type\":\"bar\"}],\"barpolar\":[{\"marker\":{\"line\":{\"color\":\"#E5ECF6\",\"width\":0.5},\"pattern\":{\"fillmode\":\"overlay\",\"size\":10,\"solidity\":0.2}},\"type\":\"barpolar\"}],\"carpet\":[{\"aaxis\":{\"endlinecolor\":\"#2a3f5f\",\"gridcolor\":\"white\",\"linecolor\":\"white\",\"minorgridcolor\":\"white\",\"startlinecolor\":\"#2a3f5f\"},\"baxis\":{\"endlinecolor\":\"#2a3f5f\",\"gridcolor\":\"white\",\"linecolor\":\"white\",\"minorgridcolor\":\"white\",\"startlinecolor\":\"#2a3f5f\"},\"type\":\"carpet\"}],\"choropleth\":[{\"colorbar\":{\"outlinewidth\":0,\"ticks\":\"\"},\"type\":\"choropleth\"}],\"contour\":[{\"colorbar\":{\"outlinewidth\":0,\"ticks\":\"\"},\"colorscale\":[[0.0,\"#0d0887\"],[0.1111111111111111,\"#46039f\"],[0.2222222222222222,\"#7201a8\"],[0.3333333333333333,\"#9c179e\"],[0.4444444444444444,\"#bd3786\"],[0.5555555555555556,\"#d8576b\"],[0.6666666666666666,\"#ed7953\"],[0.7777777777777778,\"#fb9f3a\"],[0.8888888888888888,\"#fdca26\"],[1.0,\"#f0f921\"]],\"type\":\"contour\"}],\"contourcarpet\":[{\"colorbar\":{\"outlinewidth\":0,\"ticks\":\"\"},\"type\":\"contourcarpet\"}],\"heatmap\":[{\"colorbar\":{\"outlinewidth\":0,\"ticks\":\"\"},\"colorscale\":[[0.0,\"#0d0887\"],[0.1111111111111111,\"#46039f\"],[0.2222222222222222,\"#7201a8\"],[0.3333333333333333,\"#9c179e\"],[0.4444444444444444,\"#bd3786\"],[0.5555555555555556,\"#d8576b\"],[0.6666666666666666,\"#ed7953\"],[0.7777777777777778,\"#fb9f3a\"],[0.8888888888888888,\"#fdca26\"],[1.0,\"#f0f921\"]],\"type\":\"heatmap\"}],\"heatmapgl\":[{\"colorbar\":{\"outlinewidth\":0,\"ticks\":\"\"},\"colorscale\":[[0.0,\"#0d0887\"],[0.1111111111111111,\"#46039f\"],[0.2222222222222222,\"#7201a8\"],[0.3333333333333333,\"#9c179e\"],[0.4444444444444444,\"#bd3786\"],[0.5555555555555556,\"#d8576b\"],[0.6666666666666666,\"#ed7953\"],[0.7777777777777778,\"#fb9f3a\"],[0.8888888888888888,\"#fdca26\"],[1.0,\"#f0f921\"]],\"type\":\"heatmapgl\"}],\"histogram\":[{\"marker\":{\"pattern\":{\"fillmode\":\"overlay\",\"size\":10,\"solidity\":0.2}},\"type\":\"histogram\"}],\"histogram2d\":[{\"colorbar\":{\"outlinewidth\":0,\"ticks\":\"\"},\"colorscale\":[[0.0,\"#0d0887\"],[0.1111111111111111,\"#46039f\"],[0.2222222222222222,\"#7201a8\"],[0.3333333333333333,\"#9c179e\"],[0.4444444444444444,\"#bd3786\"],[0.5555555555555556,\"#d8576b\"],[0.6666666666666666,\"#ed7953\"],[0.7777777777777778,\"#fb9f3a\"],[0.8888888888888888,\"#fdca26\"],[1.0,\"#f0f921\"]],\"type\":\"histogram2d\"}],\"histogram2dcontour\":[{\"colorbar\":{\"outlinewidth\":0,\"ticks\":\"\"},\"colorscale\":[[0.0,\"#0d0887\"],[0.1111111111111111,\"#46039f\"],[0.2222222222222222,\"#7201a8\"],[0.3333333333333333,\"#9c179e\"],[0.4444444444444444,\"#bd3786\"],[0.5555555555555556,\"#d8576b\"],[0.6666666666666666,\"#ed7953\"],[0.7777777777777778,\"#fb9f3a\"],[0.8888888888888888,\"#fdca26\"],[1.0,\"#f0f921\"]],\"type\":\"histogram2dcontour\"}],\"mesh3d\":[{\"colorbar\":{\"outlinewidth\":0,\"ticks\":\"\"},\"type\":\"mesh3d\"}],\"parcoords\":[{\"line\":{\"colorbar\":{\"outlinewidth\":0,\"ticks\":\"\"}},\"type\":\"parcoords\"}],\"pie\":[{\"automargin\":true,\"type\":\"pie\"}],\"scatter\":[{\"marker\":{\"colorbar\":{\"outlinewidth\":0,\"ticks\":\"\"}},\"type\":\"scatter\"}],\"scatter3d\":[{\"line\":{\"colorbar\":{\"outlinewidth\":0,\"ticks\":\"\"}},\"marker\":{\"colorbar\":{\"outlinewidth\":0,\"ticks\":\"\"}},\"type\":\"scatter3d\"}],\"scattercarpet\":[{\"marker\":{\"colorbar\":{\"outlinewidth\":0,\"ticks\":\"\"}},\"type\":\"scattercarpet\"}],\"scattergeo\":[{\"marker\":{\"colorbar\":{\"outlinewidth\":0,\"ticks\":\"\"}},\"type\":\"scattergeo\"}],\"scattergl\":[{\"marker\":{\"colorbar\":{\"outlinewidth\":0,\"ticks\":\"\"}},\"type\":\"scattergl\"}],\"scattermapbox\":[{\"marker\":{\"colorbar\":{\"outlinewidth\":0,\"ticks\":\"\"}},\"type\":\"scattermapbox\"}],\"scatterpolar\":[{\"marker\":{\"colorbar\":{\"outlinewidth\":0,\"ticks\":\"\"}},\"type\":\"scatterpolar\"}],\"scatterpolargl\":[{\"marker\":{\"colorbar\":{\"outlinewidth\":0,\"ticks\":\"\"}},\"type\":\"scatterpolargl\"}],\"scatterternary\":[{\"marker\":{\"colorbar\":{\"outlinewidth\":0,\"ticks\":\"\"}},\"type\":\"scatterternary\"}],\"surface\":[{\"colorbar\":{\"outlinewidth\":0,\"ticks\":\"\"},\"colorscale\":[[0.0,\"#0d0887\"],[0.1111111111111111,\"#46039f\"],[0.2222222222222222,\"#7201a8\"],[0.3333333333333333,\"#9c179e\"],[0.4444444444444444,\"#bd3786\"],[0.5555555555555556,\"#d8576b\"],[0.6666666666666666,\"#ed7953\"],[0.7777777777777778,\"#fb9f3a\"],[0.8888888888888888,\"#fdca26\"],[1.0,\"#f0f921\"]],\"type\":\"surface\"}],\"table\":[{\"cells\":{\"fill\":{\"color\":\"#EBF0F8\"},\"line\":{\"color\":\"white\"}},\"header\":{\"fill\":{\"color\":\"#C8D4E3\"},\"line\":{\"color\":\"white\"}},\"type\":\"table\"}]},\"layout\":{\"annotationdefaults\":{\"arrowcolor\":\"#2a3f5f\",\"arrowhead\":0,\"arrowwidth\":1},\"autotypenumbers\":\"strict\",\"coloraxis\":{\"colorbar\":{\"outlinewidth\":0,\"ticks\":\"\"}},\"colorscale\":{\"diverging\":[[0,\"#8e0152\"],[0.1,\"#c51b7d\"],[0.2,\"#de77ae\"],[0.3,\"#f1b6da\"],[0.4,\"#fde0ef\"],[0.5,\"#f7f7f7\"],[0.6,\"#e6f5d0\"],[0.7,\"#b8e186\"],[0.8,\"#7fbc41\"],[0.9,\"#4d9221\"],[1,\"#276419\"]],\"sequential\":[[0.0,\"#0d0887\"],[0.1111111111111111,\"#46039f\"],[0.2222222222222222,\"#7201a8\"],[0.3333333333333333,\"#9c179e\"],[0.4444444444444444,\"#bd3786\"],[0.5555555555555556,\"#d8576b\"],[0.6666666666666666,\"#ed7953\"],[0.7777777777777778,\"#fb9f3a\"],[0.8888888888888888,\"#fdca26\"],[1.0,\"#f0f921\"]],\"sequentialminus\":[[0.0,\"#0d0887\"],[0.1111111111111111,\"#46039f\"],[0.2222222222222222,\"#7201a8\"],[0.3333333333333333,\"#9c179e\"],[0.4444444444444444,\"#bd3786\"],[0.5555555555555556,\"#d8576b\"],[0.6666666666666666,\"#ed7953\"],[0.7777777777777778,\"#fb9f3a\"],[0.8888888888888888,\"#fdca26\"],[1.0,\"#f0f921\"]]},\"colorway\":[\"#636efa\",\"#EF553B\",\"#00cc96\",\"#ab63fa\",\"#FFA15A\",\"#19d3f3\",\"#FF6692\",\"#B6E880\",\"#FF97FF\",\"#FECB52\"],\"font\":{\"color\":\"#2a3f5f\"},\"geo\":{\"bgcolor\":\"white\",\"lakecolor\":\"white\",\"landcolor\":\"#E5ECF6\",\"showlakes\":true,\"showland\":true,\"subunitcolor\":\"white\"},\"hoverlabel\":{\"align\":\"left\"},\"hovermode\":\"closest\",\"mapbox\":{\"style\":\"light\"},\"paper_bgcolor\":\"white\",\"plot_bgcolor\":\"#E5ECF6\",\"polar\":{\"angularaxis\":{\"gridcolor\":\"white\",\"linecolor\":\"white\",\"ticks\":\"\"},\"bgcolor\":\"#E5ECF6\",\"radialaxis\":{\"gridcolor\":\"white\",\"linecolor\":\"white\",\"ticks\":\"\"}},\"scene\":{\"xaxis\":{\"backgroundcolor\":\"#E5ECF6\",\"gridcolor\":\"white\",\"gridwidth\":2,\"linecolor\":\"white\",\"showbackground\":true,\"ticks\":\"\",\"zerolinecolor\":\"white\"},\"yaxis\":{\"backgroundcolor\":\"#E5ECF6\",\"gridcolor\":\"white\",\"gridwidth\":2,\"linecolor\":\"white\",\"showbackground\":true,\"ticks\":\"\",\"zerolinecolor\":\"white\"},\"zaxis\":{\"backgroundcolor\":\"#E5ECF6\",\"gridcolor\":\"white\",\"gridwidth\":2,\"linecolor\":\"white\",\"showbackground\":true,\"ticks\":\"\",\"zerolinecolor\":\"white\"}},\"shapedefaults\":{\"line\":{\"color\":\"#2a3f5f\"}},\"ternary\":{\"aaxis\":{\"gridcolor\":\"white\",\"linecolor\":\"white\",\"ticks\":\"\"},\"baxis\":{\"gridcolor\":\"white\",\"linecolor\":\"white\",\"ticks\":\"\"},\"bgcolor\":\"#E5ECF6\",\"caxis\":{\"gridcolor\":\"white\",\"linecolor\":\"white\",\"ticks\":\"\"}},\"title\":{\"x\":0.05},\"xaxis\":{\"automargin\":true,\"gridcolor\":\"white\",\"linecolor\":\"white\",\"ticks\":\"\",\"title\":{\"standoff\":15},\"zerolinecolor\":\"white\",\"zerolinewidth\":2},\"yaxis\":{\"automargin\":true,\"gridcolor\":\"white\",\"linecolor\":\"white\",\"ticks\":\"\",\"title\":{\"standoff\":15},\"zerolinecolor\":\"white\",\"zerolinewidth\":2}}},\"xaxis\":{\"anchor\":\"y\",\"domain\":[0.0,1.0],\"title\":{\"text\":\"freq\"}},\"yaxis\":{\"anchor\":\"x\",\"domain\":[0.0,1.0],\"title\":{\"text\":\"word\"}},\"legend\":{\"tracegroupgap\":0},\"title\":{\"text\":\"Word Distribution for positive\"},\"barmode\":\"relative\"},                        {\"responsive\": true}                    ).then(function(){\n",
       "                            \n",
       "var gd = document.getElementById('1c5590a5-e3f9-4313-81e9-f991f9c8d1b8');\n",
       "var x = new MutationObserver(function (mutations, observer) {{\n",
       "        var display = window.getComputedStyle(gd).display;\n",
       "        if (!display || display === 'none') {{\n",
       "            console.log([gd, 'removed!']);\n",
       "            Plotly.purge(gd);\n",
       "            observer.disconnect();\n",
       "        }}\n",
       "}});\n",
       "\n",
       "// Listen for the removal of the full notebook cells\n",
       "var notebookContainer = gd.closest('#notebook-container');\n",
       "if (notebookContainer) {{\n",
       "    x.observe(notebookContainer, {childList: true});\n",
       "}}\n",
       "\n",
       "// Listen for the clearing of the current output cell\n",
       "var outputEl = gd.closest('.output');\n",
       "if (outputEl) {{\n",
       "    x.observe(outputEl, {childList: true});\n",
       "}}\n",
       "\n",
       "                        })                };                });            </script>        </div>"
      ]
     },
     "metadata": {},
     "output_type": "display_data"
    }
   ],
   "source": [
    "plot_unigram_bar(corpus_pos, \"positive\")"
   ]
  },
  {
   "cell_type": "code",
   "execution_count": 100,
   "id": "7af8b5de",
   "metadata": {},
   "outputs": [],
   "source": [
    "from nltk.util import ngrams\n",
    "from nltk.corpus import stopwords\n",
    "def plot_top_ngrams_barchart(text, title_, n=2 ):\n",
    "    stop=set(stopwords.words('english'))\n",
    "\n",
    "    new= text.str.split()\n",
    "    new=new.values.tolist()\n",
    "    corpus=[word for i in new for word in i]\n",
    "\n",
    "    def _get_top_ngram(corpus, n=None):\n",
    "        vec = CountVectorizer(ngram_range=(n, n)).fit(corpus)\n",
    "        bag_of_words = vec.transform(corpus)\n",
    "        sum_words = bag_of_words.sum(axis=0) \n",
    "        words_freq = [(word, sum_words[0, idx]) \n",
    "                      for word, idx in vec.vocabulary_.items()]\n",
    "        words_freq =sorted(words_freq, key = lambda x: x[1], reverse=True)\n",
    "        return words_freq[:10]\n",
    "\n",
    "    top_n_bigrams=_get_top_ngram(text,n)[:10]\n",
    "    x,y=map(list,zip(*top_n_bigrams))\n",
    "    df_bar_ngram = pd.DataFrame(list(zip(x,y)), columns = [\"word\", \"freq\"])\n",
    "    fig = px.bar(df_bar_ngram, x=\"freq\", y=\"word\", orientation='h', title=title_)\n",
    "    fig.show()\n",
    "    #sns.barplot(x=y,y=x)"
   ]
  },
  {
   "cell_type": "code",
   "execution_count": 103,
   "id": "ca22df1d",
   "metadata": {},
   "outputs": [
    {
     "data": {
      "application/vnd.plotly.v1+json": {
       "config": {
        "plotlyServerURL": "https://plot.ly"
       },
       "data": [
        {
         "alignmentgroup": "True",
         "hovertemplate": "freq=%{x}<br>word=%{y}<extra></extra>",
         "legendgroup": "",
         "marker": {
          "color": "#636efa",
          "pattern": {
           "shape": ""
          }
         },
         "name": "",
         "offsetgroup": "",
         "orientation": "h",
         "showlegend": false,
         "textposition": "auto",
         "type": "bar",
         "x": [
          6,
          6,
          6,
          6,
          6,
          2,
          2,
          1,
          1,
          1
         ],
         "xaxis": "x",
         "y": [
          "tesla href http reuters company",
          "href http reuters company tsla",
          "http reuters company tsla target",
          "reuters company tsla target blank",
          "company tsla target blank tsla",
          "twitter owner elon musk tweeted",
          "tesla chief executive elon musk",
          "giant alienating customer bringing le",
          "alienating customer bringing le revenue",
          "customer bringing le revenue falling"
         ],
         "yaxis": "y"
        }
       ],
       "layout": {
        "barmode": "relative",
        "legend": {
         "tracegroupgap": 0
        },
        "template": {
         "data": {
          "bar": [
           {
            "error_x": {
             "color": "#2a3f5f"
            },
            "error_y": {
             "color": "#2a3f5f"
            },
            "marker": {
             "line": {
              "color": "#E5ECF6",
              "width": 0.5
             },
             "pattern": {
              "fillmode": "overlay",
              "size": 10,
              "solidity": 0.2
             }
            },
            "type": "bar"
           }
          ],
          "barpolar": [
           {
            "marker": {
             "line": {
              "color": "#E5ECF6",
              "width": 0.5
             },
             "pattern": {
              "fillmode": "overlay",
              "size": 10,
              "solidity": 0.2
             }
            },
            "type": "barpolar"
           }
          ],
          "carpet": [
           {
            "aaxis": {
             "endlinecolor": "#2a3f5f",
             "gridcolor": "white",
             "linecolor": "white",
             "minorgridcolor": "white",
             "startlinecolor": "#2a3f5f"
            },
            "baxis": {
             "endlinecolor": "#2a3f5f",
             "gridcolor": "white",
             "linecolor": "white",
             "minorgridcolor": "white",
             "startlinecolor": "#2a3f5f"
            },
            "type": "carpet"
           }
          ],
          "choropleth": [
           {
            "colorbar": {
             "outlinewidth": 0,
             "ticks": ""
            },
            "type": "choropleth"
           }
          ],
          "contour": [
           {
            "colorbar": {
             "outlinewidth": 0,
             "ticks": ""
            },
            "colorscale": [
             [
              0,
              "#0d0887"
             ],
             [
              0.1111111111111111,
              "#46039f"
             ],
             [
              0.2222222222222222,
              "#7201a8"
             ],
             [
              0.3333333333333333,
              "#9c179e"
             ],
             [
              0.4444444444444444,
              "#bd3786"
             ],
             [
              0.5555555555555556,
              "#d8576b"
             ],
             [
              0.6666666666666666,
              "#ed7953"
             ],
             [
              0.7777777777777778,
              "#fb9f3a"
             ],
             [
              0.8888888888888888,
              "#fdca26"
             ],
             [
              1,
              "#f0f921"
             ]
            ],
            "type": "contour"
           }
          ],
          "contourcarpet": [
           {
            "colorbar": {
             "outlinewidth": 0,
             "ticks": ""
            },
            "type": "contourcarpet"
           }
          ],
          "heatmap": [
           {
            "colorbar": {
             "outlinewidth": 0,
             "ticks": ""
            },
            "colorscale": [
             [
              0,
              "#0d0887"
             ],
             [
              0.1111111111111111,
              "#46039f"
             ],
             [
              0.2222222222222222,
              "#7201a8"
             ],
             [
              0.3333333333333333,
              "#9c179e"
             ],
             [
              0.4444444444444444,
              "#bd3786"
             ],
             [
              0.5555555555555556,
              "#d8576b"
             ],
             [
              0.6666666666666666,
              "#ed7953"
             ],
             [
              0.7777777777777778,
              "#fb9f3a"
             ],
             [
              0.8888888888888888,
              "#fdca26"
             ],
             [
              1,
              "#f0f921"
             ]
            ],
            "type": "heatmap"
           }
          ],
          "heatmapgl": [
           {
            "colorbar": {
             "outlinewidth": 0,
             "ticks": ""
            },
            "colorscale": [
             [
              0,
              "#0d0887"
             ],
             [
              0.1111111111111111,
              "#46039f"
             ],
             [
              0.2222222222222222,
              "#7201a8"
             ],
             [
              0.3333333333333333,
              "#9c179e"
             ],
             [
              0.4444444444444444,
              "#bd3786"
             ],
             [
              0.5555555555555556,
              "#d8576b"
             ],
             [
              0.6666666666666666,
              "#ed7953"
             ],
             [
              0.7777777777777778,
              "#fb9f3a"
             ],
             [
              0.8888888888888888,
              "#fdca26"
             ],
             [
              1,
              "#f0f921"
             ]
            ],
            "type": "heatmapgl"
           }
          ],
          "histogram": [
           {
            "marker": {
             "pattern": {
              "fillmode": "overlay",
              "size": 10,
              "solidity": 0.2
             }
            },
            "type": "histogram"
           }
          ],
          "histogram2d": [
           {
            "colorbar": {
             "outlinewidth": 0,
             "ticks": ""
            },
            "colorscale": [
             [
              0,
              "#0d0887"
             ],
             [
              0.1111111111111111,
              "#46039f"
             ],
             [
              0.2222222222222222,
              "#7201a8"
             ],
             [
              0.3333333333333333,
              "#9c179e"
             ],
             [
              0.4444444444444444,
              "#bd3786"
             ],
             [
              0.5555555555555556,
              "#d8576b"
             ],
             [
              0.6666666666666666,
              "#ed7953"
             ],
             [
              0.7777777777777778,
              "#fb9f3a"
             ],
             [
              0.8888888888888888,
              "#fdca26"
             ],
             [
              1,
              "#f0f921"
             ]
            ],
            "type": "histogram2d"
           }
          ],
          "histogram2dcontour": [
           {
            "colorbar": {
             "outlinewidth": 0,
             "ticks": ""
            },
            "colorscale": [
             [
              0,
              "#0d0887"
             ],
             [
              0.1111111111111111,
              "#46039f"
             ],
             [
              0.2222222222222222,
              "#7201a8"
             ],
             [
              0.3333333333333333,
              "#9c179e"
             ],
             [
              0.4444444444444444,
              "#bd3786"
             ],
             [
              0.5555555555555556,
              "#d8576b"
             ],
             [
              0.6666666666666666,
              "#ed7953"
             ],
             [
              0.7777777777777778,
              "#fb9f3a"
             ],
             [
              0.8888888888888888,
              "#fdca26"
             ],
             [
              1,
              "#f0f921"
             ]
            ],
            "type": "histogram2dcontour"
           }
          ],
          "mesh3d": [
           {
            "colorbar": {
             "outlinewidth": 0,
             "ticks": ""
            },
            "type": "mesh3d"
           }
          ],
          "parcoords": [
           {
            "line": {
             "colorbar": {
              "outlinewidth": 0,
              "ticks": ""
             }
            },
            "type": "parcoords"
           }
          ],
          "pie": [
           {
            "automargin": true,
            "type": "pie"
           }
          ],
          "scatter": [
           {
            "marker": {
             "colorbar": {
              "outlinewidth": 0,
              "ticks": ""
             }
            },
            "type": "scatter"
           }
          ],
          "scatter3d": [
           {
            "line": {
             "colorbar": {
              "outlinewidth": 0,
              "ticks": ""
             }
            },
            "marker": {
             "colorbar": {
              "outlinewidth": 0,
              "ticks": ""
             }
            },
            "type": "scatter3d"
           }
          ],
          "scattercarpet": [
           {
            "marker": {
             "colorbar": {
              "outlinewidth": 0,
              "ticks": ""
             }
            },
            "type": "scattercarpet"
           }
          ],
          "scattergeo": [
           {
            "marker": {
             "colorbar": {
              "outlinewidth": 0,
              "ticks": ""
             }
            },
            "type": "scattergeo"
           }
          ],
          "scattergl": [
           {
            "marker": {
             "colorbar": {
              "outlinewidth": 0,
              "ticks": ""
             }
            },
            "type": "scattergl"
           }
          ],
          "scattermapbox": [
           {
            "marker": {
             "colorbar": {
              "outlinewidth": 0,
              "ticks": ""
             }
            },
            "type": "scattermapbox"
           }
          ],
          "scatterpolar": [
           {
            "marker": {
             "colorbar": {
              "outlinewidth": 0,
              "ticks": ""
             }
            },
            "type": "scatterpolar"
           }
          ],
          "scatterpolargl": [
           {
            "marker": {
             "colorbar": {
              "outlinewidth": 0,
              "ticks": ""
             }
            },
            "type": "scatterpolargl"
           }
          ],
          "scatterternary": [
           {
            "marker": {
             "colorbar": {
              "outlinewidth": 0,
              "ticks": ""
             }
            },
            "type": "scatterternary"
           }
          ],
          "surface": [
           {
            "colorbar": {
             "outlinewidth": 0,
             "ticks": ""
            },
            "colorscale": [
             [
              0,
              "#0d0887"
             ],
             [
              0.1111111111111111,
              "#46039f"
             ],
             [
              0.2222222222222222,
              "#7201a8"
             ],
             [
              0.3333333333333333,
              "#9c179e"
             ],
             [
              0.4444444444444444,
              "#bd3786"
             ],
             [
              0.5555555555555556,
              "#d8576b"
             ],
             [
              0.6666666666666666,
              "#ed7953"
             ],
             [
              0.7777777777777778,
              "#fb9f3a"
             ],
             [
              0.8888888888888888,
              "#fdca26"
             ],
             [
              1,
              "#f0f921"
             ]
            ],
            "type": "surface"
           }
          ],
          "table": [
           {
            "cells": {
             "fill": {
              "color": "#EBF0F8"
             },
             "line": {
              "color": "white"
             }
            },
            "header": {
             "fill": {
              "color": "#C8D4E3"
             },
             "line": {
              "color": "white"
             }
            },
            "type": "table"
           }
          ]
         },
         "layout": {
          "annotationdefaults": {
           "arrowcolor": "#2a3f5f",
           "arrowhead": 0,
           "arrowwidth": 1
          },
          "autotypenumbers": "strict",
          "coloraxis": {
           "colorbar": {
            "outlinewidth": 0,
            "ticks": ""
           }
          },
          "colorscale": {
           "diverging": [
            [
             0,
             "#8e0152"
            ],
            [
             0.1,
             "#c51b7d"
            ],
            [
             0.2,
             "#de77ae"
            ],
            [
             0.3,
             "#f1b6da"
            ],
            [
             0.4,
             "#fde0ef"
            ],
            [
             0.5,
             "#f7f7f7"
            ],
            [
             0.6,
             "#e6f5d0"
            ],
            [
             0.7,
             "#b8e186"
            ],
            [
             0.8,
             "#7fbc41"
            ],
            [
             0.9,
             "#4d9221"
            ],
            [
             1,
             "#276419"
            ]
           ],
           "sequential": [
            [
             0,
             "#0d0887"
            ],
            [
             0.1111111111111111,
             "#46039f"
            ],
            [
             0.2222222222222222,
             "#7201a8"
            ],
            [
             0.3333333333333333,
             "#9c179e"
            ],
            [
             0.4444444444444444,
             "#bd3786"
            ],
            [
             0.5555555555555556,
             "#d8576b"
            ],
            [
             0.6666666666666666,
             "#ed7953"
            ],
            [
             0.7777777777777778,
             "#fb9f3a"
            ],
            [
             0.8888888888888888,
             "#fdca26"
            ],
            [
             1,
             "#f0f921"
            ]
           ],
           "sequentialminus": [
            [
             0,
             "#0d0887"
            ],
            [
             0.1111111111111111,
             "#46039f"
            ],
            [
             0.2222222222222222,
             "#7201a8"
            ],
            [
             0.3333333333333333,
             "#9c179e"
            ],
            [
             0.4444444444444444,
             "#bd3786"
            ],
            [
             0.5555555555555556,
             "#d8576b"
            ],
            [
             0.6666666666666666,
             "#ed7953"
            ],
            [
             0.7777777777777778,
             "#fb9f3a"
            ],
            [
             0.8888888888888888,
             "#fdca26"
            ],
            [
             1,
             "#f0f921"
            ]
           ]
          },
          "colorway": [
           "#636efa",
           "#EF553B",
           "#00cc96",
           "#ab63fa",
           "#FFA15A",
           "#19d3f3",
           "#FF6692",
           "#B6E880",
           "#FF97FF",
           "#FECB52"
          ],
          "font": {
           "color": "#2a3f5f"
          },
          "geo": {
           "bgcolor": "white",
           "lakecolor": "white",
           "landcolor": "#E5ECF6",
           "showlakes": true,
           "showland": true,
           "subunitcolor": "white"
          },
          "hoverlabel": {
           "align": "left"
          },
          "hovermode": "closest",
          "mapbox": {
           "style": "light"
          },
          "paper_bgcolor": "white",
          "plot_bgcolor": "#E5ECF6",
          "polar": {
           "angularaxis": {
            "gridcolor": "white",
            "linecolor": "white",
            "ticks": ""
           },
           "bgcolor": "#E5ECF6",
           "radialaxis": {
            "gridcolor": "white",
            "linecolor": "white",
            "ticks": ""
           }
          },
          "scene": {
           "xaxis": {
            "backgroundcolor": "#E5ECF6",
            "gridcolor": "white",
            "gridwidth": 2,
            "linecolor": "white",
            "showbackground": true,
            "ticks": "",
            "zerolinecolor": "white"
           },
           "yaxis": {
            "backgroundcolor": "#E5ECF6",
            "gridcolor": "white",
            "gridwidth": 2,
            "linecolor": "white",
            "showbackground": true,
            "ticks": "",
            "zerolinecolor": "white"
           },
           "zaxis": {
            "backgroundcolor": "#E5ECF6",
            "gridcolor": "white",
            "gridwidth": 2,
            "linecolor": "white",
            "showbackground": true,
            "ticks": "",
            "zerolinecolor": "white"
           }
          },
          "shapedefaults": {
           "line": {
            "color": "#2a3f5f"
           }
          },
          "ternary": {
           "aaxis": {
            "gridcolor": "white",
            "linecolor": "white",
            "ticks": ""
           },
           "baxis": {
            "gridcolor": "white",
            "linecolor": "white",
            "ticks": ""
           },
           "bgcolor": "#E5ECF6",
           "caxis": {
            "gridcolor": "white",
            "linecolor": "white",
            "ticks": ""
           }
          },
          "title": {
           "x": 0.05
          },
          "xaxis": {
           "automargin": true,
           "gridcolor": "white",
           "linecolor": "white",
           "ticks": "",
           "title": {
            "standoff": 15
           },
           "zerolinecolor": "white",
           "zerolinewidth": 2
          },
          "yaxis": {
           "automargin": true,
           "gridcolor": "white",
           "linecolor": "white",
           "ticks": "",
           "title": {
            "standoff": 15
           },
           "zerolinecolor": "white",
           "zerolinewidth": 2
          }
         }
        },
        "title": {
         "text": "Bigram for Positive Reviews"
        },
        "xaxis": {
         "anchor": "y",
         "domain": [
          0,
          1
         ],
         "title": {
          "text": "freq"
         }
        },
        "yaxis": {
         "anchor": "x",
         "domain": [
          0,
          1
         ],
         "title": {
          "text": "word"
         }
        }
       }
      },
      "text/html": [
       "<div>                            <div id=\"11d3e5e1-645c-45a0-94a9-cdce020e6341\" class=\"plotly-graph-div\" style=\"height:525px; width:100%;\"></div>            <script type=\"text/javascript\">                require([\"plotly\"], function(Plotly) {                    window.PLOTLYENV=window.PLOTLYENV || {};                                    if (document.getElementById(\"11d3e5e1-645c-45a0-94a9-cdce020e6341\")) {                    Plotly.newPlot(                        \"11d3e5e1-645c-45a0-94a9-cdce020e6341\",                        [{\"alignmentgroup\":\"True\",\"hovertemplate\":\"freq=%{x}<br>word=%{y}<extra></extra>\",\"legendgroup\":\"\",\"marker\":{\"color\":\"#636efa\",\"pattern\":{\"shape\":\"\"}},\"name\":\"\",\"offsetgroup\":\"\",\"orientation\":\"h\",\"showlegend\":false,\"textposition\":\"auto\",\"x\":[6,6,6,6,6,2,2,1,1,1],\"xaxis\":\"x\",\"y\":[\"tesla href http reuters company\",\"href http reuters company tsla\",\"http reuters company tsla target\",\"reuters company tsla target blank\",\"company tsla target blank tsla\",\"twitter owner elon musk tweeted\",\"tesla chief executive elon musk\",\"giant alienating customer bringing le\",\"alienating customer bringing le revenue\",\"customer bringing le revenue falling\"],\"yaxis\":\"y\",\"type\":\"bar\"}],                        {\"template\":{\"data\":{\"bar\":[{\"error_x\":{\"color\":\"#2a3f5f\"},\"error_y\":{\"color\":\"#2a3f5f\"},\"marker\":{\"line\":{\"color\":\"#E5ECF6\",\"width\":0.5},\"pattern\":{\"fillmode\":\"overlay\",\"size\":10,\"solidity\":0.2}},\"type\":\"bar\"}],\"barpolar\":[{\"marker\":{\"line\":{\"color\":\"#E5ECF6\",\"width\":0.5},\"pattern\":{\"fillmode\":\"overlay\",\"size\":10,\"solidity\":0.2}},\"type\":\"barpolar\"}],\"carpet\":[{\"aaxis\":{\"endlinecolor\":\"#2a3f5f\",\"gridcolor\":\"white\",\"linecolor\":\"white\",\"minorgridcolor\":\"white\",\"startlinecolor\":\"#2a3f5f\"},\"baxis\":{\"endlinecolor\":\"#2a3f5f\",\"gridcolor\":\"white\",\"linecolor\":\"white\",\"minorgridcolor\":\"white\",\"startlinecolor\":\"#2a3f5f\"},\"type\":\"carpet\"}],\"choropleth\":[{\"colorbar\":{\"outlinewidth\":0,\"ticks\":\"\"},\"type\":\"choropleth\"}],\"contour\":[{\"colorbar\":{\"outlinewidth\":0,\"ticks\":\"\"},\"colorscale\":[[0.0,\"#0d0887\"],[0.1111111111111111,\"#46039f\"],[0.2222222222222222,\"#7201a8\"],[0.3333333333333333,\"#9c179e\"],[0.4444444444444444,\"#bd3786\"],[0.5555555555555556,\"#d8576b\"],[0.6666666666666666,\"#ed7953\"],[0.7777777777777778,\"#fb9f3a\"],[0.8888888888888888,\"#fdca26\"],[1.0,\"#f0f921\"]],\"type\":\"contour\"}],\"contourcarpet\":[{\"colorbar\":{\"outlinewidth\":0,\"ticks\":\"\"},\"type\":\"contourcarpet\"}],\"heatmap\":[{\"colorbar\":{\"outlinewidth\":0,\"ticks\":\"\"},\"colorscale\":[[0.0,\"#0d0887\"],[0.1111111111111111,\"#46039f\"],[0.2222222222222222,\"#7201a8\"],[0.3333333333333333,\"#9c179e\"],[0.4444444444444444,\"#bd3786\"],[0.5555555555555556,\"#d8576b\"],[0.6666666666666666,\"#ed7953\"],[0.7777777777777778,\"#fb9f3a\"],[0.8888888888888888,\"#fdca26\"],[1.0,\"#f0f921\"]],\"type\":\"heatmap\"}],\"heatmapgl\":[{\"colorbar\":{\"outlinewidth\":0,\"ticks\":\"\"},\"colorscale\":[[0.0,\"#0d0887\"],[0.1111111111111111,\"#46039f\"],[0.2222222222222222,\"#7201a8\"],[0.3333333333333333,\"#9c179e\"],[0.4444444444444444,\"#bd3786\"],[0.5555555555555556,\"#d8576b\"],[0.6666666666666666,\"#ed7953\"],[0.7777777777777778,\"#fb9f3a\"],[0.8888888888888888,\"#fdca26\"],[1.0,\"#f0f921\"]],\"type\":\"heatmapgl\"}],\"histogram\":[{\"marker\":{\"pattern\":{\"fillmode\":\"overlay\",\"size\":10,\"solidity\":0.2}},\"type\":\"histogram\"}],\"histogram2d\":[{\"colorbar\":{\"outlinewidth\":0,\"ticks\":\"\"},\"colorscale\":[[0.0,\"#0d0887\"],[0.1111111111111111,\"#46039f\"],[0.2222222222222222,\"#7201a8\"],[0.3333333333333333,\"#9c179e\"],[0.4444444444444444,\"#bd3786\"],[0.5555555555555556,\"#d8576b\"],[0.6666666666666666,\"#ed7953\"],[0.7777777777777778,\"#fb9f3a\"],[0.8888888888888888,\"#fdca26\"],[1.0,\"#f0f921\"]],\"type\":\"histogram2d\"}],\"histogram2dcontour\":[{\"colorbar\":{\"outlinewidth\":0,\"ticks\":\"\"},\"colorscale\":[[0.0,\"#0d0887\"],[0.1111111111111111,\"#46039f\"],[0.2222222222222222,\"#7201a8\"],[0.3333333333333333,\"#9c179e\"],[0.4444444444444444,\"#bd3786\"],[0.5555555555555556,\"#d8576b\"],[0.6666666666666666,\"#ed7953\"],[0.7777777777777778,\"#fb9f3a\"],[0.8888888888888888,\"#fdca26\"],[1.0,\"#f0f921\"]],\"type\":\"histogram2dcontour\"}],\"mesh3d\":[{\"colorbar\":{\"outlinewidth\":0,\"ticks\":\"\"},\"type\":\"mesh3d\"}],\"parcoords\":[{\"line\":{\"colorbar\":{\"outlinewidth\":0,\"ticks\":\"\"}},\"type\":\"parcoords\"}],\"pie\":[{\"automargin\":true,\"type\":\"pie\"}],\"scatter\":[{\"marker\":{\"colorbar\":{\"outlinewidth\":0,\"ticks\":\"\"}},\"type\":\"scatter\"}],\"scatter3d\":[{\"line\":{\"colorbar\":{\"outlinewidth\":0,\"ticks\":\"\"}},\"marker\":{\"colorbar\":{\"outlinewidth\":0,\"ticks\":\"\"}},\"type\":\"scatter3d\"}],\"scattercarpet\":[{\"marker\":{\"colorbar\":{\"outlinewidth\":0,\"ticks\":\"\"}},\"type\":\"scattercarpet\"}],\"scattergeo\":[{\"marker\":{\"colorbar\":{\"outlinewidth\":0,\"ticks\":\"\"}},\"type\":\"scattergeo\"}],\"scattergl\":[{\"marker\":{\"colorbar\":{\"outlinewidth\":0,\"ticks\":\"\"}},\"type\":\"scattergl\"}],\"scattermapbox\":[{\"marker\":{\"colorbar\":{\"outlinewidth\":0,\"ticks\":\"\"}},\"type\":\"scattermapbox\"}],\"scatterpolar\":[{\"marker\":{\"colorbar\":{\"outlinewidth\":0,\"ticks\":\"\"}},\"type\":\"scatterpolar\"}],\"scatterpolargl\":[{\"marker\":{\"colorbar\":{\"outlinewidth\":0,\"ticks\":\"\"}},\"type\":\"scatterpolargl\"}],\"scatterternary\":[{\"marker\":{\"colorbar\":{\"outlinewidth\":0,\"ticks\":\"\"}},\"type\":\"scatterternary\"}],\"surface\":[{\"colorbar\":{\"outlinewidth\":0,\"ticks\":\"\"},\"colorscale\":[[0.0,\"#0d0887\"],[0.1111111111111111,\"#46039f\"],[0.2222222222222222,\"#7201a8\"],[0.3333333333333333,\"#9c179e\"],[0.4444444444444444,\"#bd3786\"],[0.5555555555555556,\"#d8576b\"],[0.6666666666666666,\"#ed7953\"],[0.7777777777777778,\"#fb9f3a\"],[0.8888888888888888,\"#fdca26\"],[1.0,\"#f0f921\"]],\"type\":\"surface\"}],\"table\":[{\"cells\":{\"fill\":{\"color\":\"#EBF0F8\"},\"line\":{\"color\":\"white\"}},\"header\":{\"fill\":{\"color\":\"#C8D4E3\"},\"line\":{\"color\":\"white\"}},\"type\":\"table\"}]},\"layout\":{\"annotationdefaults\":{\"arrowcolor\":\"#2a3f5f\",\"arrowhead\":0,\"arrowwidth\":1},\"autotypenumbers\":\"strict\",\"coloraxis\":{\"colorbar\":{\"outlinewidth\":0,\"ticks\":\"\"}},\"colorscale\":{\"diverging\":[[0,\"#8e0152\"],[0.1,\"#c51b7d\"],[0.2,\"#de77ae\"],[0.3,\"#f1b6da\"],[0.4,\"#fde0ef\"],[0.5,\"#f7f7f7\"],[0.6,\"#e6f5d0\"],[0.7,\"#b8e186\"],[0.8,\"#7fbc41\"],[0.9,\"#4d9221\"],[1,\"#276419\"]],\"sequential\":[[0.0,\"#0d0887\"],[0.1111111111111111,\"#46039f\"],[0.2222222222222222,\"#7201a8\"],[0.3333333333333333,\"#9c179e\"],[0.4444444444444444,\"#bd3786\"],[0.5555555555555556,\"#d8576b\"],[0.6666666666666666,\"#ed7953\"],[0.7777777777777778,\"#fb9f3a\"],[0.8888888888888888,\"#fdca26\"],[1.0,\"#f0f921\"]],\"sequentialminus\":[[0.0,\"#0d0887\"],[0.1111111111111111,\"#46039f\"],[0.2222222222222222,\"#7201a8\"],[0.3333333333333333,\"#9c179e\"],[0.4444444444444444,\"#bd3786\"],[0.5555555555555556,\"#d8576b\"],[0.6666666666666666,\"#ed7953\"],[0.7777777777777778,\"#fb9f3a\"],[0.8888888888888888,\"#fdca26\"],[1.0,\"#f0f921\"]]},\"colorway\":[\"#636efa\",\"#EF553B\",\"#00cc96\",\"#ab63fa\",\"#FFA15A\",\"#19d3f3\",\"#FF6692\",\"#B6E880\",\"#FF97FF\",\"#FECB52\"],\"font\":{\"color\":\"#2a3f5f\"},\"geo\":{\"bgcolor\":\"white\",\"lakecolor\":\"white\",\"landcolor\":\"#E5ECF6\",\"showlakes\":true,\"showland\":true,\"subunitcolor\":\"white\"},\"hoverlabel\":{\"align\":\"left\"},\"hovermode\":\"closest\",\"mapbox\":{\"style\":\"light\"},\"paper_bgcolor\":\"white\",\"plot_bgcolor\":\"#E5ECF6\",\"polar\":{\"angularaxis\":{\"gridcolor\":\"white\",\"linecolor\":\"white\",\"ticks\":\"\"},\"bgcolor\":\"#E5ECF6\",\"radialaxis\":{\"gridcolor\":\"white\",\"linecolor\":\"white\",\"ticks\":\"\"}},\"scene\":{\"xaxis\":{\"backgroundcolor\":\"#E5ECF6\",\"gridcolor\":\"white\",\"gridwidth\":2,\"linecolor\":\"white\",\"showbackground\":true,\"ticks\":\"\",\"zerolinecolor\":\"white\"},\"yaxis\":{\"backgroundcolor\":\"#E5ECF6\",\"gridcolor\":\"white\",\"gridwidth\":2,\"linecolor\":\"white\",\"showbackground\":true,\"ticks\":\"\",\"zerolinecolor\":\"white\"},\"zaxis\":{\"backgroundcolor\":\"#E5ECF6\",\"gridcolor\":\"white\",\"gridwidth\":2,\"linecolor\":\"white\",\"showbackground\":true,\"ticks\":\"\",\"zerolinecolor\":\"white\"}},\"shapedefaults\":{\"line\":{\"color\":\"#2a3f5f\"}},\"ternary\":{\"aaxis\":{\"gridcolor\":\"white\",\"linecolor\":\"white\",\"ticks\":\"\"},\"baxis\":{\"gridcolor\":\"white\",\"linecolor\":\"white\",\"ticks\":\"\"},\"bgcolor\":\"#E5ECF6\",\"caxis\":{\"gridcolor\":\"white\",\"linecolor\":\"white\",\"ticks\":\"\"}},\"title\":{\"x\":0.05},\"xaxis\":{\"automargin\":true,\"gridcolor\":\"white\",\"linecolor\":\"white\",\"ticks\":\"\",\"title\":{\"standoff\":15},\"zerolinecolor\":\"white\",\"zerolinewidth\":2},\"yaxis\":{\"automargin\":true,\"gridcolor\":\"white\",\"linecolor\":\"white\",\"ticks\":\"\",\"title\":{\"standoff\":15},\"zerolinecolor\":\"white\",\"zerolinewidth\":2}}},\"xaxis\":{\"anchor\":\"y\",\"domain\":[0.0,1.0],\"title\":{\"text\":\"freq\"}},\"yaxis\":{\"anchor\":\"x\",\"domain\":[0.0,1.0],\"title\":{\"text\":\"word\"}},\"legend\":{\"tracegroupgap\":0},\"title\":{\"text\":\"Bigram for Positive Reviews\"},\"barmode\":\"relative\"},                        {\"responsive\": true}                    ).then(function(){\n",
       "                            \n",
       "var gd = document.getElementById('11d3e5e1-645c-45a0-94a9-cdce020e6341');\n",
       "var x = new MutationObserver(function (mutations, observer) {{\n",
       "        var display = window.getComputedStyle(gd).display;\n",
       "        if (!display || display === 'none') {{\n",
       "            console.log([gd, 'removed!']);\n",
       "            Plotly.purge(gd);\n",
       "            observer.disconnect();\n",
       "        }}\n",
       "}});\n",
       "\n",
       "// Listen for the removal of the full notebook cells\n",
       "var notebookContainer = gd.closest('#notebook-container');\n",
       "if (notebookContainer) {{\n",
       "    x.observe(notebookContainer, {childList: true});\n",
       "}}\n",
       "\n",
       "// Listen for the clearing of the current output cell\n",
       "var outputEl = gd.closest('.output');\n",
       "if (outputEl) {{\n",
       "    x.observe(outputEl, {childList: true});\n",
       "}}\n",
       "\n",
       "                        })                };                });            </script>        </div>"
      ]
     },
     "metadata": {},
     "output_type": "display_data"
    }
   ],
   "source": [
    "plot_top_ngrams_barchart(df_Musk[\"cleaned\"],\"Bigram for Positive Reviews\",5)\n",
    "#plot_top_ngrams_barchart(df_reviews_neg[\"reviews_cleaned\"], \"Bigram for Negative Reviews\", 4)"
   ]
  },
  {
   "cell_type": "code",
   "execution_count": null,
   "id": "370d79c8",
   "metadata": {},
   "outputs": [],
   "source": [
    "### Word CLoud"
   ]
  },
  {
   "cell_type": "code",
   "execution_count": 104,
   "id": "0282601b",
   "metadata": {},
   "outputs": [],
   "source": [
    "from wordcloud import WordCloud, STOPWORDS\n",
    "def plot_word_cloud(corpus):\n",
    "    wordcloud = WordCloud(\n",
    "            background_color='white',\n",
    "            stopwords=set(STOPWORDS),\n",
    "            max_words=250,\n",
    "            max_font_size=30, \n",
    "            scale=3,\n",
    "            random_state=1)\n",
    "\n",
    "    wordcloud=wordcloud.generate(str(corpus))\n",
    "\n",
    "    fig = plt.figure(1, figsize=(12, 12))\n",
    "    plt.axis('off')\n",
    "\n",
    "    plt.imshow(wordcloud)\n",
    "    plt.show()"
   ]
  },
  {
   "cell_type": "code",
   "execution_count": 105,
   "id": "10a06055",
   "metadata": {},
   "outputs": [
    {
     "data": {
      "image/png": "[encoded data removed]",
      "text/plain": [
       "<Figure size 864x864 with 1 Axes>"
      ]
     },
     "metadata": {
      "needs_background": "light"
     },
     "output_type": "display_data"
    }
   ],
   "source": [
    "plot_word_cloud(corpus_pos)"
   ]
  },
  {
   "cell_type": "code",
   "execution_count": 41,
   "id": "be0448e3",
   "metadata": {},
   "outputs": [
    {
     "name": "stdout",
     "output_type": "stream",
     "text": [
      "     abandoned  aber  ability  able  aboard  abonn  abonnement  about  \\\n",
      "0            0     0        0     0       0      0           0      0   \n",
      "1            0     0        0     0       0      0           0      0   \n",
      "2            0     0        0     0       0      0           0      0   \n",
      "3            0     0        0     0       0      0           0      0   \n",
      "4            0     0        0     0       0      0           0      0   \n",
      "..         ...   ...      ...   ...     ...    ...         ...    ...   \n",
      "493          0     0        0     0       0      0           0      0   \n",
      "494          0     0        0     0       0      0           0      0   \n",
      "495          0     0        0     0       0      0           0      0   \n",
      "496          0     0        0     0       0      0           0      0   \n",
      "497          0     0        0     0       0      0           0      0   \n",
      "\n",
      "     abruptly  abuelo  ...  zagraniczne  zahlen  zahra  zero  zhou  zienia  \\\n",
      "0           0       0  ...            0       0      0     0     0       0   \n",
      "1           0       0  ...            0       0      0     0     0       0   \n",
      "2           0       0  ...            0       0      0     0     0       0   \n",
      "3           0       0  ...            0       0      0     0     0       0   \n",
      "4           0       0  ...            0       0      0     0     0       0   \n",
      "..        ...     ...  ...          ...     ...    ...   ...   ...     ...   \n",
      "493         0       0  ...            0       0      0     0     0       0   \n",
      "494         0       0  ...            0       0      0     0     0       0   \n",
      "495         0       0  ...            0       0      0     0     0       0   \n",
      "496         0       0  ...            0       0      0     0     0       0   \n",
      "497         0       0  ...            0       0      0     0     0       0   \n",
      "\n",
      "     zinsen  zjednoczonych  zoom  zuckerberg  \n",
      "0         0              0     0           0  \n",
      "1         0              0     0           0  \n",
      "2         0              0     0           0  \n",
      "3         0              0     0           0  \n",
      "4         0              0     0           0  \n",
      "..      ...            ...   ...         ...  \n",
      "493       0              0     0           0  \n",
      "494       0              0     0           0  \n",
      "495       0              0     0           0  \n",
      "496       0              0     0           0  \n",
      "497       0              0     0           0  \n",
      "\n",
      "[498 rows x 3292 columns]\n"
     ]
    },
    {
     "ename": "ValueError",
     "evalue": "could not convert string to float: 'giant alienating customers bringing less revenue falling behind legacy carmakers'",
     "output_type": "error",
     "traceback": [
      "\u001b[1;31m---------------------------------------------------------------------------\u001b[0m",
      "\u001b[1;31mValueError\u001b[0m                                Traceback (most recent call last)",
      "Input \u001b[1;32mIn [41]\u001b[0m, in \u001b[0;36m<cell line: 15>\u001b[1;34m()\u001b[0m\n\u001b[0;32m     12\u001b[0m \u001b[38;5;28;01mfrom\u001b[39;00m \u001b[38;5;21;01msklearn\u001b[39;00m\u001b[38;5;21;01m.\u001b[39;00m\u001b[38;5;21;01mcluster\u001b[39;00m \u001b[38;5;28;01mimport\u001b[39;00m KMeans\n\u001b[0;32m     14\u001b[0m My_KMean\u001b[38;5;241m=\u001b[39m KMeans(n_clusters\u001b[38;5;241m=\u001b[39m\u001b[38;5;241m3\u001b[39m)\n\u001b[1;32m---> 15\u001b[0m \u001b[43mMy_KMean\u001b[49m\u001b[38;5;241;43m.\u001b[39;49m\u001b[43mfit\u001b[49m\u001b[43m(\u001b[49m\u001b[43mdf_Musk\u001b[49m\u001b[43m)\u001b[49m\n\u001b[0;32m     16\u001b[0m My_labels\u001b[38;5;241m=\u001b[39mMy_KMean\u001b[38;5;241m.\u001b[39mpredict(df_Musk)\n\u001b[0;32m     17\u001b[0m \u001b[38;5;28mprint\u001b[39m(My_labels)\n",
      "File \u001b[1;32m~\\anaconda3\\lib\\site-packages\\sklearn\\cluster\\_kmeans.py:1137\u001b[0m, in \u001b[0;36mKMeans.fit\u001b[1;34m(self, X, y, sample_weight)\u001b[0m\n\u001b[0;32m   1111\u001b[0m \u001b[38;5;28;01mdef\u001b[39;00m \u001b[38;5;21mfit\u001b[39m(\u001b[38;5;28mself\u001b[39m, X, y\u001b[38;5;241m=\u001b[39m\u001b[38;5;28;01mNone\u001b[39;00m, sample_weight\u001b[38;5;241m=\u001b[39m\u001b[38;5;28;01mNone\u001b[39;00m):\n\u001b[0;32m   1112\u001b[0m     \u001b[38;5;124;03m\"\"\"Compute k-means clustering.\u001b[39;00m\n\u001b[0;32m   1113\u001b[0m \n\u001b[0;32m   1114\u001b[0m \u001b[38;5;124;03m    Parameters\u001b[39;00m\n\u001b[1;32m   (...)\u001b[0m\n\u001b[0;32m   1135\u001b[0m \u001b[38;5;124;03m        Fitted estimator.\u001b[39;00m\n\u001b[0;32m   1136\u001b[0m \u001b[38;5;124;03m    \"\"\"\u001b[39;00m\n\u001b[1;32m-> 1137\u001b[0m     X \u001b[38;5;241m=\u001b[39m \u001b[38;5;28;43mself\u001b[39;49m\u001b[38;5;241;43m.\u001b[39;49m\u001b[43m_validate_data\u001b[49m\u001b[43m(\u001b[49m\n\u001b[0;32m   1138\u001b[0m \u001b[43m        \u001b[49m\u001b[43mX\u001b[49m\u001b[43m,\u001b[49m\n\u001b[0;32m   1139\u001b[0m \u001b[43m        \u001b[49m\u001b[43maccept_sparse\u001b[49m\u001b[38;5;241;43m=\u001b[39;49m\u001b[38;5;124;43m\"\u001b[39;49m\u001b[38;5;124;43mcsr\u001b[39;49m\u001b[38;5;124;43m\"\u001b[39;49m\u001b[43m,\u001b[49m\n\u001b[0;32m   1140\u001b[0m \u001b[43m        \u001b[49m\u001b[43mdtype\u001b[49m\u001b[38;5;241;43m=\u001b[39;49m\u001b[43m[\u001b[49m\u001b[43mnp\u001b[49m\u001b[38;5;241;43m.\u001b[39;49m\u001b[43mfloat64\u001b[49m\u001b[43m,\u001b[49m\u001b[43m \u001b[49m\u001b[43mnp\u001b[49m\u001b[38;5;241;43m.\u001b[39;49m\u001b[43mfloat32\u001b[49m\u001b[43m]\u001b[49m\u001b[43m,\u001b[49m\n\u001b[0;32m   1141\u001b[0m \u001b[43m        \u001b[49m\u001b[43morder\u001b[49m\u001b[38;5;241;43m=\u001b[39;49m\u001b[38;5;124;43m\"\u001b[39;49m\u001b[38;5;124;43mC\u001b[39;49m\u001b[38;5;124;43m\"\u001b[39;49m\u001b[43m,\u001b[49m\n\u001b[0;32m   1142\u001b[0m \u001b[43m        \u001b[49m\u001b[43mcopy\u001b[49m\u001b[38;5;241;43m=\u001b[39;49m\u001b[38;5;28;43mself\u001b[39;49m\u001b[38;5;241;43m.\u001b[39;49m\u001b[43mcopy_x\u001b[49m\u001b[43m,\u001b[49m\n\u001b[0;32m   1143\u001b[0m \u001b[43m        \u001b[49m\u001b[43maccept_large_sparse\u001b[49m\u001b[38;5;241;43m=\u001b[39;49m\u001b[38;5;28;43;01mFalse\u001b[39;49;00m\u001b[43m,\u001b[49m\n\u001b[0;32m   1144\u001b[0m \u001b[43m    \u001b[49m\u001b[43m)\u001b[49m\n\u001b[0;32m   1146\u001b[0m     \u001b[38;5;28mself\u001b[39m\u001b[38;5;241m.\u001b[39m_check_params(X)\n\u001b[0;32m   1147\u001b[0m     random_state \u001b[38;5;241m=\u001b[39m check_random_state(\u001b[38;5;28mself\u001b[39m\u001b[38;5;241m.\u001b[39mrandom_state)\n",
      "File \u001b[1;32m~\\anaconda3\\lib\\site-packages\\sklearn\\base.py:566\u001b[0m, in \u001b[0;36mBaseEstimator._validate_data\u001b[1;34m(self, X, y, reset, validate_separately, **check_params)\u001b[0m\n\u001b[0;32m    564\u001b[0m     \u001b[38;5;28;01mraise\u001b[39;00m \u001b[38;5;167;01mValueError\u001b[39;00m(\u001b[38;5;124m\"\u001b[39m\u001b[38;5;124mValidation should be done on X, y or both.\u001b[39m\u001b[38;5;124m\"\u001b[39m)\n\u001b[0;32m    565\u001b[0m \u001b[38;5;28;01melif\u001b[39;00m \u001b[38;5;129;01mnot\u001b[39;00m no_val_X \u001b[38;5;129;01mand\u001b[39;00m no_val_y:\n\u001b[1;32m--> 566\u001b[0m     X \u001b[38;5;241m=\u001b[39m check_array(X, \u001b[38;5;241m*\u001b[39m\u001b[38;5;241m*\u001b[39mcheck_params)\n\u001b[0;32m    567\u001b[0m     out \u001b[38;5;241m=\u001b[39m X\n\u001b[0;32m    568\u001b[0m \u001b[38;5;28;01melif\u001b[39;00m no_val_X \u001b[38;5;129;01mand\u001b[39;00m \u001b[38;5;129;01mnot\u001b[39;00m no_val_y:\n",
      "File \u001b[1;32m~\\anaconda3\\lib\\site-packages\\sklearn\\utils\\validation.py:746\u001b[0m, in \u001b[0;36mcheck_array\u001b[1;34m(array, accept_sparse, accept_large_sparse, dtype, order, copy, force_all_finite, ensure_2d, allow_nd, ensure_min_samples, ensure_min_features, estimator)\u001b[0m\n\u001b[0;32m    744\u001b[0m         array \u001b[38;5;241m=\u001b[39m array\u001b[38;5;241m.\u001b[39mastype(dtype, casting\u001b[38;5;241m=\u001b[39m\u001b[38;5;124m\"\u001b[39m\u001b[38;5;124munsafe\u001b[39m\u001b[38;5;124m\"\u001b[39m, copy\u001b[38;5;241m=\u001b[39m\u001b[38;5;28;01mFalse\u001b[39;00m)\n\u001b[0;32m    745\u001b[0m     \u001b[38;5;28;01melse\u001b[39;00m:\n\u001b[1;32m--> 746\u001b[0m         array \u001b[38;5;241m=\u001b[39m \u001b[43mnp\u001b[49m\u001b[38;5;241;43m.\u001b[39;49m\u001b[43masarray\u001b[49m\u001b[43m(\u001b[49m\u001b[43marray\u001b[49m\u001b[43m,\u001b[49m\u001b[43m \u001b[49m\u001b[43morder\u001b[49m\u001b[38;5;241;43m=\u001b[39;49m\u001b[43morder\u001b[49m\u001b[43m,\u001b[49m\u001b[43m \u001b[49m\u001b[43mdtype\u001b[49m\u001b[38;5;241;43m=\u001b[39;49m\u001b[43mdtype\u001b[49m\u001b[43m)\u001b[49m\n\u001b[0;32m    747\u001b[0m \u001b[38;5;28;01mexcept\u001b[39;00m ComplexWarning \u001b[38;5;28;01mas\u001b[39;00m complex_warning:\n\u001b[0;32m    748\u001b[0m     \u001b[38;5;28;01mraise\u001b[39;00m \u001b[38;5;167;01mValueError\u001b[39;00m(\n\u001b[0;32m    749\u001b[0m         \u001b[38;5;124m\"\u001b[39m\u001b[38;5;124mComplex data not supported\u001b[39m\u001b[38;5;130;01m\\n\u001b[39;00m\u001b[38;5;132;01m{}\u001b[39;00m\u001b[38;5;130;01m\\n\u001b[39;00m\u001b[38;5;124m\"\u001b[39m\u001b[38;5;241m.\u001b[39mformat(array)\n\u001b[0;32m    750\u001b[0m     ) \u001b[38;5;28;01mfrom\u001b[39;00m \u001b[38;5;21;01mcomplex_warning\u001b[39;00m\n",
      "File \u001b[1;32m~\\anaconda3\\lib\\site-packages\\pandas\\core\\generic.py:2064\u001b[0m, in \u001b[0;36mNDFrame.__array__\u001b[1;34m(self, dtype)\u001b[0m\n\u001b[0;32m   2063\u001b[0m \u001b[38;5;28;01mdef\u001b[39;00m \u001b[38;5;21m__array__\u001b[39m(\u001b[38;5;28mself\u001b[39m, dtype: npt\u001b[38;5;241m.\u001b[39mDTypeLike \u001b[38;5;241m|\u001b[39m \u001b[38;5;28;01mNone\u001b[39;00m \u001b[38;5;241m=\u001b[39m \u001b[38;5;28;01mNone\u001b[39;00m) \u001b[38;5;241m-\u001b[39m\u001b[38;5;241m>\u001b[39m np\u001b[38;5;241m.\u001b[39mndarray:\n\u001b[1;32m-> 2064\u001b[0m     \u001b[38;5;28;01mreturn\u001b[39;00m \u001b[43mnp\u001b[49m\u001b[38;5;241;43m.\u001b[39;49m\u001b[43masarray\u001b[49m\u001b[43m(\u001b[49m\u001b[38;5;28;43mself\u001b[39;49m\u001b[38;5;241;43m.\u001b[39;49m\u001b[43m_values\u001b[49m\u001b[43m,\u001b[49m\u001b[43m \u001b[49m\u001b[43mdtype\u001b[49m\u001b[38;5;241;43m=\u001b[39;49m\u001b[43mdtype\u001b[49m\u001b[43m)\u001b[49m\n",
      "\u001b[1;31mValueError\u001b[0m: could not convert string to float: 'giant alienating customers bringing less revenue falling behind legacy carmakers'"
     ]
    }
   ],
   "source": [
    "###########################################################\n",
    "##\n",
    "##\n",
    "##                  Clustering\n",
    "##\n",
    "##\n",
    "############################################################\n",
    "## Our DF\n",
    "print(count_vect_df)\n",
    "\n",
    "from sklearn.metrics import silhouette_samples, silhouette_score\n",
    "from sklearn.cluster import KMeans\n",
    "\n",
    "My_KMean= KMeans(n_clusters=3)\n",
    "My_KMean.fit(df_Musk)\n",
    "My_labels=My_KMean.predict(df_Musk)\n",
    "print(My_labels)\n",
    "\n",
    "from sklearn import preprocessing\n",
    "from sklearn.cluster import KMeans\n",
    "import seaborn as sns\n",
    "\n",
    "My_KMean2 = KMeans(n_clusters=4).fit(preprocessing.normalize(df_Musk))\n",
    "My_KMean2.fit(df_Musk)\n",
    "My_labels2=My_KMean2.predict(df_Musk)\n",
    "print(My_labels2)\n",
    "\n",
    "My_KMean3= KMeans(n_clusters=3)\n",
    "My_KMean3.fit(df_Musk)\n",
    "My_labels3=My_KMean3.predict(df_Musk)\n",
    "print(\"Silhouette Score for k = 3 \\n\",silhouette_score(df_Musk, My_labels3))\n",
    "\n",
    "\n",
    "#https://docs.scipy.org/doc/scipy/reference/generated/scipy.cluster.hierarchy.linkage.html\n",
    "#length of the document: called cosine similarity\n",
    "cosdist = 1 - cosine_similarity(MyDTM)\n",
    "print(cosdist)\n",
    "print(np.round(cosdist,3))  #cos dist should be .02\n",
    "\n",
    "#----------------------------------------------------------\n",
    "## Hierarchical Clustering using ward and cosine sim\n",
    "linkage_matrix = ward(cosdist) #define the linkage_matrix \n",
    "#using ward clustering pre-computed distances\n",
    "print(linkage_matrix)\n",
    "fig = plt.figure(figsize=(25, 10))\n",
    "dn = dendrogram(linkage_matrix)\n",
    "plt.show()\n"
   ]
  },
  {
   "cell_type": "code",
   "execution_count": 117,
   "id": "d9c80c8e",
   "metadata": {
    "scrolled": false
   },
   "outputs": [
    {
     "name": "stdout",
     "output_type": "stream",
     "text": [
      "(100, 4)\n",
      "LDA Model:\n",
      "Topic 0:\n",
      "[('twitter', 18.579199783152006), ('musk', 16.302562704627796), ('elon', 14.932985337435664), ('blue', 5.75155450876566), ('medium', 5.251340612200277), ('social', 5.212907883746611), ('last', 4.376999147929099), ('billionaire', 4.291604086012599), ('month', 3.63618235598785), ('platform', 3.5124976944077195)]\n",
      "Topic 1:\n",
      "[('musk', 41.85438476658875), ('elon', 36.071290319246785), ('tesla', 33.39330924867162), ('tweet', 11.485898481815402), ('tsla', 9.94089591138158), ('said', 8.635743954801383), ('take', 8.373005084433522), ('private', 8.193968965118028), ('funding', 7.548353984070561), ('trial', 7.462976181670483)]\n",
      "Topic 2:\n",
      "[('musk', 16.06035228641514), ('elon', 15.961853266268214), ('twitter', 12.587532437760423), ('company', 8.857018401837541), ('said', 7.311091217388478), ('year', 6.038616276672115), ('account', 5.959854747066671), ('tweet', 5.233069080951278), ('service', 5.147042473275133), ('chief', 3.7520168520739596)]\n",
      "Topic 3:\n",
      "[('revenue', 3.5387792654925527), ('subscription', 1.2798443822870502), ('elon', 1.272439295720055), ('free', 1.2593460739040205), ('tesla', 1.1958069161148503), ('company', 1.1805582547480002), ('share', 0.5468307071182912), ('musk', 0.4931577887590348), ('secured', 0.4672607598696638), ('billionaire', 0.46051883101439683)]\n"
     ]
    },
    {
     "name": "stderr",
     "output_type": "stream",
     "text": [
      "C:\\Users\\jeetp\\anaconda3\\lib\\site-packages\\sklearn\\utils\\deprecation.py:87: FutureWarning:\n",
      "\n",
      "Function get_feature_names is deprecated; get_feature_names is deprecated in 1.0 and will be removed in 1.2. Please use get_feature_names_out instead.\n",
      "\n"
     ]
    }
   ],
   "source": [
    "##############################################\n",
    "##\n",
    "##   LDA Topics Modeling\n",
    "##\n",
    "##\n",
    "#########################################################\n",
    "\n",
    "NUM_TOPICS= 4\n",
    "MyDTM = count_vect_df\n",
    "\n",
    "lda_model = LatentDirichletAllocation(n_components=NUM_TOPICS, max_iter=10, learning_method='online')\n",
    "#lda_model = LatentDirichletAllocation(n_components=NUM_TOPICS, max_iter=10, learning_method='online')\n",
    "   \n",
    "lda_Z_DF = lda_model.fit_transform(count_vect_df)\n",
    "print(lda_Z_DF.shape)  # (NO_DOCUMENTS, NO_TOPICS)\n",
    "\n",
    "def print_topics(model, vectorizer, top_n=10):\n",
    "    for idx, topic in enumerate(model.components_):\n",
    "        print(\"Topic %d:\" % (idx))\n",
    "        print([(vectorizer.get_feature_names()[i], topic[i])\n",
    "                    for i in topic.argsort()[:-top_n - 1:-1]])\n",
    " \n",
    "print(\"LDA Model:\")\n",
    "print_topics(lda_model, countVectorizer)\n",
    "\n"
   ]
  },
  {
   "cell_type": "code",
   "execution_count": 130,
   "id": "29c59e8b",
   "metadata": {},
   "outputs": [],
   "source": [
    "############## Fancy Plot.................\n",
    "import warnings\n",
    "warnings.filterwarnings(\"ignore\", category=DeprecationWarning)\n",
    "import pyLDAvis.sklearn as LDAvis\n",
    "import pyLDAvis\n",
    "\n",
    "# ## conda install -c conda-forge pyldavis\n",
    "pyLDAvis.enable_notebook() ## not using notebook\n",
    "\n"
   ]
  },
  {
   "cell_type": "code",
   "execution_count": 136,
   "id": "fda88523",
   "metadata": {},
   "outputs": [
    {
     "ename": "AttributeError",
     "evalue": "'Series' object has no attribute 'getA1'",
     "output_type": "error",
     "traceback": [
      "\u001b[1;31m---------------------------------------------------------------------------\u001b[0m",
      "\u001b[1;31mAttributeError\u001b[0m                            Traceback (most recent call last)",
      "Input \u001b[1;32mIn [136]\u001b[0m, in \u001b[0;36m<cell line: 5>\u001b[1;34m()\u001b[0m\n\u001b[0;32m      1\u001b[0m \u001b[38;5;66;03m#doc_lengths = MyDTM.sum(axis=1).values.tolist()\u001b[39;00m\n\u001b[0;32m      2\u001b[0m \u001b[38;5;66;03m#panel = LDAvis.prepare(lda_model, MyDTM, countVectorizer, mds='tsne', doc_lengths=doc_lengths)\u001b[39;00m\n\u001b[0;32m      3\u001b[0m \u001b[38;5;66;03m#pyLDAvis.save_html(panel, \"InTheNews.html\")\u001b[39;00m\n\u001b[1;32m----> 5\u001b[0m panel \u001b[38;5;241m=\u001b[39m \u001b[43mLDAvis\u001b[49m\u001b[38;5;241;43m.\u001b[39;49m\u001b[43mprepare\u001b[49m\u001b[43m(\u001b[49m\u001b[43mlda_model\u001b[49m\u001b[43m,\u001b[49m\u001b[43m \u001b[49m\u001b[43mMyDTM\u001b[49m\u001b[43m,\u001b[49m\u001b[43m \u001b[49m\u001b[43mcountVectorizer\u001b[49m\u001b[43m,\u001b[49m\u001b[43m \u001b[49m\u001b[43mmds\u001b[49m\u001b[38;5;241;43m=\u001b[39;49m\u001b[38;5;124;43m'\u001b[39;49m\u001b[38;5;124;43mtsne\u001b[39;49m\u001b[38;5;124;43m'\u001b[39;49m\u001b[43m)\u001b[49m\n\u001b[0;32m      7\u001b[0m pyLDAvis\u001b[38;5;241m.\u001b[39msave_html(panel, \u001b[38;5;124m\"\u001b[39m\u001b[38;5;124mDog_Hike_Topics.html\u001b[39m\u001b[38;5;124m\"\u001b[39m)\n",
      "File \u001b[1;32m~\\anaconda3\\lib\\site-packages\\pyLDAvis\\sklearn.py:94\u001b[0m, in \u001b[0;36mprepare\u001b[1;34m(lda_model, dtm, vectorizer, **kwargs)\u001b[0m\n\u001b[0;32m     62\u001b[0m \u001b[38;5;28;01mdef\u001b[39;00m \u001b[38;5;21mprepare\u001b[39m(lda_model, dtm, vectorizer, \u001b[38;5;241m*\u001b[39m\u001b[38;5;241m*\u001b[39mkwargs):\n\u001b[0;32m     63\u001b[0m     \u001b[38;5;124;03m\"\"\"Create Prepared Data from sklearn's LatentDirichletAllocation and CountVectorizer.\u001b[39;00m\n\u001b[0;32m     64\u001b[0m \n\u001b[0;32m     65\u001b[0m \u001b[38;5;124;03m    Parameters\u001b[39;00m\n\u001b[1;32m   (...)\u001b[0m\n\u001b[0;32m     92\u001b[0m \u001b[38;5;124;03m    See `pyLDAvis.prepare` for **kwargs.\u001b[39;00m\n\u001b[0;32m     93\u001b[0m \u001b[38;5;124;03m    \"\"\"\u001b[39;00m\n\u001b[1;32m---> 94\u001b[0m     opts \u001b[38;5;241m=\u001b[39m fp\u001b[38;5;241m.\u001b[39mmerge(\u001b[43m_extract_data\u001b[49m\u001b[43m(\u001b[49m\u001b[43mlda_model\u001b[49m\u001b[43m,\u001b[49m\u001b[43m \u001b[49m\u001b[43mdtm\u001b[49m\u001b[43m,\u001b[49m\u001b[43m \u001b[49m\u001b[43mvectorizer\u001b[49m\u001b[43m)\u001b[49m, kwargs)\n\u001b[0;32m     95\u001b[0m     \u001b[38;5;28;01mreturn\u001b[39;00m pyLDAvis\u001b[38;5;241m.\u001b[39mprepare(\u001b[38;5;241m*\u001b[39m\u001b[38;5;241m*\u001b[39mopts)\n",
      "File \u001b[1;32m~\\anaconda3\\lib\\site-packages\\pyLDAvis\\sklearn.py:39\u001b[0m, in \u001b[0;36m_extract_data\u001b[1;34m(lda_model, dtm, vectorizer)\u001b[0m\n\u001b[0;32m     37\u001b[0m \u001b[38;5;28;01mdef\u001b[39;00m \u001b[38;5;21m_extract_data\u001b[39m(lda_model, dtm, vectorizer):\n\u001b[0;32m     38\u001b[0m     vocab \u001b[38;5;241m=\u001b[39m _get_vocab(vectorizer)\n\u001b[1;32m---> 39\u001b[0m     doc_lengths \u001b[38;5;241m=\u001b[39m \u001b[43m_get_doc_lengths\u001b[49m\u001b[43m(\u001b[49m\u001b[43mdtm\u001b[49m\u001b[43m)\u001b[49m\n\u001b[0;32m     40\u001b[0m     term_freqs \u001b[38;5;241m=\u001b[39m _get_term_freqs(dtm)\n\u001b[0;32m     41\u001b[0m     topic_term_dists \u001b[38;5;241m=\u001b[39m _get_topic_term_dists(lda_model)\n",
      "File \u001b[1;32m~\\anaconda3\\lib\\site-packages\\pyLDAvis\\sklearn.py:12\u001b[0m, in \u001b[0;36m_get_doc_lengths\u001b[1;34m(dtm)\u001b[0m\n\u001b[0;32m     11\u001b[0m \u001b[38;5;28;01mdef\u001b[39;00m \u001b[38;5;21m_get_doc_lengths\u001b[39m(dtm):\n\u001b[1;32m---> 12\u001b[0m     \u001b[38;5;28;01mreturn\u001b[39;00m \u001b[43mdtm\u001b[49m\u001b[38;5;241;43m.\u001b[39;49m\u001b[43msum\u001b[49m\u001b[43m(\u001b[49m\u001b[43maxis\u001b[49m\u001b[38;5;241;43m=\u001b[39;49m\u001b[38;5;241;43m1\u001b[39;49m\u001b[43m)\u001b[49m\u001b[38;5;241;43m.\u001b[39;49m\u001b[43mgetA1\u001b[49m()\n",
      "File \u001b[1;32m~\\anaconda3\\lib\\site-packages\\pandas\\core\\generic.py:5575\u001b[0m, in \u001b[0;36mNDFrame.__getattr__\u001b[1;34m(self, name)\u001b[0m\n\u001b[0;32m   5568\u001b[0m \u001b[38;5;28;01mif\u001b[39;00m (\n\u001b[0;32m   5569\u001b[0m     name \u001b[38;5;129;01mnot\u001b[39;00m \u001b[38;5;129;01min\u001b[39;00m \u001b[38;5;28mself\u001b[39m\u001b[38;5;241m.\u001b[39m_internal_names_set\n\u001b[0;32m   5570\u001b[0m     \u001b[38;5;129;01mand\u001b[39;00m name \u001b[38;5;129;01mnot\u001b[39;00m \u001b[38;5;129;01min\u001b[39;00m \u001b[38;5;28mself\u001b[39m\u001b[38;5;241m.\u001b[39m_metadata\n\u001b[0;32m   5571\u001b[0m     \u001b[38;5;129;01mand\u001b[39;00m name \u001b[38;5;129;01mnot\u001b[39;00m \u001b[38;5;129;01min\u001b[39;00m \u001b[38;5;28mself\u001b[39m\u001b[38;5;241m.\u001b[39m_accessors\n\u001b[0;32m   5572\u001b[0m     \u001b[38;5;129;01mand\u001b[39;00m \u001b[38;5;28mself\u001b[39m\u001b[38;5;241m.\u001b[39m_info_axis\u001b[38;5;241m.\u001b[39m_can_hold_identifiers_and_holds_name(name)\n\u001b[0;32m   5573\u001b[0m ):\n\u001b[0;32m   5574\u001b[0m     \u001b[38;5;28;01mreturn\u001b[39;00m \u001b[38;5;28mself\u001b[39m[name]\n\u001b[1;32m-> 5575\u001b[0m \u001b[38;5;28;01mreturn\u001b[39;00m \u001b[38;5;28;43mobject\u001b[39;49m\u001b[38;5;241;43m.\u001b[39;49m\u001b[38;5;21;43m__getattribute__\u001b[39;49m\u001b[43m(\u001b[49m\u001b[38;5;28;43mself\u001b[39;49m\u001b[43m,\u001b[49m\u001b[43m \u001b[49m\u001b[43mname\u001b[49m\u001b[43m)\u001b[49m\n",
      "\u001b[1;31mAttributeError\u001b[0m: 'Series' object has no attribute 'getA1'"
     ]
    }
   ],
   "source": [
    "#doc_lengths = MyDTM.sum(axis=1).values.tolist()\n",
    "#panel = LDAvis.prepare(lda_model, MyDTM, countVectorizer, mds='tsne', doc_lengths=doc_lengths)\n",
    "#pyLDAvis.save_html(panel, \"InTheNews.html\")\n",
    "#"
   ]
  },
  {
   "cell_type": "code",
   "execution_count": 144,
   "id": "d880eab3",
   "metadata": {},
   "outputs": [
    {
     "data": {
      "image/png": "[encoded data removed]",
      "text/plain": [
       "<Figure size 432x288 with 4 Axes>"
      ]
     },
     "metadata": {},
     "output_type": "display_data"
    }
   ],
   "source": [
    "################ Another fun vis for LDA\n",
    "\n",
    "word_topic = np.array(lda_model.components_)\n",
    "#print(word_topic)\n",
    "word_topic = word_topic.transpose()\n",
    "\n",
    "num_top_words = 15\n",
    "vocab_array = np.asarray(ColumnNames)\n",
    "\n",
    "#fontsize_base = 70 / np.max(word_topic) # font size for word with largest share in corpus\n",
    "fontsize_base = 12\n",
    "\n",
    "for t in range(NUM_TOPICS):\n",
    "    plt.subplot(1, NUM_TOPICS, t + 1)  # plot numbering starts with 1\n",
    "    plt.ylim(0, num_top_words + 0.5)  # stretch the y-axis to accommodate the words\n",
    "    plt.xticks([])  # remove x-axis markings ('ticks')\n",
    "    plt.yticks([]) # remove y-axis markings ('ticks')\n",
    "    plt.title('Topic #{}'.format(t))\n",
    "    top_words_idx = np.argsort(word_topic[:,t])[::-1]  # descending order\n",
    "    top_words_idx = top_words_idx[:num_top_words]\n",
    "    top_words = vocab_array[top_words_idx]\n",
    "    top_words_shares = word_topic[top_words_idx, t]\n",
    "    for i, (word, share) in enumerate(zip(top_words, top_words_shares)):\n",
    "        plt.text(0.3, num_top_words-i-0.5, word, fontsize=fontsize_base)\n",
    "                 ##fontsize_base*share)\n",
    "\n",
    "#plt.tight_layout()\n",
    "#plt.show()\n",
    "plt.savefig(\"TopicsVis.pdf\")"
   ]
  },
  {
   "cell_type": "markdown",
   "id": "d496e548",
   "metadata": {},
   "source": [
    "## Clustering"
   ]
  },
  {
   "cell_type": "code",
   "execution_count": 147,
   "id": "d466fad4",
   "metadata": {},
   "outputs": [
    {
     "name": "stdout",
     "output_type": "stream",
     "text": [
      "    according  account  back  billion  billionaire  blank  blue  chief  \\\n",
      "0           0        0     0        0            0      0     0      0   \n",
      "1           0        0     1        0            0      0     0      1   \n",
      "2           0        0     0        0            0      0     0      0   \n",
      "3           1        0     0        0            0      0     0      0   \n",
      "4           0        0     0        0            0      0     0      0   \n",
      "..        ...      ...   ...      ...          ...    ...   ...    ...   \n",
      "95          0        0     0        0            0      0     0      0   \n",
      "96          0        0     0        0            0      0     0      0   \n",
      "97          0        0     0        0            0      0     0      0   \n",
      "98          0        0     0        0            0      1     0      0   \n",
      "99          0        0     0        0            0      0     0      0   \n",
      "\n",
      "    company  defend  ...  testified  told  took  trial  tsla  tweet  tweeted  \\\n",
      "0         0       0  ...          0     0     0      0     0      0        0   \n",
      "1         0       1  ...          0     0     1      0     0      2        0   \n",
      "2         0       0  ...          0     0     0      1     0      1        0   \n",
      "3         0       1  ...          0     0     1      0     0      1        0   \n",
      "4         1       0  ...          0     0     0      0     0      0        0   \n",
      "..      ...     ...  ...        ...   ...   ...    ...   ...    ...      ...   \n",
      "95        0       0  ...          0     0     0      0     0      0        0   \n",
      "96        0       0  ...          0     0     0      0     0      0        0   \n",
      "97        0       0  ...          0     0     1      0     0      0        0   \n",
      "98        1       0  ...          0     0     0      1     2      0        0   \n",
      "99        0       0  ...          0     0     0      0     0      0        0   \n",
      "\n",
      "    twitter  week  year  \n",
      "0         0     0     0  \n",
      "1         0     0     0  \n",
      "2         0     1     0  \n",
      "3         0     0     0  \n",
      "4         0     0     0  \n",
      "..      ...   ...   ...  \n",
      "95        1     1     0  \n",
      "96        0     0     0  \n",
      "97        1     0     0  \n",
      "98        0     1     0  \n",
      "99        0     0     0  \n",
      "\n",
      "[100 rows x 50 columns]\n",
      "[2 0 0 0 2 2 2 0 2 2 2 2 0 2 2 2 2 0 2 2 0 2 2 2 2 2 2 2 2 2 2 2 2 0 2 0 2\n",
      " 2 2 0 2 0 2 2 0 0 2 0 0 2 2 1 1 2 0 2 1 0 2 2 2 0 2 2 0 2 2 0 1 1 0 2 2 0\n",
      " 0 0 0 0 0 2 2 0 0 2 0 2 2 2 0 2 2 2 0 2 2 2 2 2 1 2]\n",
      "[2 2 1 1 2 0 0 2 0 0 0 0 1 0 0 0 0 2 0 0 2 0 0 0 0 2 2 2 0 0 0 2 0 2 2 1 0\n",
      " 0 2 2 2 2 0 2 1 2 2 1 2 2 2 3 3 0 2 0 3 1 2 0 0 2 0 2 2 0 2 1 3 3 2 0 0 2\n",
      " 2 2 1 2 2 2 2 2 2 2 1 2 2 0 2 0 2 2 2 2 2 0 2 0 3 2]\n",
      "Silhouette Score for k = 3 \n",
      " 0.1438451963336752\n",
      "[[ 0.00000000e+00  1.00000000e+00  1.00000000e+00 ...  1.00000000e+00\n",
      "   1.00000000e+00  1.00000000e+00]\n",
      " [ 1.00000000e+00 -2.22044605e-16  5.23710328e-01 ...  6.12701665e-01\n",
      "   7.83493649e-01  5.91751710e-01]\n",
      " [ 1.00000000e+00  5.23710328e-01 -2.22044605e-16 ...  5.78362979e-01\n",
      "   5.87521044e-01  5.00000000e-01]\n",
      " ...\n",
      " [ 1.00000000e+00  6.12701665e-01  5.78362979e-01 ...  1.11022302e-16\n",
      "   7.76393202e-01  6.83772234e-01]\n",
      " [ 1.00000000e+00  7.83493649e-01  5.87521044e-01 ...  7.76393202e-01\n",
      "   0.00000000e+00  6.46446609e-01]\n",
      " [ 1.00000000e+00  5.91751710e-01  5.00000000e-01 ...  6.83772234e-01\n",
      "   6.46446609e-01  2.22044605e-16]]\n",
      "[[ 0.     1.     1.    ...  1.     1.     1.   ]\n",
      " [ 1.    -0.     0.524 ...  0.613  0.783  0.592]\n",
      " [ 1.     0.524 -0.    ...  0.578  0.588  0.5  ]\n",
      " ...\n",
      " [ 1.     0.613  0.578 ...  0.     0.776  0.684]\n",
      " [ 1.     0.783  0.588 ...  0.776  0.     0.646]\n",
      " [ 1.     0.592  0.5   ...  0.684  0.646  0.   ]]\n"
     ]
    }
   ],
   "source": [
    "###########################################################\n",
    "##\n",
    "##\n",
    "##                  Clustering\n",
    "##\n",
    "##\n",
    "############################################################\n",
    "## Our DF\n",
    "My_Orig_DF = count_vect_df\n",
    "print(My_Orig_DF)\n",
    "\n",
    "#from sklearn.metrics import silhouette_samples, silhouette_score\n",
    "#from sklearn.cluster import KMeans\n",
    "\n",
    "My_KMean= KMeans(n_clusters=3)\n",
    "My_KMean.fit(My_Orig_DF)\n",
    "My_labels=My_KMean.predict(My_Orig_DF)\n",
    "print(My_labels)\n",
    "\n",
    "#from sklearn import preprocessing\n",
    "#from sklearn.cluster import KMeans\n",
    "#import seaborn as sns\n",
    "\n",
    "My_KMean2 = KMeans(n_clusters=4).fit(preprocessing.normalize(My_Orig_DF))\n",
    "My_KMean2.fit(My_Orig_DF)\n",
    "My_labels2=My_KMean2.predict(My_Orig_DF)\n",
    "print(My_labels2)\n",
    "\n",
    "My_KMean3= KMeans(n_clusters=3)\n",
    "My_KMean3.fit(My_Orig_DF)\n",
    "My_labels3=My_KMean3.predict(My_Orig_DF)\n",
    "print(\"Silhouette Score for k = 3 \\n\",silhouette_score(My_Orig_DF, My_labels3))\n",
    "\n",
    "\n",
    "#https://docs.scipy.org/doc/scipy/reference/generated/scipy.cluster.hierarchy.linkage.html\n",
    "#length of the document: called cosine similarity\n",
    "cosdist = 1 - cosine_similarity(MyDTM)\n",
    "print(cosdist)\n",
    "print(np.round(cosdist,3))  #cos dist should be .02\n"
   ]
  },
  {
   "cell_type": "markdown",
   "id": "9c3ac99c",
   "metadata": {},
   "source": [
    "### VIsualizing the Clusters"
   ]
  },
  {
   "cell_type": "code",
   "execution_count": 153,
   "id": "387b9ec3",
   "metadata": {},
   "outputs": [
    {
     "data": {
      "image/png": "[encoded data removed]",
      "text/plain": [
       "<Figure size 720x576 with 1 Axes>"
      ]
     },
     "metadata": {
      "needs_background": "light"
     },
     "output_type": "display_data"
    }
   ],
   "source": [
    "# 3 Clusters\n",
    "import matplotlib.pyplot as plt\n",
    "from mpl_toolkits.mplot3d import Axes3D\n",
    "\n",
    "fig = plt.figure(figsize=(10, 8))\n",
    "ax = fig.add_subplot(111, projection='3d')\n",
    "\n",
    "colors = ['r', 'g', 'b', 'y', 'c', 'm']\n",
    "for i in range(len(My_Orig_DF)):\n",
    "    ax.scatter(My_Orig_DF.iloc[i, 0], My_Orig_DF.iloc[i, 1], My_Orig_DF.iloc[i, 2], c=colors[My_labels[i]])\n",
    "\n",
    "ax.set_xlabel('Feature 1')\n",
    "ax.set_ylabel('Feature 2')\n",
    "ax.set_zlabel('Feature 3')\n",
    "\n",
    "plt.show()"
   ]
  },
  {
   "cell_type": "code",
   "execution_count": 154,
   "id": "afa61b3c",
   "metadata": {},
   "outputs": [
    {
     "data": {
      "image/png": "[encoded data removed]",
      "text/plain": [
       "<Figure size 576x432 with 1 Axes>"
      ]
     },
     "metadata": {
      "needs_background": "light"
     },
     "output_type": "display_data"
    }
   ],
   "source": [
    "# 4 CLusters\n",
    "import matplotlib.pyplot as plt\n",
    "\n",
    "# Plot the clusters\n",
    "fig, ax = plt.subplots(figsize=(8, 6))\n",
    "scatter = ax.scatter(My_Orig_DF.iloc[:, 0], My_Orig_DF.iloc[:, 1], c=My_labels)\n",
    "plt.xlabel('Feature 1')\n",
    "plt.ylabel('Feature 2')\n",
    "plt.title('K-means Clustering (K=4)')\n",
    "# Add a legend\n",
    "legend1 = ax.legend(*scatter.legend_elements(),\n",
    "                    loc=\"upper right\", title=\"Clusters\")\n",
    "ax.add_artist(legend1)\n",
    "plt.show()"
   ]
  },
  {
   "cell_type": "code",
   "execution_count": 148,
   "id": "194d46c1",
   "metadata": {},
   "outputs": [
    {
     "name": "stdout",
     "output_type": "stream",
     "text": [
      "[[ 0.     1.     1.    ...  1.     1.     1.   ]\n",
      " [ 1.    -0.     0.524 ...  0.613  0.783  0.592]\n",
      " [ 1.     0.524 -0.    ...  0.578  0.588  0.5  ]\n",
      " ...\n",
      " [ 1.     0.613  0.578 ...  0.     0.776  0.684]\n",
      " [ 1.     0.783  0.588 ...  0.776  0.     0.646]\n",
      " [ 1.     0.592  0.5   ...  0.684  0.646  0.   ]]\n"
     ]
    }
   ],
   "source": [
    "print(np.round(cosdist,3))  #cos dist should be .02"
   ]
  },
  {
   "cell_type": "markdown",
   "id": "2666e3f0",
   "metadata": {},
   "source": [
    "### Elbow Plot for number of clusters"
   ]
  },
  {
   "cell_type": "code",
   "execution_count": 159,
   "id": "f63894c2",
   "metadata": {},
   "outputs": [
    {
     "name": "stderr",
     "output_type": "stream",
     "text": [
      "C:\\Users\\jeetp\\anaconda3\\lib\\site-packages\\sklearn\\cluster\\_kmeans.py:1036: UserWarning:\n",
      "\n",
      "KMeans is known to have a memory leak on Windows with MKL, when there are less chunks than available threads. You can avoid it by setting the environment variable OMP_NUM_THREADS=1.\n",
      "\n"
     ]
    },
    {
     "data": {
      "image/png": "[encoded data removed]",
      "text/plain": [
       "<Figure size 432x288 with 1 Axes>"
      ]
     },
     "metadata": {
      "needs_background": "light"
     },
     "output_type": "display_data"
    }
   ],
   "source": [
    "wcss = []\n",
    "for k in range(1, 5):\n",
    "    kmeans = KMeans(n_clusters=k, init='k-means++', max_iter=300, n_init=10, random_state=0)\n",
    "    kmeans.fit(My_Orig_DF)\n",
    "    wcss.append(kmeans.inertia_)\n",
    "\n",
    "# Plot the results\n",
    "plt.plot(range(1, 5), wcss)\n",
    "plt.title('Elbow Method')\n",
    "plt.xlabel('Number of clusters')\n",
    "plt.ylabel('Within-cluster sum of squares')\n",
    "plt.show()"
   ]
  },
  {
   "cell_type": "markdown",
   "id": "f8ef92b1",
   "metadata": {},
   "source": [
    "### Silhouette method"
   ]
  },
  {
   "cell_type": "code",
   "execution_count": 163,
   "id": "6f32bef0",
   "metadata": {},
   "outputs": [
    {
     "data": {
      "image/png": "[encoded data removed]",
      "text/plain": [
       "<Figure size 432x288 with 1 Axes>"
      ]
     },
     "metadata": {
      "needs_background": "light"
     },
     "output_type": "display_data"
    }
   ],
   "source": [
    "silhouette_scores = []\n",
    "for k in range(2, 5):\n",
    "    kmeans = KMeans(n_clusters=k, init='k-means++', max_iter=300, n_init=10, random_state=0)\n",
    "    cluster_labels = kmeans.fit_predict(My_Orig_DF)\n",
    "    silhouette_avg = silhouette_score(My_Orig_DF, My_labels)\n",
    "    silhouette_scores.append(silhouette_avg)\n",
    "\n",
    "# Plot the results\n",
    "plt.plot(range(2, 5), silhouette_scores)\n",
    "plt.title('Silhouette Method')\n",
    "plt.xlabel('Number of clusters')\n",
    "plt.ylabel('Silhouette score')\n",
    "plt.show()"
   ]
  },
  {
   "cell_type": "code",
   "execution_count": 165,
   "id": "109e2c1b",
   "metadata": {},
   "outputs": [
    {
     "data": {
      "text/html": [
       "<div>\n",
       "<style scoped>\n",
       "    .dataframe tbody tr th:only-of-type {\n",
       "        vertical-align: middle;\n",
       "    }\n",
       "\n",
       "    .dataframe tbody tr th {\n",
       "        vertical-align: top;\n",
       "    }\n",
       "\n",
       "    .dataframe thead th {\n",
       "        text-align: right;\n",
       "    }\n",
       "</style>\n",
       "<table border=\"1\" class=\"dataframe\">\n",
       "  <thead>\n",
       "    <tr style=\"text-align: right;\">\n",
       "      <th></th>\n",
       "      <th>according</th>\n",
       "      <th>account</th>\n",
       "      <th>back</th>\n",
       "      <th>billion</th>\n",
       "      <th>billionaire</th>\n",
       "      <th>blank</th>\n",
       "      <th>blue</th>\n",
       "      <th>chief</th>\n",
       "      <th>company</th>\n",
       "      <th>defend</th>\n",
       "      <th>...</th>\n",
       "      <th>testified</th>\n",
       "      <th>told</th>\n",
       "      <th>took</th>\n",
       "      <th>trial</th>\n",
       "      <th>tsla</th>\n",
       "      <th>tweet</th>\n",
       "      <th>tweeted</th>\n",
       "      <th>twitter</th>\n",
       "      <th>week</th>\n",
       "      <th>year</th>\n",
       "    </tr>\n",
       "  </thead>\n",
       "  <tbody>\n",
       "    <tr>\n",
       "      <th>0</th>\n",
       "      <td>0</td>\n",
       "      <td>0</td>\n",
       "      <td>0</td>\n",
       "      <td>0</td>\n",
       "      <td>0</td>\n",
       "      <td>0</td>\n",
       "      <td>0</td>\n",
       "      <td>0</td>\n",
       "      <td>0</td>\n",
       "      <td>0</td>\n",
       "      <td>...</td>\n",
       "      <td>0</td>\n",
       "      <td>0</td>\n",
       "      <td>0</td>\n",
       "      <td>0</td>\n",
       "      <td>0</td>\n",
       "      <td>0</td>\n",
       "      <td>0</td>\n",
       "      <td>0</td>\n",
       "      <td>0</td>\n",
       "      <td>0</td>\n",
       "    </tr>\n",
       "    <tr>\n",
       "      <th>1</th>\n",
       "      <td>0</td>\n",
       "      <td>0</td>\n",
       "      <td>1</td>\n",
       "      <td>0</td>\n",
       "      <td>0</td>\n",
       "      <td>0</td>\n",
       "      <td>0</td>\n",
       "      <td>1</td>\n",
       "      <td>0</td>\n",
       "      <td>1</td>\n",
       "      <td>...</td>\n",
       "      <td>0</td>\n",
       "      <td>0</td>\n",
       "      <td>1</td>\n",
       "      <td>0</td>\n",
       "      <td>0</td>\n",
       "      <td>2</td>\n",
       "      <td>0</td>\n",
       "      <td>0</td>\n",
       "      <td>0</td>\n",
       "      <td>0</td>\n",
       "    </tr>\n",
       "    <tr>\n",
       "      <th>2</th>\n",
       "      <td>0</td>\n",
       "      <td>0</td>\n",
       "      <td>0</td>\n",
       "      <td>0</td>\n",
       "      <td>0</td>\n",
       "      <td>0</td>\n",
       "      <td>0</td>\n",
       "      <td>0</td>\n",
       "      <td>0</td>\n",
       "      <td>0</td>\n",
       "      <td>...</td>\n",
       "      <td>0</td>\n",
       "      <td>0</td>\n",
       "      <td>0</td>\n",
       "      <td>1</td>\n",
       "      <td>0</td>\n",
       "      <td>1</td>\n",
       "      <td>0</td>\n",
       "      <td>0</td>\n",
       "      <td>1</td>\n",
       "      <td>0</td>\n",
       "    </tr>\n",
       "    <tr>\n",
       "      <th>3</th>\n",
       "      <td>1</td>\n",
       "      <td>0</td>\n",
       "      <td>0</td>\n",
       "      <td>0</td>\n",
       "      <td>0</td>\n",
       "      <td>0</td>\n",
       "      <td>0</td>\n",
       "      <td>0</td>\n",
       "      <td>0</td>\n",
       "      <td>1</td>\n",
       "      <td>...</td>\n",
       "      <td>0</td>\n",
       "      <td>0</td>\n",
       "      <td>1</td>\n",
       "      <td>0</td>\n",
       "      <td>0</td>\n",
       "      <td>1</td>\n",
       "      <td>0</td>\n",
       "      <td>0</td>\n",
       "      <td>0</td>\n",
       "      <td>0</td>\n",
       "    </tr>\n",
       "    <tr>\n",
       "      <th>4</th>\n",
       "      <td>0</td>\n",
       "      <td>0</td>\n",
       "      <td>0</td>\n",
       "      <td>0</td>\n",
       "      <td>0</td>\n",
       "      <td>0</td>\n",
       "      <td>0</td>\n",
       "      <td>0</td>\n",
       "      <td>1</td>\n",
       "      <td>0</td>\n",
       "      <td>...</td>\n",
       "      <td>0</td>\n",
       "      <td>0</td>\n",
       "      <td>0</td>\n",
       "      <td>0</td>\n",
       "      <td>0</td>\n",
       "      <td>0</td>\n",
       "      <td>0</td>\n",
       "      <td>0</td>\n",
       "      <td>0</td>\n",
       "      <td>0</td>\n",
       "    </tr>\n",
       "    <tr>\n",
       "      <th>...</th>\n",
       "      <td>...</td>\n",
       "      <td>...</td>\n",
       "      <td>...</td>\n",
       "      <td>...</td>\n",
       "      <td>...</td>\n",
       "      <td>...</td>\n",
       "      <td>...</td>\n",
       "      <td>...</td>\n",
       "      <td>...</td>\n",
       "      <td>...</td>\n",
       "      <td>...</td>\n",
       "      <td>...</td>\n",
       "      <td>...</td>\n",
       "      <td>...</td>\n",
       "      <td>...</td>\n",
       "      <td>...</td>\n",
       "      <td>...</td>\n",
       "      <td>...</td>\n",
       "      <td>...</td>\n",
       "      <td>...</td>\n",
       "      <td>...</td>\n",
       "    </tr>\n",
       "    <tr>\n",
       "      <th>95</th>\n",
       "      <td>0</td>\n",
       "      <td>0</td>\n",
       "      <td>0</td>\n",
       "      <td>0</td>\n",
       "      <td>0</td>\n",
       "      <td>0</td>\n",
       "      <td>0</td>\n",
       "      <td>0</td>\n",
       "      <td>0</td>\n",
       "      <td>0</td>\n",
       "      <td>...</td>\n",
       "      <td>0</td>\n",
       "      <td>0</td>\n",
       "      <td>0</td>\n",
       "      <td>0</td>\n",
       "      <td>0</td>\n",
       "      <td>0</td>\n",
       "      <td>0</td>\n",
       "      <td>1</td>\n",
       "      <td>1</td>\n",
       "      <td>0</td>\n",
       "    </tr>\n",
       "    <tr>\n",
       "      <th>96</th>\n",
       "      <td>0</td>\n",
       "      <td>0</td>\n",
       "      <td>0</td>\n",
       "      <td>0</td>\n",
       "      <td>0</td>\n",
       "      <td>0</td>\n",
       "      <td>0</td>\n",
       "      <td>0</td>\n",
       "      <td>0</td>\n",
       "      <td>0</td>\n",
       "      <td>...</td>\n",
       "      <td>0</td>\n",
       "      <td>0</td>\n",
       "      <td>0</td>\n",
       "      <td>0</td>\n",
       "      <td>0</td>\n",
       "      <td>0</td>\n",
       "      <td>0</td>\n",
       "      <td>0</td>\n",
       "      <td>0</td>\n",
       "      <td>0</td>\n",
       "    </tr>\n",
       "    <tr>\n",
       "      <th>97</th>\n",
       "      <td>0</td>\n",
       "      <td>0</td>\n",
       "      <td>0</td>\n",
       "      <td>0</td>\n",
       "      <td>0</td>\n",
       "      <td>0</td>\n",
       "      <td>0</td>\n",
       "      <td>0</td>\n",
       "      <td>0</td>\n",
       "      <td>0</td>\n",
       "      <td>...</td>\n",
       "      <td>0</td>\n",
       "      <td>0</td>\n",
       "      <td>1</td>\n",
       "      <td>0</td>\n",
       "      <td>0</td>\n",
       "      <td>0</td>\n",
       "      <td>0</td>\n",
       "      <td>1</td>\n",
       "      <td>0</td>\n",
       "      <td>0</td>\n",
       "    </tr>\n",
       "    <tr>\n",
       "      <th>98</th>\n",
       "      <td>0</td>\n",
       "      <td>0</td>\n",
       "      <td>0</td>\n",
       "      <td>0</td>\n",
       "      <td>0</td>\n",
       "      <td>1</td>\n",
       "      <td>0</td>\n",
       "      <td>0</td>\n",
       "      <td>1</td>\n",
       "      <td>0</td>\n",
       "      <td>...</td>\n",
       "      <td>0</td>\n",
       "      <td>0</td>\n",
       "      <td>0</td>\n",
       "      <td>1</td>\n",
       "      <td>2</td>\n",
       "      <td>0</td>\n",
       "      <td>0</td>\n",
       "      <td>0</td>\n",
       "      <td>1</td>\n",
       "      <td>0</td>\n",
       "    </tr>\n",
       "    <tr>\n",
       "      <th>99</th>\n",
       "      <td>0</td>\n",
       "      <td>0</td>\n",
       "      <td>0</td>\n",
       "      <td>0</td>\n",
       "      <td>0</td>\n",
       "      <td>0</td>\n",
       "      <td>0</td>\n",
       "      <td>0</td>\n",
       "      <td>0</td>\n",
       "      <td>0</td>\n",
       "      <td>...</td>\n",
       "      <td>0</td>\n",
       "      <td>0</td>\n",
       "      <td>0</td>\n",
       "      <td>0</td>\n",
       "      <td>0</td>\n",
       "      <td>0</td>\n",
       "      <td>0</td>\n",
       "      <td>0</td>\n",
       "      <td>0</td>\n",
       "      <td>0</td>\n",
       "    </tr>\n",
       "  </tbody>\n",
       "</table>\n",
       "<p>100 rows × 50 columns</p>\n",
       "</div>"
      ],
      "text/plain": [
       "    according  account  back  billion  billionaire  blank  blue  chief  \\\n",
       "0           0        0     0        0            0      0     0      0   \n",
       "1           0        0     1        0            0      0     0      1   \n",
       "2           0        0     0        0            0      0     0      0   \n",
       "3           1        0     0        0            0      0     0      0   \n",
       "4           0        0     0        0            0      0     0      0   \n",
       "..        ...      ...   ...      ...          ...    ...   ...    ...   \n",
       "95          0        0     0        0            0      0     0      0   \n",
       "96          0        0     0        0            0      0     0      0   \n",
       "97          0        0     0        0            0      0     0      0   \n",
       "98          0        0     0        0            0      1     0      0   \n",
       "99          0        0     0        0            0      0     0      0   \n",
       "\n",
       "    company  defend  ...  testified  told  took  trial  tsla  tweet  tweeted  \\\n",
       "0         0       0  ...          0     0     0      0     0      0        0   \n",
       "1         0       1  ...          0     0     1      0     0      2        0   \n",
       "2         0       0  ...          0     0     0      1     0      1        0   \n",
       "3         0       1  ...          0     0     1      0     0      1        0   \n",
       "4         1       0  ...          0     0     0      0     0      0        0   \n",
       "..      ...     ...  ...        ...   ...   ...    ...   ...    ...      ...   \n",
       "95        0       0  ...          0     0     0      0     0      0        0   \n",
       "96        0       0  ...          0     0     0      0     0      0        0   \n",
       "97        0       0  ...          0     0     1      0     0      0        0   \n",
       "98        1       0  ...          0     0     0      1     2      0        0   \n",
       "99        0       0  ...          0     0     0      0     0      0        0   \n",
       "\n",
       "    twitter  week  year  \n",
       "0         0     0     0  \n",
       "1         0     0     0  \n",
       "2         0     1     0  \n",
       "3         0     0     0  \n",
       "4         0     0     0  \n",
       "..      ...   ...   ...  \n",
       "95        1     1     0  \n",
       "96        0     0     0  \n",
       "97        1     0     0  \n",
       "98        0     1     0  \n",
       "99        0     0     0  \n",
       "\n",
       "[100 rows x 50 columns]"
      ]
     },
     "execution_count": 165,
     "metadata": {},
     "output_type": "execute_result"
    }
   ],
   "source": [
    "My_Orig_DF"
   ]
  },
  {
   "cell_type": "markdown",
   "id": "174a6d2b",
   "metadata": {},
   "source": [
    "## Hierarchical Clustering"
   ]
  },
  {
   "cell_type": "code",
   "execution_count": 150,
   "id": "8ea3197c",
   "metadata": {},
   "outputs": [
    {
     "name": "stdout",
     "output_type": "stream",
     "text": [
      "[[2.60000000e+01 6.60000000e+01 0.00000000e+00 2.00000000e+00]\n",
      " [3.40000000e+01 4.00000000e+01 0.00000000e+00 2.00000000e+00]\n",
      " [4.30000000e+01 1.01000000e+02 0.00000000e+00 3.00000000e+00]\n",
      " [4.90000000e+01 9.90000000e+01 0.00000000e+00 2.00000000e+00]\n",
      " [6.20000000e+01 7.20000000e+01 0.00000000e+00 2.00000000e+00]\n",
      " [1.70000000e+01 2.00000000e+01 0.00000000e+00 2.00000000e+00]\n",
      " [4.50000000e+01 1.05000000e+02 0.00000000e+00 3.00000000e+00]\n",
      " [6.40000000e+01 7.70000000e+01 0.00000000e+00 2.00000000e+00]\n",
      " [1.02000000e+02 1.03000000e+02 1.71995011e-16 5.00000000e+00]\n",
      " [6.90000000e+01 9.80000000e+01 4.52182708e-01 2.00000000e+00]\n",
      " [9.00000000e+00 7.10000000e+01 5.82200295e-01 2.00000000e+00]\n",
      " [8.30000000e+01 8.60000000e+01 5.93783938e-01 2.00000000e+00]\n",
      " [7.30000000e+01 8.10000000e+01 6.10177091e-01 2.00000000e+00]\n",
      " [2.70000000e+01 1.08000000e+02 6.14624777e-01 6.00000000e+00]\n",
      " [7.00000000e+01 1.12000000e+02 6.54253163e-01 3.00000000e+00]\n",
      " [4.80000000e+01 5.40000000e+01 6.59751746e-01 2.00000000e+00]\n",
      " [6.70000000e+01 7.40000000e+01 6.97376339e-01 2.00000000e+00]\n",
      " [9.10000000e+01 1.11000000e+02 7.00278304e-01 3.00000000e+00]\n",
      " [5.20000000e+01 1.09000000e+02 7.18832023e-01 3.00000000e+00]\n",
      " [3.80000000e+01 1.17000000e+02 7.46265556e-01 4.00000000e+00]\n",
      " [2.00000000e+00 8.40000000e+01 7.56745817e-01 2.00000000e+00]\n",
      " [9.30000000e+01 9.60000000e+01 7.63769461e-01 2.00000000e+00]\n",
      " [5.70000000e+01 7.60000000e+01 7.72975144e-01 2.00000000e+00]\n",
      " [2.80000000e+01 5.50000000e+01 7.77053169e-01 2.00000000e+00]\n",
      " [5.90000000e+01 1.10000000e+02 8.09913325e-01 3.00000000e+00]\n",
      " [7.80000000e+01 1.14000000e+02 8.49102152e-01 4.00000000e+00]\n",
      " [1.30000000e+01 2.90000000e+01 8.61528906e-01 2.00000000e+00]\n",
      " [2.30000000e+01 2.40000000e+01 8.81872843e-01 2.00000000e+00]\n",
      " [1.50000000e+01 3.20000000e+01 8.98297202e-01 2.00000000e+00]\n",
      " [8.80000000e+01 9.20000000e+01 9.08965515e-01 2.00000000e+00]\n",
      " [8.90000000e+01 1.04000000e+02 9.17782851e-01 3.00000000e+00]\n",
      " [5.10000000e+01 1.18000000e+02 9.33568271e-01 4.00000000e+00]\n",
      " [3.50000000e+01 3.90000000e+01 9.64938555e-01 2.00000000e+00]\n",
      " [6.30000000e+01 1.19000000e+02 9.67018208e-01 5.00000000e+00]\n",
      " [1.60000000e+01 3.70000000e+01 9.78322208e-01 2.00000000e+00]\n",
      " [8.00000000e+01 8.50000000e+01 9.92312370e-01 2.00000000e+00]\n",
      " [6.10000000e+01 7.50000000e+01 9.97104332e-01 2.00000000e+00]\n",
      " [4.60000000e+01 1.21000000e+02 9.99154836e-01 3.00000000e+00]\n",
      " [1.20000000e+02 1.22000000e+02 1.00442617e+00 4.00000000e+00]\n",
      " [1.07000000e+02 1.15000000e+02 1.02227935e+00 4.00000000e+00]\n",
      " [1.00000000e+01 4.20000000e+01 1.02723966e+00 2.00000000e+00]\n",
      " [2.20000000e+01 6.50000000e+01 1.04385804e+00 2.00000000e+00]\n",
      " [5.60000000e+01 1.31000000e+02 1.05151971e+00 5.00000000e+00]\n",
      " [5.80000000e+01 9.00000000e+01 1.06917713e+00 2.00000000e+00]\n",
      " [1.80000000e+01 1.23000000e+02 1.09238228e+00 3.00000000e+00]\n",
      " [3.00000000e+00 4.10000000e+01 1.10270063e+00 2.00000000e+00]\n",
      " [1.24000000e+02 1.34000000e+02 1.10935902e+00 5.00000000e+00]\n",
      " [6.80000000e+01 1.42000000e+02 1.11587146e+00 6.00000000e+00]\n",
      " [8.00000000e+00 6.00000000e+01 1.11609584e+00 2.00000000e+00]\n",
      " [5.00000000e+00 1.90000000e+01 1.11873236e+00 2.00000000e+00]\n",
      " [2.50000000e+01 3.10000000e+01 1.13402310e+00 2.00000000e+00]\n",
      " [5.30000000e+01 9.50000000e+01 1.14673270e+00 2.00000000e+00]\n",
      " [8.70000000e+01 1.26000000e+02 1.15040700e+00 3.00000000e+00]\n",
      " [7.90000000e+01 1.37000000e+02 1.15161646e+00 4.00000000e+00]\n",
      " [6.00000000e+00 1.40000000e+01 1.19084821e+00 2.00000000e+00]\n",
      " [4.40000000e+01 4.70000000e+01 1.21452383e+00 2.00000000e+00]\n",
      " [2.10000000e+01 1.27000000e+02 1.21587277e+00 3.00000000e+00]\n",
      " [8.20000000e+01 1.29000000e+02 1.22185786e+00 3.00000000e+00]\n",
      " [3.00000000e+01 1.51000000e+02 1.25130757e+00 3.00000000e+00]\n",
      " [1.16000000e+02 1.38000000e+02 1.27097674e+00 6.00000000e+00]\n",
      " [1.32000000e+02 1.36000000e+02 1.37298122e+00 4.00000000e+00]\n",
      " [1.46000000e+02 1.52000000e+02 1.37613958e+00 8.00000000e+00]\n",
      " [1.00000000e+00 1.45000000e+02 1.38477614e+00 3.00000000e+00]\n",
      " [1.10000000e+01 3.60000000e+01 1.39549723e+00 2.00000000e+00]\n",
      " [1.40000000e+02 1.54000000e+02 1.43349379e+00 4.00000000e+00]\n",
      " [5.00000000e+01 1.50000000e+02 1.44091910e+00 3.00000000e+00]\n",
      " [7.00000000e+00 1.06000000e+02 1.46693293e+00 4.00000000e+00]\n",
      " [0.00000000e+00 1.00000000e+02 1.51098272e+00 3.00000000e+00]\n",
      " [4.00000000e+00 1.65000000e+02 1.52174435e+00 4.00000000e+00]\n",
      " [9.70000000e+01 1.48000000e+02 1.56726149e+00 3.00000000e+00]\n",
      " [9.40000000e+01 1.68000000e+02 1.59022604e+00 5.00000000e+00]\n",
      " [1.57000000e+02 1.60000000e+02 1.61274619e+00 7.00000000e+00]\n",
      " [1.44000000e+02 1.63000000e+02 1.67935248e+00 5.00000000e+00]\n",
      " [1.49000000e+02 1.72000000e+02 1.75455976e+00 7.00000000e+00]\n",
      " [1.28000000e+02 1.41000000e+02 1.76072304e+00 4.00000000e+00]\n",
      " [1.43000000e+02 1.58000000e+02 1.90676255e+00 5.00000000e+00]\n",
      " [1.25000000e+02 1.39000000e+02 1.91895363e+00 8.00000000e+00]\n",
      " [1.30000000e+02 1.61000000e+02 1.96128178e+00 1.10000000e+01]\n",
      " [1.35000000e+02 1.70000000e+02 1.97635126e+00 7.00000000e+00]\n",
      " [1.33000000e+02 1.53000000e+02 2.08135090e+00 9.00000000e+00]\n",
      " [1.64000000e+02 1.73000000e+02 2.16503993e+00 1.10000000e+01]\n",
      " [1.20000000e+01 1.66000000e+02 2.17540310e+00 5.00000000e+00]\n",
      " [1.55000000e+02 1.59000000e+02 2.17762552e+00 8.00000000e+00]\n",
      " [1.62000000e+02 1.82000000e+02 2.35544035e+00 1.10000000e+01]\n",
      " [1.75000000e+02 1.78000000e+02 2.59713970e+00 1.20000000e+01]\n",
      " [3.30000000e+01 1.47000000e+02 2.73173840e+00 7.00000000e+00]\n",
      " [1.71000000e+02 1.76000000e+02 2.86771402e+00 1.50000000e+01]\n",
      " [1.79000000e+02 1.84000000e+02 2.90609918e+00 2.10000000e+01]\n",
      " [1.69000000e+02 1.77000000e+02 2.94221948e+00 1.40000000e+01]\n",
      " [1.56000000e+02 1.74000000e+02 3.22888323e+00 7.00000000e+00]\n",
      " [1.80000000e+02 1.88000000e+02 4.12251820e+00 2.50000000e+01]\n",
      " [1.67000000e+02 1.89000000e+02 4.57166133e+00 1.00000000e+01]\n",
      " [1.83000000e+02 1.86000000e+02 4.76641490e+00 2.60000000e+01]\n",
      " [1.13000000e+02 1.87000000e+02 5.02574128e+00 2.70000000e+01]\n",
      " [1.85000000e+02 1.92000000e+02 5.98563474e+00 3.30000000e+01]\n",
      " [1.90000000e+02 1.93000000e+02 7.16763697e+00 5.20000000e+01]\n",
      " [1.81000000e+02 1.91000000e+02 7.51025485e+00 1.50000000e+01]\n",
      " [1.94000000e+02 1.95000000e+02 9.91327858e+00 8.50000000e+01]\n",
      " [1.96000000e+02 1.97000000e+02 1.62062265e+01 1.00000000e+02]]\n"
     ]
    },
    {
     "data": {
      "image/png": "[encoded data removed]",
      "text/plain": [
       "<Figure size 1800x720 with 1 Axes>"
      ]
     },
     "metadata": {
      "needs_background": "light"
     },
     "output_type": "display_data"
    }
   ],
   "source": [
    "#----------------------------------------------------------\n",
    "## Hierarchical Clustering using ward and cosine sim\n",
    "linkage_matrix = ward(cosdist) #define the linkage_matrix \n",
    "#using ward clustering pre-computed distances\n",
    "print(linkage_matrix)\n",
    "fig = plt.figure(figsize=(25, 10))\n",
    "dn = dendrogram(linkage_matrix)\n",
    "plt.show()"
   ]
  }
 ],
 "metadata": {
  "kernelspec": {
   "display_name": "Python 3 (ipykernel)",
   "language": "python",
   "name": "python3"
  },
  "language_info": {
   "codemirror_mode": {
    "name": "ipython",
    "version": 3
   },
   "file_extension": ".py",
   "mimetype": "text/x-python",
   "name": "python",
   "nbconvert_exporter": "python",
   "pygments_lexer": "ipython3",
   "version": "3.9.12"
  }
 },
 "nbformat": 4,
 "nbformat_minor": 5
}
